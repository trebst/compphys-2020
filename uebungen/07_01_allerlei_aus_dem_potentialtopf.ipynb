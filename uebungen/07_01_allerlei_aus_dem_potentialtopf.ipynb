{
 "cells": [
  {
   "cell_type": "markdown",
   "metadata": {},
   "source": [
    "<table style=\"width: 100%; border-style: none;\">\n",
    "<tr style=\"border-style: none\">\n",
    "<td style=\"border-style: none; width: 1%; text-align: left; font-size: 16px\">Institut f&uuml;r Theoretische Physik<br /> Universit&auml;t zu K&ouml;ln</td>\n",
    "<td style=\"border-style: none; width: 1%; font-size: 16px\">&nbsp;</td>\n",
    "<td style=\"border-style: none; width: 1%; text-align: right; font-size: 16px\">Prof. Dr. Simon Trebst<br />Jan Attig</td>\n",
    "</tr>\n",
    "</table>\n",
    "<hr>\n",
    "<h1 style=\"font-weight:bold; text-align: center; margin: 0px; font-size: 30px; padding:0px;\">Computerphysik</h1>\n",
    "<h1 style=\"font-weight:bold; text-align: center; margin: 0px; font-size: 30px; padding:0px;\">Übungsblatt 7</h1>\n",
    "<hr>\n",
    "<h3 style=\"font-weight:bold; text-align: center; margin: 0px; font-size: 20px; padding:0px; margin-bottom: 20px;\">Sommersemester 2020</h3>\n",
    "<hr>\n",
    "\n",
    "**Website** [http://www.thp.uni-koeln.de/trebst/Lectures/2020-CompPhys.shtml](http://www.thp.uni-koeln.de/trebst/Lectures/2020-CompPhys.shtml)\n",
    "\n",
    "**Abgabe**:  8.6.2020 bis 13:00 Uhr\n",
    "\n",
    "**Besprechung**:  10.6.2020 - 12.6.2020\n",
    "\n",
    "**Name**: <font color=\"red\">Bitte geben Sie ihren Namen an</font>\n",
    "\n",
    "**Matrikelnummer**: <font color=\"red\">Bitte geben Sie ihre Matrikelnummer an</font>"
   ]
  },
  {
   "cell_type": "markdown",
   "metadata": {},
   "source": [
    "<table style=\"border-style: none; width: 100%\"><tr style=\"border-style: none;\">\n",
    "<td style=\"border-style: none; width: 1%; text-align: left; font-size: 25px; font-weight: bold; text-decoration: underline\">Aufgaben auf Übungsblatt 7</td>\n",
    "<td style=\"border-style: none; width: 1%; text-align: right; font-size: 15px\"></td></tr></table>\n",
    "\n",
    "- **Allerlei aus dem Potentialtopf** [10 Punkte]\n",
    "- Pendeln in der Quantenwelt [10 Punkte]\n",
    "- (Bonus) Pendeln im Potentialtopf [10 Bonus-Punkte]\n"
   ]
  },
  {
   "cell_type": "markdown",
   "metadata": {},
   "source": [
    "<table style=\"border-style: none; width: 100%\"><tr style=\"border-style: none;\">\n",
    "<td style=\"border-style: none; width: 1%; text-align: left; font-size: 25px; font-weight: bold; text-decoration: underline\">Allerlei aus dem Potentialtopf</td>\n",
    "<td style=\"border-style: none; width: 1%; text-align: right; font-size: 15px\">[0 Punkte]</td></tr></table>"
   ]
  },
  {
   "cell_type": "markdown",
   "metadata": {},
   "source": [
    "In unserem ersten Beispiel wollen wir ein quantenmechanisches Teilchen verfolgen, welches wir nicht nur in eine Raumdimension zwängen sondern auch noch in einen sogenannten **Potentialtopf** sperren. Eine derartige Situation lässt sich dann durch die *zeitunabhängige* Schrödinger-Gleichung in einer Dimension\n",
    "\n",
    "\\begin{equation}\n",
    "\\left[-\\frac{1}{2}\\frac{d^2}{d x^2} + V(x)\\right]\\psi(x) = E\\psi(x) \\,,\n",
    "\\end{equation}\n",
    "\n",
    "beschreiben, wobei wir $\\hbar=m=1$ gesetzt haben. Beachten Sie, dass es sich hierbei um eine *gewöhnliche* Differentialgleichung handelt.\n",
    "\n",
    "Diese Schrödinger-Gleichung wollen wir nun für verschiedene Potentiale $V(x)$ anhand des in der Vorlesung vorgestellten **Numerov-Algorithmus** numerisch exakt lösen.\n",
    "\n",
    "Dazu können wir wie folgt vorgehen: Wir diskretisieren die $x$-Achse im Bereich -$1.0 \\leq x \\leq 1.0$ in 1000 Abschnitte der Größe $\\Delta x = 0.002$. Desweiteren benötigen wir für das Numerov-Verfahren, in welchem wir die Schrödinger-Gleichung vom linken zum rechten Rand entlang der obigen Diskretisierungsschritte integrieren wollen, zwei Startwerte.\n",
    "\n",
    "Dazu vergegenwärtigen wir uns zum einen, dass die Wellenfunktion an den Rändern des Potentialtopfes wegen der unendlich hohen Wände verschwinden muss, wohingegen die Wellenfunktion innerhalb des Potentialtopfes durchaus einen endlichen Wert annehmen kann. Dies wollen wir mit den folgenden Startwerten des Numerov-Verfahrens in der Nähe des linken Randes wie folgt modellieren:\n",
    "\n",
    "\\begin{align}\n",
    "\\psi(x = -1.000) &= 0 \\,, \\\\\n",
    "\\psi(x = -0.998) &= 0.5 \\,,\n",
    "\\end{align}\n",
    "\n",
    "wobei die exakte Wahl des endlichen Wertes für $\\psi(x = -0.998)$ unerheblich ist, da wir die Wellenfunktion nach Integration durch das Numerov-Verfahren unabhänging von dieser Wahl normieren müssen."
   ]
  },
  {
   "cell_type": "markdown",
   "metadata": {},
   "source": [
    "### a) Implementation der Numerov Integration\n",
    "\n",
    "Implementieren Sie eine Funktion, welche für ein gegebenens Potential $V(x)$ und eine vorgegebene Energie die Numerov-Integration der Wellenfunktion durchführt und diese danach zurück gibt. Beachten Sie, dass diese Wellenfunktion **noch nicht** die Randbedingung erfüllen muss, da wir in diesem Aufgabenteil noch keine Bedingungen an die Energie stellen."
   ]
  },
  {
   "cell_type": "code",
   "execution_count": null,
   "metadata": {},
   "outputs": [],
   "source": []
  },
  {
   "cell_type": "markdown",
   "metadata": {},
   "source": [
    "### b) Plot des Endwertes gegen die Energie\n",
    "\n",
    "Führen Sie die Numerov-Integration für den einfachen unendlich tiefen Potentialtopf ($V(x)=0$) für verschiedene fixe Energien $E$ aus, also zum Beispiel für 250 äquidistante Energiewerte im Bereich $-5 \\leq E \\leq 95$ und plotten Sie jeweils den Wert von $\\psi(x = +1)$ als Funktion der Energie.\n",
    "\n",
    "Die Nullstellen dieser Funktion entsprechen den erlaubten Eigenenergien, denn nur dann wird auch die Randbedingung am *rechten* Rand erfüllt, wo die Wellenfunktion ebenfalls verschwinden muss, d.h. $\\psi(x = +1) = 0$."
   ]
  },
  {
   "cell_type": "code",
   "execution_count": null,
   "metadata": {},
   "outputs": [],
   "source": []
  },
  {
   "attachments": {
    "08_potentiale.png": {
     "image/png": "[encoded data removed]"
    }
   },
   "cell_type": "markdown",
   "metadata": {},
   "source": [
    "### c) Nullstellensuche\n",
    "\n",
    "Implementieren Sie eine Nullstellensuche Ihrer Wahl mit derer Hilfe Sie die Nullstellen der eben geplotteten Funktion und damit die Eigenenergien des Potentialtopfes bestimmen können.\n",
    "\n",
    "Plotten Sie danach die Wellenfunktionen der ersten 5 Eigenzustände der folgenden Potentialtöpfe\n",
    "\n",
    "<img src=\"attachment:08_potentiale.png\" alt=\"drawing\" width=\"700\"/>"
   ]
  },
  {
   "cell_type": "code",
   "execution_count": null,
   "metadata": {},
   "outputs": [],
   "source": []
  }
 ],
 "metadata": {
  "@webio": {
   "lastCommId": null,
   "lastKernelId": null
  },
  "kernelspec": {
   "display_name": "Julia 1.4.0",
   "language": "julia",
   "name": "julia-1.4"
  },
  "language_info": {
   "file_extension": ".jl",
   "mimetype": "application/julia",
   "name": "julia",
   "version": "1.4.0"
  }
 },
 "nbformat": 4,
 "nbformat_minor": 1
}
