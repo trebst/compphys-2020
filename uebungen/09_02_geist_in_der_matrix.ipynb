{
 "cells": [
  {
   "cell_type": "markdown",
   "metadata": {},
   "source": [
    "<table style=\"width: 100%; border-style: none;\">\n",
    "<tr style=\"border-style: none\">\n",
    "<td style=\"border-style: none; width: 1%; text-align: left; font-size: 16px\">Institut f&uuml;r Theoretische Physik<br /> Universit&auml;t zu K&ouml;ln</td>\n",
    "<td style=\"border-style: none; width: 1%; font-size: 16px\">&nbsp;</td>\n",
    "<td style=\"border-style: none; width: 1%; text-align: right; font-size: 16px\">Prof. Dr. Simon Trebst<br />Jan Attig</td>\n",
    "</tr>\n",
    "</table>\n",
    "<hr>\n",
    "<h1 style=\"font-weight:bold; text-align: center; margin: 0px; font-size: 30px; padding:0px;\">Computerphysik</h1>\n",
    "<h1 style=\"font-weight:bold; text-align: center; margin: 0px; font-size: 30px; padding:0px;\">Übungsblatt 9</h1>\n",
    "<hr>\n",
    "<h3 style=\"font-weight:bold; text-align: center; margin: 0px; font-size: 20px; padding:0px; margin-bottom: 20px;\">Sommersemester 2020</h3>\n",
    "<hr>\n",
    "\n",
    "**Website** [http://www.thp.uni-koeln.de/trebst/Lectures/2020-CompPhys.shtml](http://www.thp.uni-koeln.de/trebst/Lectures/2020-CompPhys.shtml)\n",
    "\n",
    "**Abgabe**:  22.6.2020 bis 13:00 Uhr\n",
    "\n",
    "**Besprechung**:  24.6.2020 - 26.6.2020\n",
    "\n",
    "**Name**: <font color=\"red\">Bitte geben Sie ihren Namen an</font>\n",
    "\n",
    "**Matrikelnummer**: <font color=\"red\">Bitte geben Sie ihre Matrikelnummer an</font>"
   ]
  },
  {
   "cell_type": "markdown",
   "metadata": {},
   "source": [
    "<table style=\"border-style: none; width: 100%\"><tr style=\"border-style: none;\">\n",
    "<td style=\"border-style: none; width: 1%; text-align: left; font-size: 25px; font-weight: bold; text-decoration: underline\">Aufgaben auf Übungsblatt 9</td>\n",
    "<td style=\"border-style: none; width: 1%; text-align: right; font-size: 15px\"></td></tr></table>\n",
    "\n",
    "- Hofstadter Butterfly [8 Punkte]\n",
    "- **Der Geist in der Matrix** [12 Punkte]\n",
    "- (Bonus) Wie eine Düne im Wind [10 Bonus-Punkte]\n"
   ]
  },
  {
   "cell_type": "markdown",
   "metadata": {},
   "source": [
    "<table style=\"border-style: none; width: 100%\"><tr style=\"border-style: none;\">\n",
    "<td style=\"border-style: none; width: 1%; text-align: left; font-size: 25px; font-weight: bold; text-decoration: underline\">Der Geist in der Matrix</td>\n",
    "<td style=\"border-style: none; width: 1%; text-align: right; font-size: 15px\">[12 Punkte]</td></tr></table>"
   ]
  },
  {
   "cell_type": "markdown",
   "metadata": {},
   "source": [
    "In der nachfolgenden Aufgabe wollen wir uns mit der numerischen Berechnung von Eigenwerten mittels Lanczos Algorithmus beschäftigen. Dafür werden Sie zuerst eine einfache Matrix mittels **Power-Methode** untersuchen und schließlich in einem zweiten Teil einen gegebenen Hamiltonian mittels **Lanczos Algorithmus**."
   ]
  },
  {
   "cell_type": "markdown",
   "metadata": {},
   "source": [
    "### Teil A: Power-Methode\n",
    "Der erste Schritt auf dem Weg zum Verständnis des Lanczos Algorithmus ist die **Power-Methode**. Wir beginnen mit einer Matrix $H$ und einem Startvektor $b_0$. Diesen Vektor iterieren wir mithilfe der Relation\n",
    "\n",
    "\\begin{equation}\n",
    "b_{k + 1} = \\dfrac{H b_k}{|H b_k|}\n",
    "\\end{equation}\n",
    "\n",
    "In dieser Aufgabe starten wir mit dem Vektor $\\left(1, 1, 1, 1\\right)^T$ und suchen nach dem größten Eigenwert der Matrix\n",
    "\\begin{equation}\n",
    "H = \n",
    "\\begin{pmatrix}\n",
    "1 && 1 && 1 && 1 \\\\\n",
    "1.1 && 1.2 && 1.3 && 1.4 \\\\\n",
    "1.1 && 1.4 && 1.9  && 1.16 \\\\\n",
    "1.1 && 1.8 && 1.27 && 1.64\n",
    "\\end{pmatrix}\n",
    "\\end{equation}\n",
    "\n",
    "(1) Berechnen Sie die Eigenwerte und Eigenvektoren der Matrix mittels der Julia Funktion *eig*\n",
    "\n",
    "(2) Iterieren Sie den Startvektor gemäß der oben angegebenen Vorschrift und plotten Sie die Norm des Differenzvektors zwischen $b_k$ und dem korrespondierenden exakten Eigenvektor als Funktion des Iterationsschritts $k$."
   ]
  },
  {
   "cell_type": "code",
   "execution_count": null,
   "metadata": {},
   "outputs": [],
   "source": []
  },
  {
   "cell_type": "markdown",
   "metadata": {},
   "source": [
    "### Teil B: Lanczos\n",
    "\n",
    "Wie Sie in der Vorlesung gesehen haben, funktioniert der **Lanczos**-Algorithmus sehr ähnlich, erlaubt aber die Bestimmung mehrerer Eigenwerte und Eigenvektoren. Insbesondere in der Vielteilchenphysik ist das Lanczos-Verfahren ein absolutes Standardverfahren, um exakte Informationen über ein Modell zu erhalten. \n",
    "\n",
    "In dieser Aufgabe betrachten wir eine Kette aus sogenannten *hard core bosons*, die wir mit einem Hamiltonian beschreiben, der Ihnen vielleicht vom harmonischen Oszillator ein wenig vertraut erscheinen mag:\n",
    "\n",
    "\\begin{equation}\n",
    "H = -t\\sum\\limits_{\\langle i, j \\rangle}\\left( a_i^\\dagger a_j^{\\phantom\\dagger} + h.c.\\right) + V\\sum\\limits_{\\langle i, j \\rangle}n_i n_j\n",
    "\\end{equation}\n",
    "\n",
    "Die Summen laufen über benachbarte Gitterplätze $i$ und $j$, was typischerweise durch die Klammer $\\langle \\dots\\rangle$ angezeigt wird. In der ersten Summe werden nun Teilchen auf Platz $j$ durch den Operator $a_j^{\\phantom\\dagger}$ vernichtet und am Platz $i$ mit $a_i^\\dagger$ erzeugt. Er beschreibt also einen Hüpfvorgang und steht für die kinetische Energie des Systems. Mit dem negativen Vorfaktor $-t$ erkennen wir, dass die Energie niedriger ist, je mobiler die Teilchen sind. In der zweiten Summe werden nun die Teilchenzahlen $n_i$ auf benachbarten Gitterplätzen betrachtet, weshalb dieser Teil die potentielle Energie des Systems darstellt. \n",
    "\n",
    "Eine Besonderheit, die das Aufstellen des Hamiltonians erleichtert ist, dass hard core bosonen zwar bosonischen Kommutationsregeln unterliegen, es aber dennoch jeder Zustand nur durch maximal ein Boson besetzt werden darf, sie also einer Art Pauli-Prinzip unterliegen. Das Austellen der Matrix geschieht in dem untenstehenden, ausführlich kommentierten Code."
   ]
  },
  {
   "cell_type": "code",
   "execution_count": null,
   "metadata": {},
   "outputs": [],
   "source": [
    "# Anzahl der Plaetze auf der Kette\n",
    "N = 8 \n",
    "# Anzahl der Teilchen\n",
    "p = Int(N / 2) \n",
    "\n",
    "# Groesse des Hilbertraum, verteile p Teilchen auf N Plaetze\n",
    "n_states = binomial(N, p)\n",
    "# Array der die Zustaende speichert\n",
    "states = zeros(Int8, N, n_states)\n",
    "# Zaehler fuer Zustand\n",
    "idx = [0]\n",
    "\n",
    "t = -1. # Hoppingstaerke ~ kinetische Energie\n",
    "V = -1. # Wechselwirkung ~ potentielle Energie\n",
    "\n",
    "# Funktion wird rekursiv aufgerufen\n",
    "function fill(state, pos, N, p, idx, states)\n",
    "    # Abbruch wenn Gitterplatz ausserhalb der Kette gefuellt werden soll\n",
    "    if pos > N\n",
    "        # stimmt die Teilchenzahl?\n",
    "        if sum(state) == p\n",
    "            #speichere Zustand und erhoehe Zaehler\n",
    "            idx[1] += 1\n",
    "            states[:, idx[1]] = state\n",
    "        end\n",
    "        return\n",
    "    end\n",
    "        \n",
    "    # lasse Position pos + 1 frei\n",
    "    fill(copy(state), pos + 1, N, p, idx, states)\n",
    "    # besetze Position pos + 1\n",
    "    state[pos] = 1\n",
    "    fill(copy(state), pos + 1, N, p, idx, states)\n",
    "end\n",
    "\n",
    "# erzeuge einen Referenzzustand\n",
    "state = zeros(Int, N)\n",
    "# fuelle Zustandsmatrix\n",
    "fill(copy(state), 1, N, p, idx, states)\n",
    "\n",
    "# der Hamiltonian ist eine duenn besetzte = sparse Matrix\n",
    "H = zeros(n_states, n_states)\n",
    "\n",
    "# iteriere ueber alle Zustandskombinationen\n",
    "for k in 1:n_states\n",
    "    for b in 1:n_states\n",
    "        \n",
    "        # Wende Hamiltonian an\n",
    "        for i in 1:N - 1\n",
    "            ket = copy(states[:, k])\n",
    "            bra = copy(states[:, b])\n",
    "            \n",
    "            # huepfen nur, wenn Zielplatz frei und Ausgangsplatz frei\n",
    "            if (ket[i] == 0 && ket[i + 1] == 1) || (ket[i] == 1 && ket[i + 1] == 0)\n",
    "                ket[i] = mod(ket[i] + 1, 2)\n",
    "                ket[i+1] = mod(ket[i] + 1, 2)\n",
    "                \n",
    "                # Sind bra und ket gleich? ^= Skalarprodukt\n",
    "                if maximum(abs.(ket - bra)) == 0\n",
    "                    H[b, k] += t\n",
    "                    H[k, b] += t\n",
    "                end\n",
    "            end\n",
    "            \n",
    "            # Wechselwirkung, wenn beide Plaetze besetzt\n",
    "            if ket[i] == 1 && ket[i + 1] == 1\n",
    "                # Sind bra und ket gleich? ^= Skalarprodukt\n",
    "                if maximum(abs.(ket - bra)) == 0\n",
    "                    H[b, k] += V\n",
    "                    H[k, b] += V\n",
    "                end\n",
    "            end\n",
    "        end\n",
    "    end\n",
    "end"
   ]
  },
  {
   "cell_type": "markdown",
   "metadata": {},
   "source": [
    "Diagonlisieren Sie mithilfe des Lanczos-Algorithmus diese Matrix iterativ mit 300 Iterationsschritten. Speichern Sie während des Iterationsvorgangs die ersten 20 Eigenwerte ab. Beachten Sie, dass der j-te Eigenwert erst ab dem j-ten Iterationsschritt zur Verfügung steht. Plotten Sie dann den Verlauf dieser Eigenwerte als Funktion des Iterationsschritts. Beschreiben Sie das Konvergenzverhalten. Konvergieren alle gleichzeitig? Ist das Ergebnis für alle Eigenwerte stabil?\n",
    "\n",
    "**Hinweis**\n",
    "\n",
    "Um die Berechnung der Eigenwerte zu beschleunigen, können Sie in Ihrem Algorithmus den Typ *SymTridiagonal* verwenden, der dann von Julia optimiert verarbeitet wird. Als Paramter übergeben Sie die Diagonale, sowie eine der Nebendiagonalen:"
   ]
  },
  {
   "cell_type": "code",
   "execution_count": null,
   "metadata": {},
   "outputs": [],
   "source": []
  }
 ],
 "metadata": {
  "kernelspec": {
   "display_name": "Julia 1.4.0",
   "language": "julia",
   "name": "julia-1.4"
  },
  "language_info": {
   "file_extension": ".jl",
   "mimetype": "application/julia",
   "name": "julia",
   "version": "1.4.0"
  }
 },
 "nbformat": 4,
 "nbformat_minor": 1
}
