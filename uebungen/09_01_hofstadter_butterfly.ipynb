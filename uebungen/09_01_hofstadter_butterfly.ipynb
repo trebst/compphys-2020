{
 "cells": [
  {
   "cell_type": "markdown",
   "metadata": {},
   "source": [
    "<table style=\"width: 100%; border-style: none;\">\n",
    "<tr style=\"border-style: none\">\n",
    "<td style=\"border-style: none; width: 1%; text-align: left; font-size: 16px\">Institut f&uuml;r Theoretische Physik<br /> Universit&auml;t zu K&ouml;ln</td>\n",
    "<td style=\"border-style: none; width: 1%; font-size: 16px\">&nbsp;</td>\n",
    "<td style=\"border-style: none; width: 1%; text-align: right; font-size: 16px\">Prof. Dr. Simon Trebst<br />Jan Attig</td>\n",
    "</tr>\n",
    "</table>\n",
    "<hr>\n",
    "<h1 style=\"font-weight:bold; text-align: center; margin: 0px; font-size: 30px; padding:0px;\">Computerphysik</h1>\n",
    "<h1 style=\"font-weight:bold; text-align: center; margin: 0px; font-size: 30px; padding:0px;\">Übungsblatt 9</h1>\n",
    "<hr>\n",
    "<h3 style=\"font-weight:bold; text-align: center; margin: 0px; font-size: 20px; padding:0px; margin-bottom: 20px;\">Sommersemester 2020</h3>\n",
    "<hr>\n",
    "\n",
    "**Website** [http://www.thp.uni-koeln.de/trebst/Lectures/2020-CompPhys.shtml](http://www.thp.uni-koeln.de/trebst/Lectures/2020-CompPhys.shtml)\n",
    "\n",
    "**Abgabe**:  22.6.2020 bis 13:00 Uhr\n",
    "\n",
    "**Besprechung**:  24.6.2020 - 26.6.2020\n",
    "\n",
    "**Name**: <font color=\"red\">Bitte geben Sie ihren Namen an</font>\n",
    "\n",
    "**Matrikelnummer**: <font color=\"red\">Bitte geben Sie ihre Matrikelnummer an</font>"
   ]
  },
  {
   "cell_type": "markdown",
   "metadata": {},
   "source": [
    "<table style=\"border-style: none; width: 100%\"><tr style=\"border-style: none;\">\n",
    "<td style=\"border-style: none; width: 1%; text-align: left; font-size: 25px; font-weight: bold; text-decoration: underline\">Aufgaben auf Übungsblatt 9</td>\n",
    "<td style=\"border-style: none; width: 1%; text-align: right; font-size: 15px\"></td></tr></table>\n",
    "\n",
    "- **Hofstadter Butterfly** [8 Punkte]\n",
    "- Der Geist in der Matrix [12 Punkte]\n",
    "- (Bonus) Wie eine Düne im Wind [10 Bonus-Punkte]\n"
   ]
  },
  {
   "cell_type": "markdown",
   "metadata": {},
   "source": [
    "<table style=\"border-style: none; width: 100%\"><tr style=\"border-style: none;\">\n",
    "<td style=\"border-style: none; width: 1%; text-align: left; font-size: 25px; font-weight: bold; text-decoration: underline\">Hofstadter Butterfly</td>\n",
    "<td style=\"border-style: none; width: 1%; text-align: right; font-size: 15px\">[8 Punkte]</td></tr></table>"
   ]
  },
  {
   "cell_type": "markdown",
   "metadata": {},
   "source": [
    "In dieser Aufgabe wollen wir die **Energieniveaus eines Elektrons** betrachten, welches sich auf einem zweidimensionalen Quadratgitter in Anwesenheit eines senkrecht zum Gitter stehenden Magnetfelds bewegt. Die entstehende Struktur ist der sogenannte **Hofstadter-Butterfly** -- benannt nach Douglas Hofstadter, welcher diesen während seiner [Doktorarbeit](http://journals.aps.org/prb/abstract/10.1103/PhysRevB.14.2239) 1976 entdeckt hat. Weithin bekannt geworden ist Douglas Hofstadter später durch sein Buch [Gödel, Escher, Bach](http://en.wikipedia.org/wiki/Goedel,_Escher,_Bach).\n",
    "\n",
    "Als ersten Schritt betrachten wir die Wellenfunktion des Elektrons welche in der *Landau-Eichung* des  elektromagnetischen Vektorpotenzials in zwei Teile entlang der $x$ und $y$-Richtung zerfällt\n",
    "\n",
    "\\begin{equation}\n",
    "\\psi(x,y)=g(x)f(y)=g(x) e^{i\\mu y},\n",
    "\\end{equation}\n",
    "\n",
    "wobei der Teil entlang der $y$-Richtung $f(y)$ von einer ebenen Wellen $f(y)=e^{i\\mu y}$ mit Wellenzahl $\\mu$ beschrieben wird und der Teil $g(x)$ in $x$-Richtung den Effekt des Magnetfelds enthält.\n",
    "\n",
    "Wir wollen uns fortan nur noch auf die $x$-Abhängigkeit konzentrieren. Die zeitunabhängige Schrödingergleichung führt zu einer Bestimmungsgleichung für $g(x)$, welche in Matrixschreibweise gegeben ist als\n",
    "\n",
    "\\begin{equation}\n",
    "\\begin{pmatrix}\n",
    "g(x+1) \\\\\n",
    "g(x)\n",
    "\\end{pmatrix} = \\underbrace{\\begin{pmatrix}\n",
    "\\epsilon-2\\cos(2\\pi x\\alpha-\\mu) & -1 \\\\\n",
    "1 & 0\n",
    "\\end{pmatrix}}_{=A(x)}\\begin{pmatrix}\n",
    "g(x) \\\\\n",
    "g(x-1)\n",
    "\\end{pmatrix},\n",
    "\\end{equation}\n",
    "\n",
    "wobei $\\epsilon$ die Energie des Elektrons ist und der Parameter $\\alpha$ den Magnetfluss durch eine Einheitszelle des Quadratgitters beschriebt. \n",
    "Wir\n",
    "sehen also, dass, wenn\n",
    "wir einen Startvektor $(g(1), g(0))$ kennen, wir alle weiteren Vektoren $(g(x+1), g(x))$ iterativ berechnen können als\n",
    "\\begin{equation}\n",
    "\\begin{pmatrix}\n",
    "g(x+1) \\\\\n",
    "g(x)\n",
    "\\end{pmatrix} = \\underbrace{\\left[\\prod\\limits_{j=1}^{x} A(j)\\right]}_{=Q(x)}\\cdot\\begin{pmatrix}\n",
    "g(1) \\\\\n",
    "g(0)\n",
    "\\end{pmatrix}.\n",
    "\\end{equation}\n",
    "Sei nun $\\alpha$ eine rationale Zahl, also $\\alpha=p/q$. Wenn wir $\\mu=\\pi/(2q)$ setzen, sehen wir, dass die Matrix $A(x)$ periodisch in $x$ ist mit Periode $q$. Man kann zeigen, dass in diesem Fall die Energieeigenwerte\n",
    "des Systems wie folgt berechnet werden können:\n",
    "- Wir gehen von einem unendlich ausgedehnten System aus. Da $A(x)$ die Periode $q$ hat, reicht es, für ein gegebenes $\\epsilon$ die folgende Matrix $Q$ auszurechnen:\n",
    "\\begin{equation}\n",
    "Q(q)=\\prod\\limits_{j=0}^{q-1} A(j).\n",
    "\\end{equation}\n",
    "\n",
    "- Wir müssen jetzt noch überprüfen, ob diese Energie $\\epsilon$ im System überhaupt vorkommen kann. Das\n",
    "  ist der Fall, wenn die von $Q(q)$ generierten Wellenfunktionen physikalisch sind(was hier gleichbedeutend dazu ist, dass sie beschränkt sind). Dies wiederum ist genau dann der Fall, wenn $|\\text{Spur}(Q)|\\leq 4$. \n",
    "\n",
    "Wir können also mit dem obigen Rechenverfahren das Spektrum der Energiebänder als Funktion von $\\alpha$ ausrechnen. Implementieren Sie dieses Verfahren, indem Sie für $\\alpha$ alle rationalen Zahlen zwischen 0 und 1 einsetzen, deren Nenner kleiner gleich 50 ist. Die Energie $\\epsilon$ können Sie dabei in 500 Schritten von -4 bis +4 laufen lassen. \n",
    "\n",
    "Für jedes Wertepaar $(\\epsilon, \\alpha)$ überprüfen Sie nun mit der obigen Anleitung, ob für $\\epsilon$ eine sinnvolle Wellenfunktion generiert wird. Falls ja, ist $\\epsilon$  ein erlaubter Eigenwert. Plotten Sie in diesem Fall einen Punkt bei $(\\epsilon, \\alpha)$. Die sich so ergebende Struktur ist eben jener, oben erwähnter Hofstadter Butterfly.\n",
    "\n",
    "**Experimentell** wurde der Hofstadter-Butterfly erst kürzlich zum ersten Mal beobachtet. Zum einen 2012/13 in einatomigen Lagen von **Graphen**, siehe dazu diese Veröffentlichungen\n",
    "von [Philip Kim's Gruppe](http://arxiv.org/abs/1212.4783), [Andre Geim's Gruppe](http://arxiv.org/abs/1212.5012)\n",
    "und [Ray Ashoori's Gruppe](http://arxiv.org/abs/1303.6942) Zum anderen 2013 in **ultrakalten Atomen** in optischen Gittern in [Immanuel Bloch's Gruppe](http://arxiv.org/abs/1308.0321), wozu auch diese [Zusammenfassung](http://physics.aps.org/articles/v6/118) sehr lesenswert ist.\n",
    "\n",
    "\n",
    "\n"
   ]
  },
  {
   "cell_type": "code",
   "execution_count": null,
   "metadata": {},
   "outputs": [],
   "source": []
  }
 ],
 "metadata": {
  "@webio": {
   "lastCommId": null,
   "lastKernelId": null
  },
  "kernelspec": {
   "display_name": "Julia 1.4.0",
   "language": "julia",
   "name": "julia-1.4"
  },
  "language_info": {
   "file_extension": ".jl",
   "mimetype": "application/julia",
   "name": "julia",
   "version": "1.4.0"
  }
 },
 "nbformat": 4,
 "nbformat_minor": 1
}
