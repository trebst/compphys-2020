{
 "cells": [
  {
   "cell_type": "markdown",
   "metadata": {},
   "source": [
    "<table style=\"width: 100%; border-style: none;\">\n",
    "<tr style=\"border-style: none\">\n",
    "<td style=\"border-style: none; width: 1%; text-align: left; font-size: 16px\">Institut f&uuml;r Theoretische Physik<br /> Universit&auml;t zu K&ouml;ln</td>\n",
    "<td style=\"border-style: none; width: 1%; font-size: 16px\">&nbsp;</td>\n",
    "<td style=\"border-style: none; width: 1%; text-align: right; font-size: 16px\">Prof. Dr. Simon Trebst<br />Jan Attig</td>\n",
    "</tr>\n",
    "</table>\n",
    "<hr>\n",
    "<h1 style=\"font-weight:bold; text-align: center; margin: 0px; font-size: 30px; padding:0px;\">Computerphysik</h1>\n",
    "<h1 style=\"font-weight:bold; text-align: center; margin: 0px; font-size: 30px; padding:0px;\">Übungsblatt 7</h1>\n",
    "<hr>\n",
    "<h3 style=\"font-weight:bold; text-align: center; margin: 0px; font-size: 20px; padding:0px; margin-bottom: 20px;\">Sommersemester 2020</h3>\n",
    "<hr>\n",
    "\n",
    "**Website** [http://www.thp.uni-koeln.de/trebst/Lectures/2020-CompPhys.shtml](http://www.thp.uni-koeln.de/trebst/Lectures/2020-CompPhys.shtml)\n",
    "\n",
    "**Abgabe**:  8.6.2020 bis 13:00 Uhr\n",
    "\n",
    "**Besprechung**:  10.6.2020 - 12.6.2020\n",
    "\n",
    "**Name**: <font color=\"red\">Bitte geben Sie ihren Namen an</font>\n",
    "\n",
    "**Matrikelnummer**: <font color=\"red\">Bitte geben Sie ihre Matrikelnummer an</font>"
   ]
  },
  {
   "cell_type": "markdown",
   "metadata": {},
   "source": [
    "<table style=\"border-style: none; width: 100%\"><tr style=\"border-style: none;\">\n",
    "<td style=\"border-style: none; width: 1%; text-align: left; font-size: 25px; font-weight: bold; text-decoration: underline\">Aufgaben auf Übungsblatt 7</td>\n",
    "<td style=\"border-style: none; width: 1%; text-align: right; font-size: 15px\"></td></tr></table>\n",
    "\n",
    "- Allerlei aus dem Potentialtopf [10 Punkte]\n",
    "- Pendeln in der Quantenwelt [10 Punkte]\n",
    "- **(Bonus) Pendeln im Potentialtopf** [10 Bonus-Punkte]\n"
   ]
  },
  {
   "cell_type": "markdown",
   "metadata": {},
   "source": [
    "<table style=\"border-style: none; width: 100%\"><tr style=\"border-style: none;\">\n",
    "<td style=\"border-style: none; width: 1%; text-align: left; font-size: 25px; font-weight: bold; text-decoration: underline\">Pendeln im Potentialtopf</td>\n",
    "<td style=\"border-style: none; width: 1%; text-align: right; font-size: 15px\">[10 Bonus-Punkte]</td></tr></table>"
   ]
  },
  {
   "cell_type": "markdown",
   "metadata": {},
   "source": [
    "In dieser Aufgabe möchten wir Ihnen die Möglichkeit geben, sich tiefer mit dem fundamentalen quantenmechanischen Konzept der Darstellung eines Eigenzustands in Basiszuständen zu befassen. Es geht darum, die Zeitentwicklung eines Wellenpakets in einem unendlich tiefen Potentialtopf zu berechnen. Dazu werden zuerst die Basiszustände des unendlich tiefen Potentialtopfes mittels Numerov Algorithmus berechnet. Danach wird das betrachtete Wellenpaket in diese Zustände zerlegt um schließlich eine Zeitentwicklung des Wellenpakets zu berechnen."
   ]
  },
  {
   "cell_type": "markdown",
   "metadata": {},
   "source": [
    "### Hintergrund der Aufgabe und Grundlagen\n",
    "\n",
    "Wir betrachten ein Teilchen in einem (zeitunabhängigen) unendlich tiefen Potentialtopf mit einem ggf. modulierten Bodenprofil. Das bedeutet, dass die Bewegung des Teilchens durch eine *zeitabhängige* Schrödinger-Gleichung der Form \n",
    "\n",
    "\\begin{equation}\n",
    "\\left[-\\frac{1}{2}\\frac{\\partial^2}{\\partial x^2} + V(x)\\right]\\psi(x,t) = i\\frac{\\partial}{\\partial t}\\psi(x,t) \n",
    "\\end{equation}\n",
    "\n",
    "beschrieben wird (wobei wir $\\hbar=m=1$ gesetzt haben). Da unser Potential $V(x)$ explizit nicht von der Zeit abhängt, kann man die Gleichung mit dem Ansatz\n",
    "\n",
    "\\begin{equation}\n",
    "\\psi(x,t) = \\phi(x) \\chi(t)\n",
    "\\end{equation}\n",
    "\n",
    "auf zwei separate Gleichungen zurückführen, eine für den Orts- und eine für den Zeitanteil der Lösung. Dabei lautet die Gleichung für den Zeitanteil der Lösung\n",
    "\n",
    "\\begin{equation}\n",
    "E \\chi(t) = i\\frac{\\partial}{\\partial t}\\chi(t) \n",
    "\\end{equation}\n",
    "\n",
    "wobei $E$ an dieser Stelle lediglich eine auftretende Konstate ist. Ihr wird an späterer Stelle die Rolle der Energie zu Teil. Die Gleichung lässt sich analytisch lösen und ergibt die Lösung\n",
    "\n",
    "\\begin{equation}\n",
    "\\chi(t)=e^{-iEt}\n",
    "\\end{equation}\n",
    "\n",
    "Mit diesem Zeitanteil lässt sich die zeitabhängige Schrödingergleichung auf eine eindimensionale, zeitunabhängige Gleichung nur für den Ortsanteil zurückführen, diese lautet\n",
    "\n",
    "\\begin{equation}\n",
    "\\left[-\\frac{1}{2}\\frac{d^2}{d x^2} + V(x)\\right]\\phi(x) = E\\phi(x) \\,,\n",
    "\\end{equation}\n",
    "\n",
    "Diese Eigenwert-Gleichung hat als Lösungen Wellenfunktionen $\\{ \\phi_n(x) \\}$ mit Energien $\\{ E_n \\}$ für $n \\in \\mathbb{N}$, deren genau Form vom verwendeten Potential $V(x)$ abhängen. Grundsätzlich ergibt sich dazu noch die zughörige Zeitabhängigkeit der Lösung mittels $\\{ \\chi_n(t) =  e^{-iE_nt}\\}$ und somit die zeitabhängigen Lösungen der Schrödingergleichung nach dem gemachten Ansatz zu\n",
    "\n",
    "\\begin{equation}\n",
    "\\psi_n(x,t) = \\phi_n(x) e^{-iE_nt} \\quad \\forall n \\in \\mathbb{N}\n",
    "\\end{equation}\n",
    "\n",
    "Da in unserem Fall $E_n \\neq E_m \\forall n,m$ gilt, spannen diese Lösungen ebenfalls eine orthonormale Basis des Hilbertraums.\n",
    "\n",
    "Betrachten wir jetzt ein einzelnes Teilchen in diesem Potential, so nehmen wir an, dass wir seine Wellenfunktion zum Zeitpunkt $t=0$ durch ein Wellenpaket $\\psi(x,t=0)$ beschreiben können. Um dessen Zeitentwicklung zu berechnen, zerlegen wir das Wellenpaket zuerst in einzelne der zuvor berechneten Basiszustände als\n",
    "\n",
    "\\begin{equation}\n",
    "\\psi(x,t\\!=\\!0) \\; = \\; \\sum_{n=0}^{\\infty}c_n \\phi_n(x) \\chi_n(t\\!=\\!0) \\; = \\; \\sum_{n=0}^{\\infty}c_n \\phi_n(x) \\quad (\\chi(t\\!=\\!0)=1)\n",
    "\\end{equation}\n",
    "\n",
    "und berechnen dann die Koeffizienten $c_n$ durch das Überlappintegral\n",
    "\n",
    "\\begin{equation}\n",
    "c_n = \\langle\\psi(x,0)|\\phi_n(x)\\rangle = \\int_{-\\infty}^{\\infty}\\text{d}x\\, \\psi^*(x,0)\\phi_n(x)\n",
    "\\end{equation}\n",
    "\n",
    "Um dann die Zeitentwicklung des Wellenpakets, d.h. die Wellenfunktion zu einer Zeit $t \\neq 0$ zu berechnen, müssen wir die Summe nur mit den berechneten Koeffizienten explizit bilden und erhalten\n",
    "\n",
    "\\begin{equation}\n",
    "\\psi(x,t) = \\sum_{n=0}^{\\infty}c_n \\phi_n(x) \\chi_n(t)\n",
    "\\end{equation}\n",
    "\n",
    "Ihre Aufgabe besteht im Folgenden genau aus diesen Schritten:\n",
    "\n",
    "1. Berechnen Sie die ersten $N$ Basiszustände $\\phi_n(x)$ für ein gegebenes $V(x)$. Diese Zustände spannen danach den Hilbertraum auf.\n",
    "2. Berechnen Sie die $N$ Koeffizienten $c_n$ für ein gegebenes Wellenpaket $ \\psi(x,t=0) $.\n",
    "3. Stellen Sie die Zeitentwicklung des Wellenpakets mittels Summation über die Basiszustände für $t > 0$ dar.\n",
    "\n",
    "Im Folgenden wollen wir diese Schritte nun in einzelnen Absätzen anleiten."
   ]
  },
  {
   "cell_type": "markdown",
   "metadata": {},
   "source": [
    "### 1. Basiszustände des unendlich tiefen Potentialtopfes\n",
    "\n",
    "Um die Eigenzustände des unendlich tiefen Potentialtopfes zu berechnen, verwenden wir das gleiche Setup wie in der Aufgabe \"Allerlei aus dem Potentialtopf\". Im Kern benutzen wir den Numerov-Algorithmus in Kombination mit einem Nullstellenverfahren, um die Energien $E_n$ zu finden, bei denen die Randbedingung verschwindener Wellenfunktion and den Potentialwänden erfüllt ist.\n",
    "\n",
    "Wir verwenden in dieser Aufgabe erneut einen unendlich hohen Potentialtopf, der nur einen kleinen Bereich endlichen Potentials von $x \\in [-1, 1]$ umfasst. In diesem Bereich soll das Potential mittels $V(x)$ gegeben sein. Dies bedeutet, dass die Wellenfunktion zwangsläufig für $x \\notin [-1,1]$ verschwinden muss, d.h. für diese Werte von $x$ gilt $\\phi(x)=0$.\n",
    "\n",
    "Führen Sie zunächst die nachfolgende Zelle aus, und wählen Sie aus den verfügbaren Potentialen eines aus, für das Sie die Aufgabe lösen möchten."
   ]
  },
  {
   "cell_type": "code",
   "execution_count": null,
   "metadata": {
    "scrolled": false
   },
   "outputs": [],
   "source": [
    "using PyPlot\n",
    "pygui(false)\n",
    "\n",
    "# Liste mit x Werten\n",
    "x_values = range(-1, stop=1, length=500)\n",
    "\n",
    "# Vier mögliche Potential, eines auswählen und die anderen auskommentieren\n",
    "#V(x) = 0\n",
    "#V(x) = 200*x^2 - x^4\n",
    "#V(x) = minimum(abs.(x .- [-0.25, -0.75, 0.25, 0.75])) < 0.1 ? 0 : 100\n",
    "V(x) = 100 - 1 / (0.01+minimum(abs.(x .- [-0.25, -0.75, 0.25, 0.75]))^2)\n",
    "\n",
    "# Plotten des Potentials\n",
    "figure()\n",
    "plot(x_values, V.(x_values), color=\"k\")\n",
    "xlim(x_values[1], x_values[end])\n",
    "xlabel(\"x\")\n",
    "ylabel(\"V(x)\")"
   ]
  },
  {
   "cell_type": "markdown",
   "metadata": {},
   "source": [
    "Implementieren Sie jetzt analog zur Aufgabe \"Allerlei aus dem Potentialtopf\" die Kombination aus Numerov-Integration und Nullstellensuche und berechnen Sie die ersten $N$ Basiszustände $\\phi_n(x)$ des Potentialtopfes mit gewählten Potential $V(x)$ auf dem Intervall $x \\in [0,1]$."
   ]
  },
  {
   "cell_type": "code",
   "execution_count": null,
   "metadata": {},
   "outputs": [],
   "source": []
  },
  {
   "cell_type": "markdown",
   "metadata": {},
   "source": [
    "An dieser Stelle sollte Ihr Algorithmus Ihnen für ein gewähltes Potential $V(x)$ eine Menge an Wellenfunktionen $\\phi_n(x)$ für $n = 1, \\dots, N$ mit zugehörigen Energien $E_n$ berechnet haben (diese Energien sind hier für uns wichtig, weil sie später bei der Zeitentwicklung des Wellenpakets eine Rolle spielen).\n",
    "\n",
    "Sofern dies der Fall ist (für ein Potential Ihrer Wahl und für ein $N$ Ihrer Wahl, wobei wir $N > 10$ empfehlen), können Sie mit der Aufgabe fortfahren."
   ]
  },
  {
   "cell_type": "markdown",
   "metadata": {},
   "source": [
    "### 2. Berechnung der Koeffizienten $c_n$\n",
    "\n",
    "Im nächsten Schritt, wollen wir jetzt (analog zur Aufgabe \"Pendeln in der Quantenwelt\") ein Wellenpaket $\\psi(x,t=0)$ in die eben berechneten Eigenzustände zerlegen. Dafür wählen wir zunächst ein Wellenpaket, welches wir Ihnen hier als Julia Funktion vorgeben, das den Aufenthalt des Teilchens mit hoher Wahrscheinlichkeit am Ort $x=0.75$ beschreibt."
   ]
  },
  {
   "cell_type": "code",
   "execution_count": null,
   "metadata": {},
   "outputs": [],
   "source": [
    "using PyPlot\n",
    "pygui(false)\n",
    "\n",
    "# Liste mit x Werten\n",
    "x_values = range(-1, stop=1, length=500)\n",
    "\n",
    "# Wellenpaket als Julia Funktion\n",
    "psi(x) = exp(-0.5*((x-0.75)/0.1)^2/2)\n",
    "\n",
    "# Plotten des Wellenpakets\n",
    "figure()\n",
    "plot(x_values, psi.(x_values), color=\"b\")\n",
    "xlim(x_values[1], x_values[end])\n",
    "xlabel(\"x\")\n",
    "ylabel(\"psi(x)\")"
   ]
  },
  {
   "cell_type": "markdown",
   "metadata": {},
   "source": [
    "Implementieren Sie jetzt die Berechnung der Koeffizienten $c_n$ mittels \n",
    "\n",
    "\\begin{equation}\n",
    "c_n = \\int_{-1}^{1}\\text{d}x\\, \\psi^*(x,t=0)\\phi_n(x)\n",
    "\\end{equation}\n",
    "\n",
    "Sie können die Integration auf den Bereich $[-1, 1]$ einschränken, da nach Randbedingung die Wellenfunktion ausserhalb auf $0$ abfällt. Die Integration können Sie z.b. mit einer diskretisierten Version des Trapez-Verfahrens durchführen, die die bereits nur an diskreten Stützstellen berechneten Wellenfunktionen $\\phi_n(x)$ benutzt, die Sie im vorherigen Aufgabenteil berechnet haben.\n",
    "\n",
    "Nach dem Berechnen der Koeffizienten $c_n$ sollten Sie in der Lage sein mit der gewichteten Summe Ihrer Basisfunktionen $\\phi_n(x)$ das Wellenpaket $\\psi(x,t=0)$ zumindest grob zu reproduzieren (Eine exakte Reproduktion ist nur mit unendlich vielen Basiszuständen möglich). Testen Sie dies, indem Sie sowohl das Wellenpaket, als auch die explizite Darstellung mittels Ihrer Koeffizienten,\n",
    "\n",
    "\\begin{equation}\n",
    "\\psi(x,t=0) = \\sum_{n=1}^{N}c_n \\phi_n(x)\n",
    "\\end{equation}\n",
    "\n",
    "gemeinsam plotten. Folgt Ihre Darstellung mittels Summe zumindest qualitativ dem Verlauf des exakten Wellenpakets, können Sie auch hier mit der Aufgabe fortfahren."
   ]
  },
  {
   "cell_type": "code",
   "execution_count": null,
   "metadata": {},
   "outputs": [],
   "source": []
  },
  {
   "cell_type": "markdown",
   "metadata": {},
   "source": [
    "### 3. Berechnung der Zeitentwicklung\n",
    "\n",
    "Im letzten Schritt wollen wir nun die explizite Zeitentwicklung des bereits betrachteten Wellenpakets berechnen. Dazu benutzen wir den vorher vernachlässigten Zeitanteil der Lösung der Schrödingergleichung, $\\chi(t) = e^{-i E_n t}$. Aus der Lösung der Schrödingergleichung wissen wir, dass die Gesamtlösung $\\psi(x,t)$ für eine Anfangsbedingung $\\psi(x,t=0)$ gegeben ist als\n",
    "\n",
    "\\begin{equation}\n",
    "\\psi(x,t) = \\sum_{n=1}^{N}c_n \\phi_n(x) \\chi_n(t)\n",
    "\\end{equation}\n",
    "\n",
    "wobei Sie ...\n",
    "- ... die Wellenfunktionen $\\phi_n(x)$ im Aufgabenteil 1. berechnet haben\n",
    "- ... den Zeitanteil $\\chi(t)$ mittels den Energien $E_n$ aus Aufgabenteil 1. für ein gegebenes $t$ zu $\\chi(t) = e^{-i E_n t}$ berechnen können\n",
    "- ... die Koeffizienten $c_n$ in Aufgabenteil 2. berechnet haben\n",
    "\n",
    "Benutzen Sie jetzt diese verschiedenen Teilergebnisse, um die Zeitentwicklung des Wellenpakets $\\psi(x)$ für Zeiten $t \\in [0,1]$ als Animation zu plotten."
   ]
  },
  {
   "cell_type": "code",
   "execution_count": null,
   "metadata": {},
   "outputs": [],
   "source": []
  }
 ],
 "metadata": {
  "@webio": {
   "lastCommId": null,
   "lastKernelId": null
  },
  "kernelspec": {
   "display_name": "Julia 1.4.0",
   "language": "julia",
   "name": "julia-1.4"
  },
  "language_info": {
   "file_extension": ".jl",
   "mimetype": "application/julia",
   "name": "julia",
   "version": "1.4.0"
  }
 },
 "nbformat": 4,
 "nbformat_minor": 2
}
