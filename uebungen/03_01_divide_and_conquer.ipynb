{
 "cells": [
  {
   "cell_type": "markdown",
   "metadata": {},
   "source": [
    "<table style=\"width: 100%; border-style: none;\">\n",
    "<tr style=\"border-style: none\">\n",
    "<td style=\"border-style: none; width: 1%; text-align: left; font-size: 16px\">Institut f&uuml;r Theoretische Physik<br /> Universit&auml;t zu K&ouml;ln</td>\n",
    "<td style=\"border-style: none; width: 1%; font-size: 16px\">&nbsp;</td>\n",
    "<td style=\"border-style: none; width: 1%; text-align: right; font-size: 16px\">Prof. Dr. Simon Trebst<br />Jan Attig</td>\n",
    "</tr>\n",
    "</table>\n",
    "<hr>\n",
    "<h1 style=\"font-weight:bold; text-align: center; margin: 0px; font-size: 30px; padding:0px;\">Computerphysik</h1>\n",
    "<h1 style=\"font-weight:bold; text-align: center; margin: 0px; font-size: 30px; padding:0px;\">Übungsblatt 3</h1>\n",
    "<hr>\n",
    "<h3 style=\"font-weight:bold; text-align: center; margin: 0px; font-size: 20px; padding:0px; margin-bottom: 20px;\">Sommersemester 2020</h3>\n",
    "<hr>\n",
    "\n",
    "**Website** [http://www.thp.uni-koeln.de/trebst/Lectures/2020-CompPhys.shtml](http://www.thp.uni-koeln.de/trebst/Lectures/2020-CompPhys.shtml)\n",
    "\n",
    "**Abgabe**:  11.5.2020 bis 13:00 Uhr\n",
    "\n",
    "**Besprechung**:  13.5.2020 - 15.5.2020\n",
    "\n",
    "**Name**: <font color=\"red\">Bitte geben Sie ihren Namen an</font>\n",
    "\n",
    "**Matrikelnummer**: <font color=\"red\">Bitte geben Sie ihre Matrikelnummer an</font>"
   ]
  },
  {
   "cell_type": "markdown",
   "metadata": {},
   "source": [
    "<table style=\"border-style: none; width: 100%\"><tr style=\"border-style: none;\">\n",
    "<td style=\"border-style: none; width: 1%; text-align: left; font-size: 25px; font-weight: bold; text-decoration: underline\">Aufgaben auf Übungsblatt 3</td>\n",
    "<td style=\"border-style: none; width: 1%; text-align: right; font-size: 15px\"></td></tr></table>\n",
    "\n",
    "- **Divide and Conquer** [12 Punkte]\n",
    "- Newton Verfahren [8 Punkte]\n",
    "- (Bonus) Newton Fraktrale [8 Bonus-Punkte]\n"
   ]
  },
  {
   "cell_type": "markdown",
   "metadata": {},
   "source": [
    "<table style=\"border-style: none; width: 100%\"><tr style=\"border-style: none;\">\n",
    "<td style=\"border-style: none; width: 1%; text-align: left; font-size: 25px; font-weight: bold; text-decoration: underline\">Divide and Conquer</td>\n",
    "<td style=\"border-style: none; width: 1%; text-align: right; font-size: 15px\">[12 Punkte]</td></tr></table>"
   ]
  },
  {
   "cell_type": "markdown",
   "metadata": {},
   "source": [
    "Eine häufig wiederkehrende Aufgabe ist die Bestimmung von Nullstellen einer beliebigen\n",
    "Funktion. Um dies zu tun, haben Sie in der Vorlesung einige iterative Verfahren kennengelernt,\n",
    "die wir im Rahmen dieser Übung implementieren und vergleichen wollen. Die beiden hier behandelten Methoden zählen zum Bereich der *divide and conquer* Algorithmen, in denen wir ein Problem so lange in kleine Probleme zerlegen, bis sie irgendwann als lösbar gelten."
   ]
  },
  {
   "cell_type": "markdown",
   "metadata": {},
   "source": [
    "### a) Binary Search\n",
    "\n",
    "Als erste Methode kann ein Verfahren angewendet werden, das Sie bereits in der Mathematik als Intervallschachtelung kennengelernt haben und auch als **binary search** bekannt ist. Nachdem zwei Endpunkte gewählt wurden, wird der Bereich halbiert und die resultierende Hälfte, die die Nullstelle enthält, erneut untersucht. Dieser Vorgang wird solange wiederholt, bis die gewünschte Präzision erreicht ist, danach wird das Verfahren abgebrochen.\n",
    "\n",
    "Vervollständigen Sie die Julia-Funktion im folgenden Programm-Skelett, um die Nullstelle mittels *binary search* zu finden. Die bereits vorgesehenen Übergabeparameter der Julia-Funktion `binary_search` sind\n",
    "- `f` die (mathematische) Funktion, deren Nullstelle bestimmt werden soll\n",
    "- `x_left` und `x_right` das Intervall in dem die Nullstelle gesucht wird\n",
    "- `precision` Genauigkeit der Nullstellenbestimmung, d.h. inwiefern der Wert `f(x_0)` von `0` abweichen darf\n",
    "- `max_iterations` maximale Anzahl an Binary-Schritten"
   ]
  },
  {
   "cell_type": "code",
   "execution_count": null,
   "metadata": {},
   "outputs": [],
   "source": [
    "function binary_search(f, x_left, x_right, precision, max_iterations=100)\n",
    "    \n",
    "    ###############################\n",
    "    # HIER SOLLTE IHR CODE STEHEN #\n",
    "    ###############################\n",
    "    \n",
    "end"
   ]
  },
  {
   "cell_type": "markdown",
   "metadata": {},
   "source": [
    "Testen Sie Ihren Code, indem Sie versuchen eine Nullstelle der Funktion $ f(x) = x^3/3 - 9$ zwischen `2` und `5` bei einer Präzision von `1e-3` zu finden. Kann Ihr Code die Nullstelle richtig identifizieren?"
   ]
  },
  {
   "cell_type": "code",
   "execution_count": null,
   "metadata": {},
   "outputs": [],
   "source": [
    "f(x) = x^3 / 3 - 9"
   ]
  },
  {
   "cell_type": "code",
   "execution_count": null,
   "metadata": {},
   "outputs": [],
   "source": [
    "binary_search(f, 2, 5, 1e-3)"
   ]
  },
  {
   "cell_type": "markdown",
   "metadata": {},
   "source": [
    "Beschreiben Sie in Stichpunkten, welche Probleme der *binary search* Algorithmus besitzt. Zeigen Sie einen Fall in dem man eine unerwartete Ausgabe erhält. Hierfür können Sie gerne eine neue Funktion untersuchen oder bestimmte Parameter für die bereits definierte Funktion `f` angeben. Wenn möglich, geben Sie Strategien oder Möglichkeiten an, die Probleme des Binary Search im Algorithmus zu lösen.\n",
    "\n",
    "*Hinweis*: Sie müssen bei der Angabe der Lösungsvorschläge nichts implementieren, sondern lediglich darlegen, wie die Probleme vermieden werden können!"
   ]
  },
  {
   "cell_type": "code",
   "execution_count": null,
   "metadata": {},
   "outputs": [],
   "source": []
  },
  {
   "cell_type": "markdown",
   "metadata": {},
   "source": [
    "### b) Grid Search\n",
    "\n",
    "Als weitere Methode soll ein sogenannter **grid search** implementiert werden. Dazu wird ein Stück des Definitionsbereich um die Nullstelle herum in kleinere Bereiche unterteilt. Als nächstes wird der Bereich identifiziert, in dem die Nullstelle liegt und dieser wieder unterteilt. Wie zuvor wird auch dieser Vorgang dann abgebrochen, wenn die gewünschte Genauigkeit erreicht ist. Dieses Verfahren funktioniert also ähnlich wie das vorher implementiert *binary search*, es werden nur mehr Unterteilungen in jedem Iterationsschritt vorgenommen.\n",
    "\n",
    "Vervollständigen Sie den untenstehenden Code zu einer Funktion, die eine *grid search* Nullstellensuche durchführt:"
   ]
  },
  {
   "cell_type": "code",
   "execution_count": null,
   "metadata": {},
   "outputs": [],
   "source": [
    "function grid_search(f, x_left, x_right, n_grid_points, precision, max_iterations=100)\n",
    "    \n",
    "    # Definition of grid on x-axis\n",
    "    grid = range(x_left, stop=x_right, length=n_grid_points)\n",
    "    \n",
    "    ###############################\n",
    "    # HIER SOLLTE IHR CODE STEHEN #\n",
    "    ###############################\n",
    "    \n",
    "end"
   ]
  },
  {
   "cell_type": "markdown",
   "metadata": {},
   "source": [
    "Testen Sie erneut Ihren Code, indem Sie erneut versuchen eine Nullstelle der Funktion $ f(x) = x^3/3 - 9$ zwischen `2` und `5` bei einer Präzision von `1e-3` zu finden. Kann Ihr Code die Nullstelle richtig identifizieren?"
   ]
  },
  {
   "cell_type": "code",
   "execution_count": null,
   "metadata": {},
   "outputs": [],
   "source": [
    "grid_search(f, 2, 5, 100, 1e-3)"
   ]
  }
 ],
 "metadata": {
  "kernelspec": {
   "display_name": "Julia 1.4.0",
   "language": "julia",
   "name": "julia-1.4"
  },
  "language_info": {
   "file_extension": ".jl",
   "mimetype": "application/julia",
   "name": "julia",
   "version": "1.4.0"
  }
 },
 "nbformat": 4,
 "nbformat_minor": 4
}
