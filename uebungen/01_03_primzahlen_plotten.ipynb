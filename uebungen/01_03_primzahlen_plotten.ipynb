{
 "cells": [
  {
   "cell_type": "markdown",
   "metadata": {},
   "source": [
    "<table style=\"width: 100%; border-style: none;\">\n",
    "<tr style=\"border-style: none\">\n",
    "<td style=\"border-style: none; width: 1%; text-align: left; font-size: 16px\">Institut f&uuml;r Theoretische Physik<br /> Universit&auml;t zu K&ouml;ln</td>\n",
    "<td style=\"border-style: none; width: 1%; font-size: 16px\">&nbsp;</td>\n",
    "<td style=\"border-style: none; width: 1%; text-align: right; font-size: 16px\">Prof. Dr. Simon Trebst<br />Jan Attig</td>\n",
    "</tr>\n",
    "</table>\n",
    "<hr>\n",
    "<h1 style=\"font-weight:bold; text-align: center; margin: 0px; font-size: 30px; padding:0px;\">Computerphysik</h1>\n",
    "<h1 style=\"font-weight:bold; text-align: center; margin: 0px; font-size: 30px; padding:0px;\">Übungsblatt 1</h1>\n",
    "<hr>\n",
    "<h3 style=\"font-weight:bold; text-align: center; margin: 0px; font-size: 20px; padding:0px; margin-bottom: 20px;\">Sommersemester 2020</h3>\n",
    "<hr>\n",
    "\n",
    "**Website** [http://www.thp.uni-koeln.de/trebst/Lectures/2020-CompPhys.shtml](http://www.thp.uni-koeln.de/trebst/Lectures/2020-CompPhys.shtml)\n",
    "\n",
    "**Abgabe**:  -- kein Abgabe (Präsenzübung) --\n",
    "\n",
    "**Besprechung**:  29.4.2020 - 30.4.2020 (Präsenzübung)\n",
    "\n",
    "**Name**: <font color=\"red\">Bitte geben Sie ihren Namen an</font>\n",
    "\n",
    "**Matrikelnummer**: <font color=\"red\">Bitte geben Sie ihre Matrikelnummer an</font>"
   ]
  },
  {
   "cell_type": "markdown",
   "metadata": {},
   "source": [
    "<table style=\"border-style: none; width: 100%\"><tr style=\"border-style: none;\">\n",
    "<td style=\"border-style: none; width: 1%; text-align: left; font-size: 25px; font-weight: bold; text-decoration: underline\">Aufgaben auf Übungsblatt 1</td>\n",
    "<td style=\"border-style: none; width: 1%; text-align: right; font-size: 15px\"></td></tr></table>\n",
    "\n",
    "- Listen und Fibonacci-Zahlen [0 Punkte]\n",
    "- Primzahlen und Funktionen [0 Punkte]\n",
    "- **Primzahlen geplottet** [0 Punkte]\n"
   ]
  },
  {
   "cell_type": "markdown",
   "metadata": {},
   "source": [
    "<table style=\"border-style: none; width: 100%\"><tr style=\"border-style: none;\">\n",
    "<td style=\"border-style: none; width: 1%; text-align: left; font-size: 25px; font-weight: bold; text-decoration: underline\">Primzahlen geplottet</td>\n",
    "<td style=\"border-style: none; width: 1%; text-align: right; font-size: 15px\">[0 Punkte]</td></tr></table>"
   ]
  },
  {
   "cell_type": "markdown",
   "metadata": {},
   "source": [
    "In dieser Aufgabe möchten wir uns erneut mit Primzahlen beschäftigen. Sie haben sowohl in den Programmiertechniken gelernt, wie Daten mit Hilfe des Pakets `PyPlot` geplottet werden können, als auch in der Aufgabe *Primzahlen und Funktionen* gelernt, wie Sie testen können, ob eine Zahl eine Primzahl ist. In dieser Aufgabe sollen beide Aspekte nun kombiniert werden, indem Sie alle Primzahlen bis zu einer oberen Grenze in einer bestimmten Weise plotten."
   ]
  },
  {
   "cell_type": "markdown",
   "metadata": {},
   "source": [
    "### a) Plotten und Listen\n",
    "\n",
    "Bevor Sie in der Aufgabe Primzahlen plotten, möchten wir zuerst noch einmal ein paar allgemeine Aspekte zum Thema *Plotten* aus den Programmiertechniken wiederholen.\n",
    "\n",
    "Grundsätzlich benötigen Sie zum Plotten in Julia eine Bibliothek, wir verwenden an dieser Stelle `PyPlot`"
   ]
  },
  {
   "cell_type": "code",
   "execution_count": 1,
   "metadata": {},
   "outputs": [],
   "source": [
    "using PyPlot"
   ]
  },
  {
   "cell_type": "markdown",
   "metadata": {},
   "source": [
    "Nach dem Laden der Bibliothek stehen Ihnen die Plot-Funktionen zur Verfügung. Grundsätzlich beschränken wir uns zunächst auf das Plotten von Daten, d.h. Sie plotten x- und y-Werte gegeneinander. Dafür benötigen Sie zunächst einmal die x- und y-Werte als Arrays oder Listen und können danach `plot(x_werte, y_werte)` aufrufen, um eine Linie durch die Punkte $(x_1, y_1), (x_2, y_2), \\dots, (x_n, y_n)$ zu zeichnen. Wie Sie sehen, ist also das Plotten sehr stark mit dem korrekten Erzeugen von Listen verknüpft.\n",
    "\n",
    "Für das Erstellen von Listen stehen Ihnen grundsätzlich zwei verschiedene Perspektiven zur Verfügung:\n",
    "1. Sie allokieren die gesamte Liste auf einmal und füllen gegebenenfalls die einzelnen Elemente\n",
    "2. Sie erzeugen die Elemente der Liste einzeln und hängen sie ans Ende der Liste mittels `push!`"
   ]
  },
  {
   "cell_type": "code",
   "execution_count": null,
   "metadata": {},
   "outputs": [],
   "source": [
    "# Erzeugt ein Array der Länge 100 mit zu definierenden Elementen\n",
    "array = Vector{Float64}(undef, 100)\n",
    "\n",
    "# Erzeugt ein Array der Länge 100 mit 0 Einträgen\n",
    "array = zeros(Float64, 100)\n",
    "\n",
    "# Erzeugt 100 gleichmäßig verteilte Zahlen zwischen 0 und 20\n",
    "array = collect(range(0, stop=20, length=100))\n",
    "\n",
    "\n",
    "# Erzeugt eine leere Liste\n",
    "liste = []\n",
    "# pusht nacheinander Zahlen in die Liste\n",
    "for i in 1:100\n",
    "    push!(liste, i)\n",
    "end"
   ]
  },
  {
   "cell_type": "markdown",
   "metadata": {},
   "source": [
    "Wählen Sie aus den oben stehenden Möglichkeiten ein Verfahren aus und plotten Sie damit die Funktion $f(x) = x^2$ auf dem Intervall $[-1,1]$ mit 100 Datenpunkten."
   ]
  },
  {
   "cell_type": "code",
   "execution_count": null,
   "metadata": {},
   "outputs": [],
   "source": []
  },
  {
   "cell_type": "markdown",
   "metadata": {},
   "source": [
    "### b) Plotten von Primzahlen\n",
    "\n",
    "Nun möchten wir uns erneut den Primzahlen zuwenden. Beginnen Sie damit, eine Liste aller Primzahlen zu erstellen, die kleiner als `10.000` sind."
   ]
  },
  {
   "cell_type": "code",
   "execution_count": null,
   "metadata": {},
   "outputs": [],
   "source": []
  },
  {
   "cell_type": "markdown",
   "metadata": {},
   "source": [
    "Diese Liste möchten wir nun in bestimmter Weise darstellen.\n",
    "\n",
    "Erstellen Sie x- und y-Werte für jede Primzahl so, dass für eine Primzahl $N$ der Punkt $(N\\cdot \\cos(N), N\\cdot sin(N))$ gezeichnet wird, d.h. in Polarkoordinaten den Radius $r=N$ und den Winkel $\\theta = N$ besitzt. Plotten Sie dann die Menge der so erhaltenen Punkte mittels `scatter(x_werte, y_werte)` und beschreiben Sie das auftretende Muster."
   ]
  },
  {
   "cell_type": "code",
   "execution_count": null,
   "metadata": {},
   "outputs": [],
   "source": []
  },
  {
   "cell_type": "markdown",
   "metadata": {},
   "source": [
    "Die entstehenden Muster scheinen im Widerspruch mit dem zufälligen Auftreten von Primzahlen innerhalb der natürlichen Zahlen zu stehen. Bei genauerer Betrachtung gibt es jedoch eine simple Erklärung für die auftrenden Spiralen und besonders die markanten Fehlstellen. \n",
    "\n",
    "Wenn Sie mehr zu den Muster lernen wollen, sei Ihnen dieses [Video](https://www.youtube.com/watch?v=EK32jo7i5LQ) des Youtubers 3Blue1Brown nahe gelegt. "
   ]
  }
 ],
 "metadata": {
  "kernelspec": {
   "display_name": "Julia 1.4.0",
   "language": "julia",
   "name": "julia-1.4"
  },
  "language_info": {
   "file_extension": ".jl",
   "mimetype": "application/julia",
   "name": "julia",
   "version": "1.4.0"
  }
 },
 "nbformat": 4,
 "nbformat_minor": 4
}
