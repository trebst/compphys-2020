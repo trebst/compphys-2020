{
 "cells": [
  {
   "cell_type": "markdown",
   "metadata": {},
   "source": [
    "<table style=\"width: 100%; border-style: none;\">\n",
    "<tr style=\"border-style: none\">\n",
    "<td style=\"border-style: none; width: 1%; text-align: left; font-size: 16px\">Institut f&uuml;r Theoretische Physik<br /> Universit&auml;t zu K&ouml;ln</td>\n",
    "<td style=\"border-style: none; width: 1%; font-size: 16px\">&nbsp;</td>\n",
    "<td style=\"border-style: none; width: 1%; text-align: right; font-size: 16px\">Prof. Dr. Simon Trebst<br />Jan Attig</td>\n",
    "</tr>\n",
    "</table>\n",
    "<hr>\n",
    "<h1 style=\"font-weight:bold; text-align: center; margin: 0px; font-size: 30px; padding:0px;\">Computerphysik</h1>\n",
    "<h1 style=\"font-weight:bold; text-align: center; margin: 0px; font-size: 30px; padding:0px;\">Übungsblatt 5</h1>\n",
    "<hr>\n",
    "<h3 style=\"font-weight:bold; text-align: center; margin: 0px; font-size: 20px; padding:0px; margin-bottom: 20px;\">Sommersemester 2020</h3>\n",
    "<hr>\n",
    "\n",
    "**Website** [http://www.thp.uni-koeln.de/trebst/Lectures/2020-CompPhys.shtml](http://www.thp.uni-koeln.de/trebst/Lectures/2020-CompPhys.shtml)\n",
    "\n",
    "**Abgabe**:  25.5.2020 bis 13:00 Uhr\n",
    "\n",
    "**Besprechung**:  27.5.2020 - 29.5.2020\n",
    "\n",
    "**Name**: <font color=\"red\">Bitte geben Sie ihren Namen an</font>\n",
    "\n",
    "**Matrikelnummer**: <font color=\"red\">Bitte geben Sie ihre Matrikelnummer an</font>"
   ]
  },
  {
   "cell_type": "markdown",
   "metadata": {},
   "source": [
    "<table style=\"border-style: none; width: 100%\"><tr style=\"border-style: none;\">\n",
    "<td style=\"border-style: none; width: 1%; text-align: left; font-size: 25px; font-weight: bold; text-decoration: underline\">Aufgaben auf Übungsblatt 5</td>\n",
    "<td style=\"border-style: none; width: 1%; text-align: right; font-size: 15px\"></td></tr></table>\n",
    "\n",
    "- Die Zukunft richtig ausgependelt [10 Punkte]\n",
    "- **Monde auf der Überholspur** [10 Punkte]\n",
    "- (Bonus) Magnetpendel [10 Bonus-Punkte]\n"
   ]
  },
  {
   "cell_type": "markdown",
   "metadata": {},
   "source": [
    "<table style=\"border-style: none; width: 100%\"><tr style=\"border-style: none;\">\n",
    "<td style=\"border-style: none; width: 1%; text-align: left; font-size: 25px; font-weight: bold; text-decoration: underline\">Monde auf der Überholspur</td>\n",
    "<td style=\"border-style: none; width: 1%; text-align: right; font-size: 15px\">[10 Punkte]</td></tr></table>"
   ]
  },
  {
   "cell_type": "markdown",
   "metadata": {},
   "source": [
    "Die Monde **Janus** und **Epimetheus** umkreisen den Planeten Saturn *koorbital*, d.h. auf nahezu der gleichen Bahn.\n",
    "Bemerkenswerterweise ist dabei der Bahnunterschied zwischen dem inneren und dem äußeren der beiden Monde deutlich\n",
    "kleiner als deren Durchmesser. Alle vier Jahre begegnen sich die beiden Monde, da der innere Mond ein wenig schneller unterwegs ist als der Äußere. Wieso es dabei nicht zu einer Kollision kommt, wollen wir in dieser Aufgabe untersuchen.\n",
    "\n",
    "Dazu wollen wir das **3-Körper-System** aus Saturn, Janus und  Epimetheus simulieren. Für die Simulation bewegen wir uns ins Bezugssystem des Saturn. Zwischen zwei Körpern wirkt dann eine Gravitationskraft gemäß\n",
    "\n",
    "\\begin{equation}\n",
    "\\mathbf{F}_{1\\leftarrow 2}=-G\\frac{m_1 m_2}{|\\mathbf{r}_1-\\mathbf{r}_2|^3}\\left(\\mathbf{r}_1-\\mathbf{r}_2\\right),\n",
    "\\end{equation}\n",
    "\n",
    "wobei wir die Gravitationskonstante $G = 1$ setzen (wodurch sich die Größen der Parameter natürlich von den realistischen unterscheiden). Insgesamt sollen Sie in dieser Aufgabe die Bahnen der Monde mittels des **Backward-Euler**-Verfahrens berechnen und danach untersuchen. Verwenden Sie dazu olgende Startwerte:\n",
    "\n",
    "\\begin{align*}\n",
    "m_1 &= 1 \\\\\n",
    "m_2 &= 4 \\\\\n",
    "m_{\\text{Saturn}} &= 4\\times10^4 \\\\\n",
    "\\mathbf{r}_1 &= (-155, 0) \\quad \\frac{d\\mathbf{r}_1}{dt} = (0, -16.1) \\\\\n",
    "\\mathbf{r}_2 &= (150, 0), \\quad \\frac{d\\mathbf{r}_2}{dt} = (0, 16.3)\n",
    "\\end{align*}\n",
    "\n",
    "\n",
    "Ihr Programm sollen Sie in dieser Aufgabe selber planen. Gehen Sie dabei analog zur Hilfestellung aus der Aufgabe *Die Zukunft richtig ausgependelt* vor und versuchen Sie die folgende Reihenfolge einzuhalten:\n",
    "\n",
    "Schreiben Sie die Bewegungsgleichungen in ein System gekoppelter Differentialgleichungen 1. Ordnung um\n",
    "Dadurch sollten Ihre Gleichungen aus der Form $\\ddot x = f(x)$ in eine Form $\\dot x = v$, $\\dot v = f(x)$ gebracht werden. Dieses System lässt sich dann mittels Backward-Euler Verfahren lösen. Sie können als Koordinaten der Differentialgleichung die Orts-Koordinaten der Monde, $x_1, y_1, x_2, y_2$ sowie die Komponenten der Geschwindigkeiten $v_{x1}, v_{y1}, v_{x2} v_{y2}$ wählen.\n",
    "\n",
    "Implementieren Sie nun das Backward-Euler Verfahren und berechnen Sie Zeitreihen Ihrer Koordinaten für $t \\in [0, 1000]$ mit einem $\\Delta t = 0.1$."
   ]
  },
  {
   "cell_type": "code",
   "execution_count": null,
   "metadata": {},
   "outputs": [],
   "source": [
    "########################\n",
    "# ZEITREIHEN BERECHNEN #\n",
    "########################"
   ]
  },
  {
   "cell_type": "markdown",
   "metadata": {},
   "source": [
    "Berechnen Sie jetzt aus Ihren Zeitreihen den Abstand der beiden Monde vom Saturn sowie den Abstand der Monde untereinander. Plotten Sie alle drei Datenreihen der Abstände gegen die Zeit in ein Diagram und beschreiben Sie wie die Monde eine Kollision verhindern."
   ]
  },
  {
   "cell_type": "code",
   "execution_count": null,
   "metadata": {},
   "outputs": [],
   "source": [
    "###################################\n",
    "# ABSTAENDE BERECHNEN UND PLOTTEN #\n",
    "###################################"
   ]
  },
  {
   "cell_type": "code",
   "execution_count": null,
   "metadata": {},
   "outputs": [],
   "source": [
    "# Warum entgehen die Monde einer Kollision?"
   ]
  },
  {
   "cell_type": "markdown",
   "metadata": {},
   "source": [
    "(Optional): Animieren Sie die Bewegung der Monde (Sie können dafür das vorgegebene Skelett verwenden) und verifizieren Sie Ihre Hypothese."
   ]
  },
  {
   "cell_type": "code",
   "execution_count": null,
   "metadata": {},
   "outputs": [],
   "source": [
    "########################\n",
    "# OPTIONAL             #\n",
    "# ZEITREIHEN ANIMIEREN #\n",
    "########################\n",
    "\n",
    "# Der Code benutzt Zeitreihen der Monde, die aus den Koordinaten\n",
    "# x_1, y_1 und x_2, y_2 bestehen.\n",
    "# Sie muessen den Code an Ihren Code anpassen um Ihn zu benutzen.\n",
    "\n",
    "# Library import\n",
    "using PyPlot\n",
    "pygui(true)\n",
    "\n",
    "\n",
    "# Groesse des Bildes\n",
    "s = 200\n",
    "\n",
    "# Begin und End-Zeitschritt der Animation\n",
    "b = 3000\n",
    "e = 8000\n",
    "\n",
    "\n",
    "# Das Bild\n",
    "image = zeros(2 * s, 2 * s)\n",
    "\n",
    "# Funktion um x-y Koordinaten in px zu konvertieren\n",
    "xy_to_px(x, y) = (convert(Int, round((x + 200) * s / 200)), convert(Int, round((y + 200) * s / 200)))\n",
    "\n",
    "# das angezeigte Bild\n",
    "image_plot = imshow(image, cmap=\"RdBu\", vmin=-1, vmax=1)\n",
    "\n",
    "# iteriere ueber alle Zeitschritte die geplottet werden muessen\n",
    "for i in b:e    \n",
    "    \n",
    "    # plotte mond 1\n",
    "    (x, y) = xy_to_px(x_1[i], y_1[i])\n",
    "    for xx = x - 10:x + 10\n",
    "        for yy = y - 1:y + 1\n",
    "            if xx > 0 && xx < 2 * s && y > 0 && yy < 2 * s                \n",
    "                image[xx, yy] += (exp(-0.5 * sqrt((xx - x)^2 + (yy - y)^2)))\n",
    "            end\n",
    "        end\n",
    "    end\n",
    "    \n",
    "    # plotte mond 2\n",
    "    (x, y) = xy_to_px(x_2[i], y_2[i])\n",
    "    for xx = x - 10:x + 10\n",
    "        for yy = y - 1:y + 1\n",
    "            if xx > 0 && xx < 2 * s && y > 0 && yy < 2 * s                \n",
    "                image[xx, yy] += -(exp(-0.5 * sqrt((xx - x)^2 + (yy - y)^2)))\n",
    "            end\n",
    "        end\n",
    "    end\n",
    "    \n",
    "    # update das bild\n",
    "    image_plot.set_array(image)\n",
    "    sleep(0.0005)\n",
    "    image *= 0.98\n",
    "    \n",
    "end\n",
    "\n",
    "# am ende noch einmal bild zeigen\n",
    "imshow(image, cmap=\"RdBu\", vmin=-1, vmax=1)"
   ]
  },
  {
   "cell_type": "code",
   "execution_count": null,
   "metadata": {},
   "outputs": [],
   "source": []
  }
 ],
 "metadata": {
  "kernelspec": {
   "display_name": "Julia 1.4.0",
   "language": "julia",
   "name": "julia-1.4"
  },
  "language_info": {
   "file_extension": ".jl",
   "mimetype": "application/julia",
   "name": "julia",
   "version": "1.4.0"
  }
 },
 "nbformat": 4,
 "nbformat_minor": 1
}
