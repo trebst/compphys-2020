{
 "cells": [
  {
   "cell_type": "markdown",
   "metadata": {},
   "source": [
    "<table style=\"width: 100%; border-style: none;\">\n",
    "<tr style=\"border-style: none\">\n",
    "<td style=\"border-style: none; width: 1%; text-align: left; font-size: 16px\">Institut f&uuml;r Theoretische Physik<br /> Universit&auml;t zu K&ouml;ln</td>\n",
    "<td style=\"border-style: none; width: 1%; font-size: 16px\">&nbsp;</td>\n",
    "<td style=\"border-style: none; width: 1%; text-align: right; font-size: 16px\">Prof. Dr. Simon Trebst<br />Jan Attig</td>\n",
    "</tr>\n",
    "</table>\n",
    "<hr>\n",
    "<h1 style=\"font-weight:bold; text-align: center; margin: 0px; font-size: 30px; padding:0px;\">Computerphysik</h1>\n",
    "<h1 style=\"font-weight:bold; text-align: center; margin: 0px; font-size: 30px; padding:0px;\">Übungsblatt 3</h1>\n",
    "<hr>\n",
    "<h3 style=\"font-weight:bold; text-align: center; margin: 0px; font-size: 20px; padding:0px; margin-bottom: 20px;\">Sommersemester 2020</h3>\n",
    "<hr>\n",
    "\n",
    "**Website** [http://www.thp.uni-koeln.de/trebst/Lectures/2020-CompPhys.shtml](http://www.thp.uni-koeln.de/trebst/Lectures/2020-CompPhys.shtml)\n",
    "\n",
    "**Abgabe**:  11.5.2020 bis 13:00 Uhr\n",
    "\n",
    "**Besprechung**:  13.5.2020 - 15.5.2020\n",
    "\n",
    "**Name**: <font color=\"red\">Bitte geben Sie ihren Namen an</font>\n",
    "\n",
    "**Matrikelnummer**: <font color=\"red\">Bitte geben Sie ihre Matrikelnummer an</font>"
   ]
  },
  {
   "cell_type": "markdown",
   "metadata": {},
   "source": [
    "<table style=\"border-style: none; width: 100%\"><tr style=\"border-style: none;\">\n",
    "<td style=\"border-style: none; width: 1%; text-align: left; font-size: 25px; font-weight: bold; text-decoration: underline\">Aufgaben auf Übungsblatt 3</td>\n",
    "<td style=\"border-style: none; width: 1%; text-align: right; font-size: 15px\"></td></tr></table>\n",
    "\n",
    "- Divide and Conquer [12 Punkte]\n",
    "- **Newton Verfahren** [8 Punkte]\n",
    "- (Bonus) Newton Fraktrale [8 Bonus-Punkte]\n"
   ]
  },
  {
   "cell_type": "markdown",
   "metadata": {},
   "source": [
    "<table style=\"border-style: none; width: 100%\"><tr style=\"border-style: none;\">\n",
    "<td style=\"border-style: none; width: 1%; text-align: left; font-size: 25px; font-weight: bold; text-decoration: underline\">Newton Verfahren</td>\n",
    "<td style=\"border-style: none; width: 1%; text-align: right; font-size: 15px\">[8 Punkte]</td></tr></table>"
   ]
  },
  {
   "cell_type": "markdown",
   "metadata": {},
   "source": [
    "In der Vorlesung haben Sie das **Newton-Verfahren** kennengelernt. In dieser Aufgabe soll das Verfahren nun angewendet werden, um die Nullstelle einer bestimmten Funktion aus der Quantenmechanik zu bestimmen. "
   ]
  },
  {
   "cell_type": "markdown",
   "metadata": {},
   "source": [
    "### a) Implementierung in Julia\n",
    "\n",
    "Vervollständigen Sie die nachfolgende Codeschablone um eine Jullia-Funktion zu erzeugen, die mittels Newton-Verfahren die Nullstelle einer übergebenen (mathematischen) Funktion `f` zurückgibt.\n",
    "\n",
    "Die bereits vorgesehenen Übergabeparameter der Julia-Funktion `newton` sind\n",
    "- `f` die (mathematische) Funktion, deren Nullstelle bestimmt werden soll\n",
    "- `x_0` der Startwert\n",
    "- `precision` Genauigkeit der Nullstellenbestimmung, d.h. `f(x_0)` darf maximal um `precision` von `0` abweichen\n",
    "- `epsilon` die Größe von $\\varepsilon$ bei Berechnung der Ableitung mittels Differenzenquotienten im Newton-Schritt\n",
    "- `max_iterations` maximale Anzahl an Newton-Schritten"
   ]
  },
  {
   "cell_type": "code",
   "execution_count": null,
   "metadata": {},
   "outputs": [],
   "source": [
    "function newton(f, x_0, precision, epsilon=1e-8, max_iterations=100)\n",
    "    \n",
    "    ###############################\n",
    "    # HIER SOLLTE IHR CODE STEHEN #\n",
    "    ###############################\n",
    "    \n",
    "end"
   ]
  },
  {
   "cell_type": "markdown",
   "metadata": {},
   "source": [
    "Zum Testen der Funktion wollen wir zunächst nur die Nullstelle der Funktion \n",
    "\n",
    "$\\quad f(x) = x^3/3 - 9$\n",
    "\n",
    "bestimmen. Kann Ihr Code die Nullstelle richtig identifizieren?"
   ]
  },
  {
   "cell_type": "code",
   "execution_count": null,
   "metadata": {},
   "outputs": [],
   "source": [
    "f(x) = x^3 / 3 - 9"
   ]
  },
  {
   "cell_type": "code",
   "execution_count": null,
   "metadata": {},
   "outputs": [],
   "source": []
  },
  {
   "cell_type": "markdown",
   "metadata": {},
   "source": [
    "### b) Nullstellen in Abhängigkeit vom Startwert\n",
    "\n",
    "Wir möchten uns nun einem Problem zuwenden, das Sie in der Quantenmechanik kennenlernen werde. Bei der Lösung des Problems eines Teilchens in einem endlichen Potentialtopf trifft man auf eine Gleichung folgender Form:\n",
    "\n",
    "$\\quad x\\tan(xa) - \\kappa = 0$\n",
    "\n",
    "Die Lösungen für $x$ sind also Nullstellen der Funktion\n",
    "\n",
    "$\\quad f(x) = x\\tan(xa) - \\kappa$\n",
    "\n",
    "Im Folgenden setzen wir nun $a, \\kappa = 1$. \n",
    "\n",
    "Definieren Sie die Funktion $f(x) = x\\tan(x) - 1$ als Julia-Funktion `f(x)` analog zur Definition in Aufgabenteil a). Suchen Sie dann nach den Nullstellen der Funktion `f` für Startpunkte im Intervall $[1, 100]$. Tragen Sie die gefundenen Nullstellen für `f` gegen Startpunkte im Intervall $[1, 100]$ auf. Welche Schlüsse können Sie aus dem Plot ziehen?"
   ]
  },
  {
   "cell_type": "code",
   "execution_count": null,
   "metadata": {},
   "outputs": [],
   "source": []
  }
 ],
 "metadata": {
  "kernelspec": {
   "display_name": "Julia 1.4.0",
   "language": "julia",
   "name": "julia-1.4"
  },
  "language_info": {
   "file_extension": ".jl",
   "mimetype": "application/julia",
   "name": "julia",
   "version": "1.4.0"
  }
 },
 "nbformat": 4,
 "nbformat_minor": 4
}
