{
 "cells": [
  {
   "cell_type": "markdown",
   "metadata": {},
   "source": [
    "<table style=\"width: 100%; border-style: none;\">\n",
    "<tr style=\"border-style: none\">\n",
    "<td style=\"border-style: none; width: 1%; text-align: left; font-size: 16px\">Institut f&uuml;r Theoretische Physik<br /> Universit&auml;t zu K&ouml;ln</td>\n",
    "<td style=\"border-style: none; width: 1%; font-size: 16px\">&nbsp;</td>\n",
    "<td style=\"border-style: none; width: 1%; text-align: right; font-size: 16px\">Prof. Dr. Simon Trebst<br />Jan Attig</td>\n",
    "</tr>\n",
    "</table>\n",
    "<hr>\n",
    "<h1 style=\"font-weight:bold; text-align: center; margin: 0px; font-size: 30px; padding:0px;\">Computerphysik</h1>\n",
    "<h1 style=\"font-weight:bold; text-align: center; margin: 0px; font-size: 30px; padding:0px;\">Übungsblatt 11</h1>\n",
    "<hr>\n",
    "<h3 style=\"font-weight:bold; text-align: center; margin: 0px; font-size: 20px; padding:0px; margin-bottom: 20px;\">Sommersemester 2020</h3>\n",
    "<hr>\n",
    "\n",
    "**Website** [http://www.thp.uni-koeln.de/trebst/Lectures/2020-CompPhys.shtml](http://www.thp.uni-koeln.de/trebst/Lectures/2020-CompPhys.shtml)\n",
    "\n",
    "**Abgabe**:  6.7.2020 bis 13:00 Uhr\n",
    "\n",
    "**Besprechung**:  8.7.2020 - 10.7.2020\n",
    "\n",
    "**Name**: <font color=\"red\">Bitte geben Sie ihren Namen an</font>\n",
    "\n",
    "**Matrikelnummer**: <font color=\"red\">Bitte geben Sie ihre Matrikelnummer an</font>"
   ]
  },
  {
   "cell_type": "markdown",
   "metadata": {},
   "source": [
    "<table style=\"border-style: none; width: 100%\"><tr style=\"border-style: none;\">\n",
    "<td style=\"border-style: none; width: 1%; text-align: left; font-size: 25px; font-weight: bold; text-decoration: underline\">Aufgaben auf Übungsblatt 11</td>\n",
    "<td style=\"border-style: none; width: 1%; text-align: right; font-size: 15px\"></td></tr></table>\n",
    "\n",
    "- **Integration mit gezinkten Würfeln** [10 Punkte]\n",
    "- Integration auf Irrwegen [10 Punkte]\n",
    "- (Bonus) Die Dynamik von Meinungen [10 Bonus-Punkte]\n"
   ]
  },
  {
   "cell_type": "markdown",
   "metadata": {},
   "source": [
    "<table style=\"border-style: none; width: 100%\"><tr style=\"border-style: none;\">\n",
    "<td style=\"border-style: none; width: 1%; text-align: left; font-size: 25px; font-weight: bold; text-decoration: underline\">Integration mit gezinkten Würfeln</td>\n",
    "<td style=\"border-style: none; width: 1%; text-align: right; font-size: 15px\">[10 Punkte]</td></tr></table>"
   ]
  },
  {
   "cell_type": "markdown",
   "metadata": {},
   "source": [
    "In dieser Aufgabe wollen wir uns mit der **Integration** von Funktionen mithilfe von **Zufallszahlen** befassen. Die ersten Schritte in diese Richtung haben wir in der Vorlesung besprochen und  wollen nun an einfachen Beispielen die verschiedenen **Sampling-Methoden** untersuchen. \n",
    "\n",
    "Um Ihnen in dieser Aufgabe den Einstieg zu erleichtern, finden Sie im Folgenden zunächst ein paar Beispiele, wie Sie Funktionen mit dem Paket `Cubature` integrieren, sowie Zufallszahlen mit dem Paket `Distributions` erzeugen können."
   ]
  },
  {
   "cell_type": "markdown",
   "metadata": {},
   "source": [
    "#### Beispiel zur numerischen Integration"
   ]
  },
  {
   "cell_type": "code",
   "execution_count": null,
   "metadata": {},
   "outputs": [],
   "source": [
    "using Cubature\n",
    "f(x) = x^2\n",
    "(value, err) = hquadrature(f, -1, 1)"
   ]
  },
  {
   "cell_type": "markdown",
   "metadata": {},
   "source": [
    "#### Beispiel zur Erzeugung normalverteilter Zufallszahlen"
   ]
  },
  {
   "cell_type": "code",
   "execution_count": null,
   "metadata": {},
   "outputs": [],
   "source": [
    "using Distributions\n",
    "mu = 0.5\n",
    "sigma = 0.1\n",
    "random_number_generator = Normal(mu, sigma)\n",
    "rand(random_number_generator)"
   ]
  },
  {
   "cell_type": "markdown",
   "metadata": {},
   "source": [
    "#### Beispiel zum Vergleich der normalverteilter Zufallszahlen mit einer Normalverteilung"
   ]
  },
  {
   "cell_type": "code",
   "execution_count": null,
   "metadata": {},
   "outputs": [],
   "source": [
    "using PyPlot\n",
    "\n",
    "mu = 1.5\n",
    "sigma = 0.4\n",
    "random_number_generator = Normal(mu, sigma)\n",
    "rands = [rand(random_number_generator) for i in 1:10000]\n",
    "hist(rands, 20, density=true, label=\"hist\")\n",
    "\n",
    "p(x) = 1/sqrt(2*pi*sigma^2)*exp(-(x-mu)^2/(2*sigma^2))\n",
    "plot(-5:0.01:5, p.(-5:0.01:5), label=\"p(x)\")\n",
    "\n",
    "xlabel(\"x\")\n",
    "ylabel(\"p(x)\")\n",
    "legend()"
   ]
  },
  {
   "cell_type": "markdown",
   "metadata": {},
   "source": [
    "### a) Gleichförmig verteilte Zufallszahlen\n",
    "\n",
    "Beginnen wir mit der folgenden Funktion:\n",
    "\\begin{equation}\n",
    "f(x) = 2 + 0.1\\cdot\\cos(x),\\quad x\\in [-\\dfrac{\\pi}{2},\\; \\dfrac{\\pi}{2}]\n",
    "\\end{equation}\n",
    "\n",
    "Sie können sich durch simples plotten leicht davon überzeugen, dass die Funktion relativ flach ist und sich deshalb dazu eignet mit einer gleichförmigen Verteilung integriert zu werden. Führen Sie nun eine Integration dieser Funktion mit bis zu $N=1000$ *gleichförmig verteilten* Zufallszahlen durch und plotten Sie das Ergebnis der Integration gegen die Anzahl gezogender Zufallszahlen $N$. Vergleichen Sie außerdem Ihr Ergebnis mit der numerischen Lösung, die Sie mit der Paket *Cubature* bestimmen können."
   ]
  },
  {
   "cell_type": "code",
   "execution_count": null,
   "metadata": {},
   "outputs": [],
   "source": []
  },
  {
   "cell_type": "markdown",
   "metadata": {},
   "source": [
    "###  b) Normalverteilte Zufallszahlen\n",
    "\n",
    "Als nächstes betrachten wir die Funktion\n",
    "\\begin{equation}\n",
    "g(x) = \\cos(x) \\cdot \\exp{\\left(-\\dfrac{x^2}{0.02}\\right)},\\quad x \\in (-\\infty, \\infty)\n",
    "\\end{equation}\n",
    "\n",
    "Bereits auf den ersten Blick ist klar, dass das Integral dieser Funktion hauptsächlich durch einen kleinen Bereich um 0 bestimmt wird. Deshalb ist es zunächst einmal zulässig den Integrationsbereich auf ein endliches Intervall, zum Beispiel $(-20, 20)$, einzuschränken. Bestimmen Sie das Integral nun wie zuvor mithilfe einer gleichförmig verteilten Zufallsverteilung und plotten Sie das Ergebnis als Funktion der Anzahl gezogener Zufallszahlen. Benutzen Sie dann die Generatoren aus dem Paket `Distributions`, um Zufallszahlen gemäß einer Gaussverteilung mit Mittelwert $\\mu$ und Standardabweichung $\\sigma$ zu erzeugen. Passen Sie diese Parameter so an, dass die Form der gesampleten Gauß-Kurve möglichst genau der Funktion $g(x)$ entspricht und führen Sie auch diese Integration durch und vergleichen Sie beide Ergebnisse mit der durch `hquadrature` gewonnenen Lösung. \n",
    "\n",
    "Beachten Sie, dass Sie mit der Gauß verteilung Zahlen aus $(-\\infty, \\infty)$ erzeugen. Aufgrund der stark um den Mittelwert zentrierten Form der Verteilung ist der Fehler, den wir gegenüber der Integration mit eingeschränktem Integrationsbereich machen vernachlässigbar. Alternative könnte man nur Zufallszahlen im Bereich $(-20, 20)$ akzeptieren und die Verteilung neu zu skalieren.\n"
   ]
  },
  {
   "cell_type": "code",
   "execution_count": null,
   "metadata": {},
   "outputs": [],
   "source": []
  }
 ],
 "metadata": {
  "kernelspec": {
   "display_name": "Julia 1.4.0",
   "language": "julia",
   "name": "julia-1.4"
  },
  "language_info": {
   "file_extension": ".jl",
   "mimetype": "application/julia",
   "name": "julia",
   "version": "1.4.0"
  }
 },
 "nbformat": 4,
 "nbformat_minor": 1
}
