{
 "cells": [
  {
   "cell_type": "markdown",
   "metadata": {},
   "source": [
    "<table style=\"width: 100%; border-style: none;\">\n",
    "<tr style=\"border-style: none\">\n",
    "<td style=\"border-style: none; width: 1%; text-align: left; font-size: 16px\">Institut f&uuml;r Theoretische Physik<br /> Universit&auml;t zu K&ouml;ln</td>\n",
    "<td style=\"border-style: none; width: 1%; font-size: 16px\">&nbsp;</td>\n",
    "<td style=\"border-style: none; width: 1%; text-align: right; font-size: 16px\">Prof. Dr. Simon Trebst<br />Jan Attig</td>\n",
    "</tr>\n",
    "</table>\n",
    "<hr>\n",
    "<h1 style=\"font-weight:bold; text-align: center; margin: 0px; font-size: 30px; padding:0px;\">Computerphysik</h1>\n",
    "<h1 style=\"font-weight:bold; text-align: center; margin: 0px; font-size: 30px; padding:0px;\">Übungsblatt 6</h1>\n",
    "<hr>\n",
    "<h3 style=\"font-weight:bold; text-align: center; margin: 0px; font-size: 20px; padding:0px; margin-bottom: 20px;\">Sommersemester 2020</h3>\n",
    "<hr>\n",
    "\n",
    "**Website** [http://www.thp.uni-koeln.de/trebst/Lectures/2020-CompPhys.shtml](http://www.thp.uni-koeln.de/trebst/Lectures/2020-CompPhys.shtml)\n",
    "\n",
    "**Abgabe**:  1.6.2020 bis 13:00 Uhr\n",
    "\n",
    "**Besprechung**:  3.6.2020 - 5.6.2020\n",
    "\n",
    "**Name**: <font color=\"red\">Bitte geben Sie ihren Namen an</font>\n",
    "\n",
    "**Matrikelnummer**: <font color=\"red\">Bitte geben Sie ihre Matrikelnummer an</font>"
   ]
  },
  {
   "cell_type": "markdown",
   "metadata": {},
   "source": [
    "<table style=\"border-style: none; width: 100%\"><tr style=\"border-style: none;\">\n",
    "<td style=\"border-style: none; width: 1%; text-align: left; font-size: 25px; font-weight: bold; text-decoration: underline\">Aufgaben auf Übungsblatt 6</td>\n",
    "<td style=\"border-style: none; width: 1%; text-align: right; font-size: 15px\"></td></tr></table>\n",
    "\n",
    "- Simulation einer Epidemie [10 Punkte]\n",
    "- **Der heiße Draht** [10 Punkte]\n",
    "- (Bonus) Heiße Neutronen [8 Bonus-Punkte]\n"
   ]
  },
  {
   "cell_type": "markdown",
   "metadata": {},
   "source": [
    "<table style=\"border-style: none; width: 100%\"><tr style=\"border-style: none;\">\n",
    "<td style=\"border-style: none; width: 1%; text-align: left; font-size: 25px; font-weight: bold; text-decoration: underline\">Der heiße Draht</td>\n",
    "<td style=\"border-style: none; width: 1%; text-align: right; font-size: 15px\">[10 Punkte]</td></tr></table>"
   ]
  },
  {
   "cell_type": "markdown",
   "metadata": {},
   "source": [
    "In dieser Aufgabe wollen wir die eine der einfachsten partiellen Differentialgleichungen, die **Wärmeleitungsgleichung** in einer Dimension, untersuchen. Sie haben diese bereits in der Vorlesung als\n",
    "\n",
    "\\begin{equation}\\dfrac{\\partial u}{\\partial t} = \\kappa\\frac{\\partial^2 u}{\\partial x^2}\\end{equation}\n",
    "\n",
    "mit dem Wärmeleitungskoeffizienten $\\kappa$ kennengelernt. Für die Bearbeitung dieser Aufgabe setzen wir $\\kappa=1$. Physikalisch betrachten wir also zum Beispiel die zeitliche Entwicklung der Temperatur eines Drahtes.\n",
    "\n",
    "Die einfachste Methode, diese Gleichung zu lösen, ist die **Euler-Methode**, die Sie bereits auf den vorherigen Arbeitsblättern kennengelernt und implementiert haben. Um diese auf die Wärmeleitungsgleichung anzuwenden, müssen Sie allerdings sowohl die Zeit- als auch die Ortsableitung diskretisieren. Den zeitlichen Diskretisierungssschritt nennen wir $dt$ und den räumlichen $dx$. So ergibt sich also\n",
    "\n",
    "\\begin{equation} \\dfrac{u(x_j, t_{m + 1}) - u(x_j, t_m)}{dt} = \\dfrac{u(x_{j-1}, t_m) - 2 u(x_j, t_m) + u(x_{j+1}, t_m)}{dx^2} \\end{equation}\n",
    "\n",
    "wobei $x_j$ die Ortskoordinate des Gitterplatzes $j$ und $t_m$ den Zeitwert des Zeitschritts $m$ bezeichnen. Wenn Sie diese Gleichung nach $u(x_j, t_{m+1})$ auflösen erhalten Sie ein Iterationsrezept um für jeden Zeitschritt eine neue Wärmeverteilung zu berechnen. \n",
    "\n",
    "Für eine funktionierende Simulation fehlen noch Randbedingungen. Wir verwenden **Dirichlet-Bedingungen**, das heißt, wir geben die Konfiguration auf dem Rand vor. Diese sei $0$ auf beiden Seiten. Sie müssen außerdem noch eine Startverteilung, d.h. eine Temperaturverteilung bei $t = 0$ angeben. Wir betrachten einen Draht der Länge $l = 1$ und starten mit der Verteilung \n",
    "\n",
    "\\begin{equation} u(x, 0) = \\sin(\\pi x),\\quad x \\in (0, 1).\\end{equation}\n",
    "\n",
    "Ihre Aufgabe ist es, im Folgenden den oben beschriebenen Algorithmus zu implementieren und den Draht mit anfänglicher Hitze-Verteilung zu simulieren."
   ]
  },
  {
   "cell_type": "markdown",
   "metadata": {},
   "source": [
    "### a) Skizze\n",
    "\n",
    "Wir wollen zuerst den Algorithmus genauer untersuchen. Erstellen Sie dafür eine Skizze für ein kleines System in dem der Raum in 5 Punkte diskretisiert wurde und welches in 3 Zeitschritten simuliert wird. Zeichnen Sie Pfeile zwischen den verschiedenen Werten $u(x_i,t_j)$ um Abhängigkeiten bei der Berechnung des Algorithmus darzustellen. Erläutern Sie Ihre Skizze."
   ]
  },
  {
   "cell_type": "markdown",
   "metadata": {},
   "source": [
    "### b) Implementation eines Euler-Schritts in Julia\n",
    "\n",
    "Implementieren Sie jetzt einen Zeitschritt des Algorithmus in die Funktion `euler_step`. Dieser wird die aktuelle Temperaturverteilung `u` als ein Array, sowie die Raumdiskretisierung `dx` und die Zeitdiskretisierung `dt` übergeben und soll daraus eine neue Temperaturverteilung nach dem Zeitschritt berechnen sowie zurückgeben."
   ]
  },
  {
   "cell_type": "code",
   "execution_count": null,
   "metadata": {},
   "outputs": [],
   "source": [
    "function euler_step(u, dx, dt)\n",
    "    ####################################\n",
    "    # HIER SOLLTE IHR CODE STEHEN\n",
    "    ####################################\n",
    "end"
   ]
  },
  {
   "cell_type": "markdown",
   "metadata": {},
   "source": [
    "### c) Implementation der gesamten Zeitentwicklung\n",
    "\n",
    "Benutzen Sie die Funktion `euler_step` um die nachfolgende Funktion `euler_time_evolution` zu vervollständigen. Diese berechnet die komplette Zeitentwicklung einer anfänglichen Temperaturverteilung `u_0`, an x-Werten `x_values`, für die Zeitpunkte `t_values` zu berechnen. Die Zeitentwicklung des eindimensionalen Drahts soll als zweidimensionales Bild dargestellt werden, in dem jede Zeile ein Zeitschritt ist."
   ]
  },
  {
   "cell_type": "code",
   "execution_count": null,
   "metadata": {},
   "outputs": [],
   "source": [
    "function euler_time_evolution(u_0, x_values, t_values)\n",
    "    # zeitentwicklung als matrix erstellen\n",
    "    time_evolution = zeros(length(x_values), length(t_values))\n",
    "    # setze die anfangsbedingungen, und speicher die erste zeitentwicklung in die matrix\n",
    "    time_evolution[:,1] .= u\n",
    "    \n",
    "    ####################################\n",
    "    # HIER SOLLTE IHR CODE STEHEN\n",
    "    ####################################\n",
    "end"
   ]
  },
  {
   "cell_type": "markdown",
   "metadata": {},
   "source": [
    "### d) Testen der Implementierung\n",
    "\n",
    "Benutzen Sie die Funktion `euler_time_evolution` um die komplette Zeitentwicklung der Verteilung $u(x, 0) = \\sin(\\pi x)$ für $t\\in [0,1]$ und $x \\in [0,1]$ zu berechnen."
   ]
  },
  {
   "cell_type": "code",
   "execution_count": null,
   "metadata": {},
   "outputs": [],
   "source": [
    "using PyPlot\n",
    "pygui(false)\n",
    "\n",
    "############################################################\n",
    "# HIER SOLLTE IHR CODE STEHEN\n",
    "# Berechnen der Zeitentwicklung in das Array 'time_series'\n",
    "############################################################\n",
    "\n",
    "# anzeigen der daten\n",
    "imshow(time_series', cmap=\"inferno\", origin=\"lower\")\n",
    "xlabel(\"x\")\n",
    "ylabel(\"t\")"
   ]
  },
  {
   "cell_type": "markdown",
   "metadata": {},
   "source": [
    "### e) Stabilität\n",
    "\n",
    "Untersuchen Sie dann, unter welchen Bedingungen für $dt$ und $dx$ der Algorithmus stabil ist und geben Sie jeweils ein Beispiel für eine stabile Kombination von $dx$ und $dt$, sowie ein Beispiel für eine instabile Kombination."
   ]
  },
  {
   "cell_type": "code",
   "execution_count": null,
   "metadata": {},
   "outputs": [],
   "source": []
  }
 ],
 "metadata": {
  "kernelspec": {
   "display_name": "Julia 1.4.0",
   "language": "julia",
   "name": "julia-1.4"
  },
  "language_info": {
   "file_extension": ".jl",
   "mimetype": "application/julia",
   "name": "julia",
   "version": "1.4.0"
  }
 },
 "nbformat": 4,
 "nbformat_minor": 1
}
