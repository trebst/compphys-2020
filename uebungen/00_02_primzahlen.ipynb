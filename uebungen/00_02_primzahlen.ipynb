{
 "cells": [
  {
   "cell_type": "markdown",
   "metadata": {},
   "source": [
    "<table style=\"width: 100%; border-style: none;\">\n",
    "<tr style=\"border-style: none\">\n",
    "<td style=\"border-style: none; width: 1%; text-align: left; font-size: 16px\">Institut f&uuml;r Theoretische Physik<br /> Universit&auml;t zu K&ouml;ln</td>\n",
    "<td style=\"border-style: none; width: 1%; font-size: 16px\">&nbsp;</td>\n",
    "<td style=\"border-style: none; width: 1%; text-align: right; font-size: 16px\">Prof. Dr. Simon Trebst<br />Jan Attig</td>\n",
    "</tr>\n",
    "</table>\n",
    "<hr>\n",
    "<h1 style=\"font-weight:bold; text-align: center; margin: 0px; font-size: 30px; padding:0px;\">Computerphysik</h1>\n",
    "<h1 style=\"font-weight:bold; text-align: center; margin: 0px; font-size: 30px; padding:0px;\">Übungsblatt 0</h1>\n",
    "<hr>\n",
    "<h3 style=\"font-weight:bold; text-align: center; margin: 0px; font-size: 20px; padding:0px; margin-bottom: 20px;\">Sommersemester 2020</h3>\n",
    "<hr>\n",
    "\n",
    "**Website** [http://www.thp.uni-koeln.de/trebst/Lectures/2020-CompPhys.shtml](http://www.thp.uni-koeln.de/trebst/Lectures/2020-CompPhys.shtml)\n",
    "\n",
    "**Abgabe**:  -- kein Abgabe (Präsenzübung) --\n",
    "\n",
    "**Besprechung**:  22.4.2020 - 24.4.2020 (Präsenzübung)\n",
    "\n",
    "**Name**: <font color=\"red\">Bitte geben Sie ihren Namen an</font>\n",
    "\n",
    "**Matrikelnummer**: <font color=\"red\">Bitte geben Sie ihre Matrikelnummer an</font>"
   ]
  },
  {
   "cell_type": "markdown",
   "metadata": {},
   "source": [
    "<table style=\"border-style: none; width: 100%\"><tr style=\"border-style: none;\">\n",
    "<td style=\"border-style: none; width: 1%; text-align: left; font-size: 25px; font-weight: bold; text-decoration: underline\">Aufgaben auf Übungsblatt 0</td>\n",
    "<td style=\"border-style: none; width: 1%; text-align: right; font-size: 15px\"></td></tr></table>\n",
    "\n",
    "- Einstiegsaufgaben [0 Punkte]\n",
    "- **Primzahlen** [0 Punkte]\n"
   ]
  },
  {
   "cell_type": "markdown",
   "metadata": {},
   "source": [
    "<table style=\"border-style: none; width: 100%\"><tr style=\"border-style: none;\">\n",
    "<td style=\"border-style: none; width: 1%; text-align: left; font-size: 25px; font-weight: bold; text-decoration: underline\">Primzahlen</td>\n",
    "<td style=\"border-style: none; width: 1%; text-align: right; font-size: 15px\">[0 Punkte]</td></tr></table>"
   ]
  },
  {
   "cell_type": "markdown",
   "metadata": {},
   "source": [
    "Die Grundkonzepte **Variablen**, **Ausgaben**, **Schleifen** und **Verzweigungen** ermöglichen zusammen genommen komplexe Berechnungen. Als Beispiel dafür möchten wir in dieser Aufgabe besprechen, wie man feststellen kann, ob eine gegebene Zahl eine **Primzahl** ist.\n",
    "\n",
    "**Primzahlen** sind diejenigen Zahlen, die nur durch sich selbst und durch 1 (ganzzahlig) teilbar sind.\n",
    "So ist z.B. 17 eine Primzahl, wohingegen 18 sich als Produkt aus 3 und 6 darstellen lässt.\n",
    "\n",
    "Konkret sollen Sie in diesr Aufgabe prüfen, ob eine gegebene Zahl `N` eine Primzahl ist, oder nicht."
   ]
  },
  {
   "cell_type": "markdown",
   "metadata": {},
   "source": [
    "### a) Algorithmus für die Prüfung auf Primzahlen\n",
    "\n",
    "Bevor Sie in dieser Aufgabe Julia Code schreiben werden, ist es sinnvoll sich zuerst einmal zu überlegen, wie Sie prüfen wollen, ob eine gegebene Zahl `N` eine Primzahl ist oder nicht.\n",
    "\n",
    "Beschreiben Sie in Worten, wie Sie diese Prüfung durchführen."
   ]
  },
  {
   "cell_type": "code",
   "execution_count": null,
   "metadata": {},
   "outputs": [],
   "source": []
  },
  {
   "cell_type": "markdown",
   "metadata": {},
   "source": [
    "### b) Julia Code für die Prüfung auf Primzahlen\n",
    "\n",
    "Implementieren Sie im Folgenden einen kleinen Julia Code, der prüft, ob die gegebene Zahl `N` eine Primzahl ist oder nicht und danach das Ergebnis ausgibt. Verwenden Sie dabei die Konzepte aus den vorherigen Aufgaben, sowie Ihren Algorithmus aus Teil a). Ändern Sie dann `N` und stellen Sie sicher, dass Ihr Code auch für andere Fälle von `N` das richtige Ergebnis liefert.\n",
    "\n",
    "*Hinweis: An dieser Stelle kann der Modulo-Operator `%` hilfreich sein, der den Rest bei ganzzahliger Teilung ausgibt (z.B. 7 % 3 ergibt 1).*"
   ]
  },
  {
   "cell_type": "code",
   "execution_count": null,
   "metadata": {},
   "outputs": [],
   "source": [
    "N = 17"
   ]
  },
  {
   "cell_type": "markdown",
   "metadata": {},
   "source": [
    "### c) Alle Primzahlen bis 1000\n",
    "\n",
    "Erweitern Sie Ihren Julia Code aus Aufgabenteil b) um *alle* Primzahlen bis 1000 zu finden und auszugeben."
   ]
  },
  {
   "cell_type": "code",
   "execution_count": null,
   "metadata": {},
   "outputs": [],
   "source": []
  }
 ],
 "metadata": {
  "@webio": {
   "lastCommId": "ca8d3a90ebcd40b58e935a6c2857d75d",
   "lastKernelId": "baef8626-5a7f-47a6-9f96-0466f00ef131"
  },
  "kernelspec": {
   "display_name": "Julia 1.4.0",
   "language": "julia",
   "name": "julia-1.4"
  },
  "language_info": {
   "file_extension": ".jl",
   "mimetype": "application/julia",
   "name": "julia",
   "version": "1.4.0"
  }
 },
 "nbformat": 4,
 "nbformat_minor": 4
}
