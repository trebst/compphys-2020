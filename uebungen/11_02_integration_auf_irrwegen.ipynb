{
 "cells": [
  {
   "cell_type": "markdown",
   "metadata": {},
   "source": [
    "<table style=\"width: 100%; border-style: none;\">\n",
    "<tr style=\"border-style: none\">\n",
    "<td style=\"border-style: none; width: 1%; text-align: left; font-size: 16px\">Institut f&uuml;r Theoretische Physik<br /> Universit&auml;t zu K&ouml;ln</td>\n",
    "<td style=\"border-style: none; width: 1%; font-size: 16px\">&nbsp;</td>\n",
    "<td style=\"border-style: none; width: 1%; text-align: right; font-size: 16px\">Prof. Dr. Simon Trebst<br />Jan Attig</td>\n",
    "</tr>\n",
    "</table>\n",
    "<hr>\n",
    "<h1 style=\"font-weight:bold; text-align: center; margin: 0px; font-size: 30px; padding:0px;\">Computerphysik</h1>\n",
    "<h1 style=\"font-weight:bold; text-align: center; margin: 0px; font-size: 30px; padding:0px;\">Übungsblatt 11</h1>\n",
    "<hr>\n",
    "<h3 style=\"font-weight:bold; text-align: center; margin: 0px; font-size: 20px; padding:0px; margin-bottom: 20px;\">Sommersemester 2020</h3>\n",
    "<hr>\n",
    "\n",
    "**Website** [http://www.thp.uni-koeln.de/trebst/Lectures/2020-CompPhys.shtml](http://www.thp.uni-koeln.de/trebst/Lectures/2020-CompPhys.shtml)\n",
    "\n",
    "**Abgabe**:  6.7.2020 bis 13:00 Uhr\n",
    "\n",
    "**Besprechung**:  8.7.2020 - 10.7.2020\n",
    "\n",
    "**Name**: <font color=\"red\">Bitte geben Sie ihren Namen an</font>\n",
    "\n",
    "**Matrikelnummer**: <font color=\"red\">Bitte geben Sie ihre Matrikelnummer an</font>"
   ]
  },
  {
   "cell_type": "markdown",
   "metadata": {},
   "source": [
    "<table style=\"border-style: none; width: 100%\"><tr style=\"border-style: none;\">\n",
    "<td style=\"border-style: none; width: 1%; text-align: left; font-size: 25px; font-weight: bold; text-decoration: underline\">Aufgaben auf Übungsblatt 11</td>\n",
    "<td style=\"border-style: none; width: 1%; text-align: right; font-size: 15px\"></td></tr></table>\n",
    "\n",
    "- Integration mit gezinkten Würfeln [10 Punkte]\n",
    "- **Integration auf Irrwegen** [10 Punkte]\n",
    "- (Bonus) Die Dynamik von Meinungen [10 Bonus-Punkte]\n"
   ]
  },
  {
   "cell_type": "markdown",
   "metadata": {},
   "source": [
    "<table style=\"border-style: none; width: 100%\"><tr style=\"border-style: none;\">\n",
    "<td style=\"border-style: none; width: 1%; text-align: left; font-size: 25px; font-weight: bold; text-decoration: underline\">Integration auf Irrwegen</td>\n",
    "<td style=\"border-style: none; width: 1%; text-align: right; font-size: 15px\">[10 Punkte]</td></tr></table>"
   ]
  },
  {
   "cell_type": "markdown",
   "metadata": {
    "collapsed": true
   },
   "source": [
    "In dieser Aufgabe wollen wir die zwei-dimensionale Funktion\n",
    "\\begin{equation}\n",
    "f(x,y) = \\cos(x^2+y^2) e^{-x^2-y^2}\n",
    "\\end{equation}\n",
    "\n",
    "betrachten, welche über den gesamten Bereich $\\mathbb{R}^2$ integriert werden soll, d.h. wir wollen das Integral\n",
    "\\begin{equation}\n",
    "I = \\int\\limits_{\\mathbb{R}^2} f(x,y)\\; \\text{d}x\\, \\text{d}y\n",
    "\\end{equation}\n",
    "berechnen. \n",
    "\n",
    "In der anderen Aufgabe dieser Woche haben wir bereits gesehen, dass wir das Integral besonders gut annähern können, indem wir ein sogenanntes **importance sampling** durchführen. Dabei generieren wir zufällige Koordinaten $(x,y)$ nicht gleichverteilt, sondern gemäss einer Verteilung $P(x,y)$, die der zu integrierenden Funktion ähnelt (und welche wir leicht erzeugen können). Dann gilt:\n",
    "\\begin{equation}\n",
    "I = \\int\\limits_{\\mathbb{R}^2} f(x,y)\\; \\text{d}x\\, \\text{d}y = \\int\\limits_{\\mathbb{R}^2} \\frac{f(x,y)}{P(x,y)} P(x,y)\\; \\text{d}x\\, \\text{d}y \\approx \\frac{1}{N}\\sum\\limits_{i=1}^{N}\\frac{f(x_i,y_i)}{P(x_i,y_i)} \\,,\n",
    "\\end{equation}\n",
    "wobei die $(x_i,y_i)$ in der Annäherung im letzten Term $P$-verteilte Koordinaten seien. \n",
    "\n",
    "Als Verteilung $P(x,y)$ für die zu integrierende Funktion $f(x,y)$ können wir etwa eine Normalverteilung der Form\n",
    "\\begin{equation*}\n",
    "P(x,y) = \\frac{1}{\\pi}e^{-x^2-y^2},\n",
    "\\end{equation*}\n",
    "wählen."
   ]
  },
  {
   "cell_type": "markdown",
   "metadata": {
    "collapsed": true
   },
   "source": [
    "### a) Implementation der Markov-Kette \n",
    "\n",
    "In dieser Aufgabe wollen wir zur Erzeugung der $P$-verteilten Zufallskoordinaten $(x_i,y_i)$ eine **Markov-Kette** verwenden welche wir den **Metropolis-Algorithmus** erzeugen. Impementieren Sie dazu zunächst diesen Algorithmus. \n",
    "\n",
    "Visualisieren Sie die Markov-Kette indem Sie $10^5$ zufällige Koordinaten $(x_i, y_i)$ der Verteilung $P(x,y)$ erzeugen und damit den \"Pfad\" der Markov-Kette nachzeichnen. Zeichnen Sie die dabei die einzelnen Wegsegmente mit einer starken Transparenz, damit deutlich wird, wo besonders viele Koordinaten erzeugt werden. Die Transparenz (den sogenannten *alpha*-Wert) können Sie wie folgt einstellen:\n",
    "\n",
    "```\n",
    "plot(x_values, y_values, marker=\"o\", linestyle=\"\", alpha=0.02).\n",
    "```"
   ]
  },
  {
   "cell_type": "code",
   "execution_count": null,
   "metadata": {},
   "outputs": [],
   "source": []
  },
  {
   "cell_type": "markdown",
   "metadata": {
    "collapsed": true
   },
   "source": [
    "### b) Berechnung des Integrals\n",
    "\n",
    "Nachdem wir uns nun visuell vergewissern konnten, dass unsere Zufallszahlen sinnvoll erzeugt werden, sollen Sie nun das eigentliche Integral berechnen. Der exakte Wert des Integrals ist $I=\\pi/2$. Berechnen Sie das Integral jeweils mit $N=10^4, 10^5, 10^6, 10^7$ Zufallszahlen und plotten Sie den absoluten Fehler als Funktion von $N$."
   ]
  },
  {
   "cell_type": "code",
   "execution_count": null,
   "metadata": {},
   "outputs": [],
   "source": []
  }
 ],
 "metadata": {
  "kernelspec": {
   "display_name": "Julia 1.4.0",
   "language": "julia",
   "name": "julia-1.4"
  },
  "language_info": {
   "file_extension": ".jl",
   "mimetype": "application/julia",
   "name": "julia",
   "version": "1.4.0"
  }
 },
 "nbformat": 4,
 "nbformat_minor": 1
}
