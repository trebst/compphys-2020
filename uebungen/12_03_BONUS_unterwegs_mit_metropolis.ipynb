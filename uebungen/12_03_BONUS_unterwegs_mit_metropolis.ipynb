{
 "cells": [
  {
   "cell_type": "markdown",
   "metadata": {},
   "source": [
    "<table style=\"width: 100%; border-style: none;\">\n",
    "<tr style=\"border-style: none\">\n",
    "<td style=\"border-style: none; width: 1%; text-align: left; font-size: 16px\">Institut f&uuml;r Theoretische Physik<br /> Universit&auml;t zu K&ouml;ln</td>\n",
    "<td style=\"border-style: none; width: 1%; font-size: 16px\">&nbsp;</td>\n",
    "<td style=\"border-style: none; width: 1%; text-align: right; font-size: 16px\">Prof. Dr. Simon Trebst<br />Jan Attig</td>\n",
    "</tr>\n",
    "</table>\n",
    "<hr>\n",
    "<h1 style=\"font-weight:bold; text-align: center; margin: 0px; font-size: 30px; padding:0px;\">Computerphysik</h1>\n",
    "<h1 style=\"font-weight:bold; text-align: center; margin: 0px; font-size: 30px; padding:0px;\">Übungsblatt 12</h1>\n",
    "<hr>\n",
    "<h3 style=\"font-weight:bold; text-align: center; margin: 0px; font-size: 20px; padding:0px; margin-bottom: 20px;\">Sommersemester 2020</h3>\n",
    "<hr>\n",
    "\n",
    "**Website** [http://www.thp.uni-koeln.de/trebst/Lectures/2020-CompPhys.shtml](http://www.thp.uni-koeln.de/trebst/Lectures/2020-CompPhys.shtml)\n",
    "\n",
    "**Abgabe**:  13.7.2020 bis 13:00 Uhr\n",
    "\n",
    "**Besprechung**:  15.7.2020 - 17.7.2020\n",
    "\n",
    "**Name**: <font color=\"red\">Bitte geben Sie ihren Namen an</font>\n",
    "\n",
    "**Matrikelnummer**: <font color=\"red\">Bitte geben Sie ihre Matrikelnummer an</font>"
   ]
  },
  {
   "cell_type": "markdown",
   "metadata": {},
   "source": [
    "<table style=\"border-style: none; width: 100%\"><tr style=\"border-style: none;\">\n",
    "<td style=\"border-style: none; width: 1%; text-align: left; font-size: 25px; font-weight: bold; text-decoration: underline\">Aufgaben auf Übungsblatt 12</td>\n",
    "<td style=\"border-style: none; width: 1%; text-align: right; font-size: 15px\"></td></tr></table>\n",
    "\n",
    "- Ising Modell auf dem Dreiecksgitter [12 Punkte]\n",
    "- Durchhänger [8 Punkte]\n",
    "- **(Bonus) Unterwegs mit Metropolis** [12 Bonus-Punkte]\n"
   ]
  },
  {
   "cell_type": "markdown",
   "metadata": {},
   "source": [
    "<table style=\"border-style: none; width: 100%\"><tr style=\"border-style: none;\">\n",
    "<td style=\"border-style: none; width: 1%; text-align: left; font-size: 25px; font-weight: bold; text-decoration: underline\">Unterwegs mit Metropolis</td>\n",
    "<td style=\"border-style: none; width: 1%; text-align: right; font-size: 15px\">[12 Bonus-Punkte]</td></tr></table>"
   ]
  },
  {
   "cell_type": "markdown",
   "metadata": {},
   "source": [
    "In dieser Aufgabe wollen wir den **Metropolis-Algorithmus** in einer antepassten Form für die Lösung eines analytisch nicht fassbaren **Optimierungsproblems** benutzen. Dieser abgewandelte Algorithmus wird **Simulated Annealing** genannt und in vielen Bereichen auf eben jene Lösung von Optimierungsproblemen angewandt.\n",
    "\n",
    "Wir stellen uns dazu einen Kaufmann vor, der in Europa von Stadt zu Stadt reist, um seine Waren zu verkaufen. Er hat eine grosse Kundschaft, die quer über Europa verteilt ist, und muss daher viele Städte besuchen. Nun fragt er sich jedes Mal aufs Neue, in welcher *Reihenfolge* er die Städte besuchen sollte, damit er möglichst wenig reisen muss.\n",
    "\n",
    "Wir versuchen nun, dem Kaufmann zu helfen und seine Route zu optimieren. Dazu übertragen wird das Problem auf die uns bekannte Form einer Energiefunktion über Mikrozuständen. Diese *Mikrozustände* werden durch die *Reihenfolge* der Städte repräsentiert, wobei die Städte wiederum feste Koordinaten besitzen. Die *Energie* eines Mikrozustands entspricht dann der *Länge* des zurückzulegenden Weges über alle Städte in der festgelegten Reihenfolge. \n",
    "\n",
    "Wir wissen, dass der Metropolis-Algorithmus Mikrozustände samplen kann, die zu einer gegebenen Temperatur passende Energie besitzen. Insbesondere wissen wir auch, dass die minimale Energie des Systems bei $T = 0$ angenommen wird. Die zentrale Idee ist nun, mittels eines lokalen Updates von einem Mikrozustand zu einem anderen von einer endlichen Temperatur das System abzukühlen und es damit in seinen Grundzustand mit minimaler Energie zu bringen, was einer Lösung des ursprünglichen Problems gleichkommt.\n",
    "\n",
    "Gehen Sie dazu wie folgt vor:\n",
    "\n",
    "- Überlegen und implementieren Sie sich eine geeignete **Repräsentation der Mikrozustände** sowie die dazu gehörende Energiefunktion \n",
    "- Überlegen und implementieren Sie sich ein geeignetes **lokales Update**, um von einem Mikrozustand in einen anderen zu gelangen.\n",
    "- Implementieren Sie einen **Metropolis-Schritt** bei einer festen Temperatur $T$ des Systems. \n",
    "- Überlegen Sie sich, welche *Temperaturen* welche Bedeutung im System haben und welche Temperaturen Sie für den Algorithmus benötigen, sofern am Anfang ein *chaotisches* und am Ende ein *geordnetes* Verhalten dominieren soll. **Tip**: Was ist die mittlere Energie des Systems bei einem chaotischen Verhalten und wie hängt die Temperatur damit zusammen?\n",
    "- Fügen Sie den Temperaturgradienten von Ihrer maximalen zu Ihrer minmalen Temperatur in Ihr Program ein\n",
    "- *Testen* Sie Ihr Program für eine Anzahl von 20 zufällig verteilten Städten in einem zweidimensionalen Bereich beliebiger Größe, indem Sie das System in 100 Schritten von Ihrer maximalen zu Ihrer minimalen Temperatur bringen. \n",
    "- *Plotten* Sie den optimierten Weg. Stimmt er mit Ihren Erwartungen überein?\n",
    "\n",
    "Das Problem ist in der Informatik unter dem Namen [Traveling Salesman Problem](http://de.wikipedia.org/wiki/Problem_des_Handlungsreisenden) bekannt und eines der Standardbeispiele für ein Problem, das exakt nur in nicht-polynomieller Zeit gelöst werden kann. Was bedeutet dies für unseren Metropolis-Ansatz?\n",
    "\n",
    "\n"
   ]
  },
  {
   "cell_type": "code",
   "execution_count": null,
   "metadata": {},
   "outputs": [],
   "source": []
  }
 ],
 "metadata": {
  "kernelspec": {
   "display_name": "Julia 1.4.0",
   "language": "julia",
   "name": "julia-1.4"
  },
  "language_info": {
   "file_extension": ".jl",
   "mimetype": "application/julia",
   "name": "julia",
   "version": "1.4.0"
  }
 },
 "nbformat": 4,
 "nbformat_minor": 1
}
