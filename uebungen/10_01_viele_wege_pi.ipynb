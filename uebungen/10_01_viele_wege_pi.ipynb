{
 "cells": [
  {
   "cell_type": "markdown",
   "metadata": {},
   "source": [
    "<table style=\"width: 100%; border-style: none;\">\n",
    "<tr style=\"border-style: none\">\n",
    "<td style=\"border-style: none; width: 1%; text-align: left; font-size: 16px\">Institut f&uuml;r Theoretische Physik<br /> Universit&auml;t zu K&ouml;ln</td>\n",
    "<td style=\"border-style: none; width: 1%; font-size: 16px\">&nbsp;</td>\n",
    "<td style=\"border-style: none; width: 1%; text-align: right; font-size: 16px\">Prof. Dr. Simon Trebst<br />Jan Attig</td>\n",
    "</tr>\n",
    "</table>\n",
    "<hr>\n",
    "<h1 style=\"font-weight:bold; text-align: center; margin: 0px; font-size: 30px; padding:0px;\">Computerphysik</h1>\n",
    "<h1 style=\"font-weight:bold; text-align: center; margin: 0px; font-size: 30px; padding:0px;\">Übungsblatt 10</h1>\n",
    "<hr>\n",
    "<h3 style=\"font-weight:bold; text-align: center; margin: 0px; font-size: 20px; padding:0px; margin-bottom: 20px;\">Sommersemester 2020</h3>\n",
    "<hr>\n",
    "\n",
    "**Website** [http://www.thp.uni-koeln.de/trebst/Lectures/2020-CompPhys.shtml](http://www.thp.uni-koeln.de/trebst/Lectures/2020-CompPhys.shtml)\n",
    "\n",
    "**Abgabe**:  29.6.2020 bis 13:00 Uhr\n",
    "\n",
    "**Besprechung**:  1.7.2020 - 3.7.2020\n",
    "\n",
    "**Name**: <font color=\"red\">Bitte geben Sie ihren Namen an</font>\n",
    "\n",
    "**Matrikelnummer**: <font color=\"red\">Bitte geben Sie ihre Matrikelnummer an</font>"
   ]
  },
  {
   "cell_type": "markdown",
   "metadata": {},
   "source": [
    "<table style=\"border-style: none; width: 100%\"><tr style=\"border-style: none;\">\n",
    "<td style=\"border-style: none; width: 1%; text-align: left; font-size: 25px; font-weight: bold; text-decoration: underline\">Aufgaben auf Übungsblatt 10</td>\n",
    "<td style=\"border-style: none; width: 1%; text-align: right; font-size: 15px\"></td></tr></table>\n",
    "\n",
    "- **Viele Wege führen nach Pi** [6 Punkte]\n",
    "- Das Spiel mit dem Chaos [7 Punkte]\n",
    "- Dendriten Wachstum [7 Punkte]\n",
    "- (Bonus) Generierung von Landschaften [14 Bonus-Punkte]\n"
   ]
  },
  {
   "cell_type": "markdown",
   "metadata": {},
   "source": [
    "<table style=\"border-style: none; width: 100%\"><tr style=\"border-style: none;\">\n",
    "<td style=\"border-style: none; width: 1%; text-align: left; font-size: 25px; font-weight: bold; text-decoration: underline\">Viele Wege führen nach Pi</td>\n",
    "<td style=\"border-style: none; width: 1%; text-align: right; font-size: 15px\">[6 Punkte]</td></tr></table>"
   ]
  },
  {
   "cell_type": "markdown",
   "metadata": {},
   "source": [
    "Die **Zahl ${\\pi}$** fasziniert die Menschen seit geraumer Zeit. Ihre anschaulichste Bedeutung ist wohl, dass sie das Verhältnis des Flächeninhalts eines Quadrats zu dem eines Kreises mit gleichem Durchmesser wie die Seitenlänge des Quadrats angibt. Analytisch berechnen lässt Sie sich auf verschiedenen Wegen im Prinzip beliebig genau.\n",
    "\n",
    "Wir wollen in dieser Aufgabe eine Methode kennenlernen, mit der Sie $\\pi$ auch dann berechnen könnten, wenn Sie einmal auf einer einsamen Insel stranden, alles über $\\pi$ vergessen haben, aber unbedingt den Flächeninhalt eines Kreises berechnen müssen."
   ]
  },
  {
   "cell_type": "markdown",
   "metadata": {},
   "source": [
    "### a) Berechnung von $\\pi$\n",
    "\n",
    "Um in unserer Insel-Metapher zu bleiben: Stellen Sie sich vor, Sie zeichnen ein Quadrat in den Sand am Strand und darin einen Kreis. Sie werfen nun **Kieselsteine** in das Quadrat und schauen, wie oft Sie in den Kreis treffen (und wie oft nicht). Angenommen Sie könnten so werfen, dass Sie jeden Ort im Quadrat mit gleicher Wahrscheinlichkeit treffen, so ist es leicht nachzuvollziehen, dass das Verhältnis aus Kieseln im Kreis zu den insgesamt geworfenen Kieseln proportional zum Verhältnis ihrer Flächeninhalte und damit auch proportional zu $\\pi$ ist. Berechnen Sie $\\pi$ auf diesem Weg."
   ]
  },
  {
   "cell_type": "code",
   "execution_count": null,
   "metadata": {},
   "outputs": [],
   "source": []
  },
  {
   "cell_type": "markdown",
   "metadata": {},
   "source": [
    "### b) Fehler der Methode\n",
    "\n",
    "Testen Sie wie sich der **Fehler** im Bezug auf die Anzahl an geworfenen Kieseln verhält. Plotten Sie dafür die mittlere absolute Abweichung Ihres Sampling von $\\pi$ (z.B. bei 100 verschiedenen Samplings gleicher Kiesel-Anzahl) gegen die Anzahl der geworfenen Elemente in einem doppelt logarithmischen Plot und erklären Sie den Kurvenverlauf mit Ihrem Wissen aus der Vorlesung!"
   ]
  },
  {
   "cell_type": "code",
   "execution_count": null,
   "metadata": {},
   "outputs": [],
   "source": []
  }
 ],
 "metadata": {
  "kernelspec": {
   "display_name": "Julia 1.4.0",
   "language": "julia",
   "name": "julia-1.4"
  },
  "language_info": {
   "file_extension": ".jl",
   "mimetype": "application/julia",
   "name": "julia",
   "version": "1.4.0"
  }
 },
 "nbformat": 4,
 "nbformat_minor": 1
}
