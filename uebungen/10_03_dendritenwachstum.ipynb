{
 "cells": [
  {
   "cell_type": "markdown",
   "metadata": {},
   "source": [
    "<table style=\"width: 100%; border-style: none;\">\n",
    "<tr style=\"border-style: none\">\n",
    "<td style=\"border-style: none; width: 1%; text-align: left; font-size: 16px\">Institut f&uuml;r Theoretische Physik<br /> Universit&auml;t zu K&ouml;ln</td>\n",
    "<td style=\"border-style: none; width: 1%; font-size: 16px\">&nbsp;</td>\n",
    "<td style=\"border-style: none; width: 1%; text-align: right; font-size: 16px\">Prof. Dr. Simon Trebst<br />Jan Attig</td>\n",
    "</tr>\n",
    "</table>\n",
    "<hr>\n",
    "<h1 style=\"font-weight:bold; text-align: center; margin: 0px; font-size: 30px; padding:0px;\">Computerphysik</h1>\n",
    "<h1 style=\"font-weight:bold; text-align: center; margin: 0px; font-size: 30px; padding:0px;\">Übungsblatt 10</h1>\n",
    "<hr>\n",
    "<h3 style=\"font-weight:bold; text-align: center; margin: 0px; font-size: 20px; padding:0px; margin-bottom: 20px;\">Sommersemester 2020</h3>\n",
    "<hr>\n",
    "\n",
    "**Website** [http://www.thp.uni-koeln.de/trebst/Lectures/2020-CompPhys.shtml](http://www.thp.uni-koeln.de/trebst/Lectures/2020-CompPhys.shtml)\n",
    "\n",
    "**Abgabe**:  29.6.2020 bis 13:00 Uhr\n",
    "\n",
    "**Besprechung**:  1.7.2020 - 3.7.2020\n",
    "\n",
    "**Name**: <font color=\"red\">Bitte geben Sie ihren Namen an</font>\n",
    "\n",
    "**Matrikelnummer**: <font color=\"red\">Bitte geben Sie ihre Matrikelnummer an</font>"
   ]
  },
  {
   "cell_type": "markdown",
   "metadata": {},
   "source": [
    "<table style=\"border-style: none; width: 100%\"><tr style=\"border-style: none;\">\n",
    "<td style=\"border-style: none; width: 1%; text-align: left; font-size: 25px; font-weight: bold; text-decoration: underline\">Aufgaben auf Übungsblatt 10</td>\n",
    "<td style=\"border-style: none; width: 1%; text-align: right; font-size: 15px\"></td></tr></table>\n",
    "\n",
    "- Viele Wege führen nach Pi [6 Punkte]\n",
    "- Das Spiel mit dem Chaos [7 Punkte]\n",
    "- **Dendriten Wachstum** [7 Punkte]\n",
    "- (Bonus) Generierung von Landschaften [14 Bonus-Punkte]\n"
   ]
  },
  {
   "cell_type": "markdown",
   "metadata": {},
   "source": [
    "<table style=\"border-style: none; width: 100%\"><tr style=\"border-style: none;\">\n",
    "<td style=\"border-style: none; width: 1%; text-align: left; font-size: 25px; font-weight: bold; text-decoration: underline\">Dendriten Wachstum</td>\n",
    "<td style=\"border-style: none; width: 1%; text-align: right; font-size: 15px\">[7 Punkte]</td></tr></table>"
   ]
  },
  {
   "cell_type": "markdown",
   "metadata": {},
   "source": [
    "Verästelte Kristallstrukturen - sogenannte Dendriten - entstehen durch die **zufällige Anlagerung diffusiver Teilchen**. Den Wachstumsprozess eines solchen Dendriten wollen wir in dieser Aufgabe illustrieren, indem wir den Zufallslauf einzelner diffusiver Teilchen simulieren. \n",
    "\n",
    "Dazu gehen wir wie folgt vor: Gegeben sei eine Experimentierscheibe von Radius $R$, in deren Mitte sich ein *Seed*,  ein erstes unbewegliches Teilchen, befinde. Wir starten nun ein weiteres Teilchen an beliebiger Position auf dem Rand der Experimentierscheibe. In jedem Simulationsschritt kann sich das Teilchen mit gleicher Wahrscheinlichkeit in eine von vier Richtungen (oben/unten/links/rechts) bewegen. Diese diffusive Bewegung simulieren wir so lange bis das Teilchen an den bestehenden Kristall andockt, d.h. es erreicht eine Position in deren unmittelbaren Nachbarschaft (oben/unten/links/rechts) sich ein bereits fixiertes, unbewegliches Teilchen befindet. In einem solchen Fall fixieren wir die Position des Teilchens und starten das nächste Teilchen vom Rand. Sollte das Teilchen während der Simulation von der Experimentierscheibe wandern -- also einen Abstand größer als R vom Mittelpunkt erreichen  dann verwerfen wir das aktuelle Teilchen und starten ein neues Teilchen auf dem Rand.\n",
    "\n",
    "<img src=\"http://www.thp.uni-koeln.de/trebst/Lectures/CompPhys-2016/bonus_11_dendritenwachstum.png\" width=\"450\" />\n",
    " \n",
    "Simulieren Sie den Wachstum eines derartigen Dendriten auf einem Raster von $128 \\times 128$ Positionen und einer Experimentierscheibe vom Radius $R=64$. Stellen Sie den gewachsene Struktur graphisch dar.\n",
    "\n",
    "Wer sich ein wenig über die historische Entwicklung dieses im Englischen als *diffusion limited aggregation* bezeichneten Phänomens informieren möchte, der sei auf diesen [Bericht](http://garfield.library.upenn.edu/classics1993/A1993KX31200001.pdf) seines Entdeckers Thomas Witten von der University of Chicago verwiesen."
   ]
  },
  {
   "cell_type": "code",
   "execution_count": null,
   "metadata": {},
   "outputs": [],
   "source": []
  }
 ],
 "metadata": {
  "kernelspec": {
   "display_name": "Julia 1.4.0",
   "language": "julia",
   "name": "julia-1.4"
  },
  "language_info": {
   "file_extension": ".jl",
   "mimetype": "application/julia",
   "name": "julia",
   "version": "1.4.0"
  }
 },
 "nbformat": 4,
 "nbformat_minor": 1
}
