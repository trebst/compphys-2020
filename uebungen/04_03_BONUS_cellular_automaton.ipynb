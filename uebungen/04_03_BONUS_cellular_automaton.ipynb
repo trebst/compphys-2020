{
 "cells": [
  {
   "cell_type": "markdown",
   "metadata": {},
   "source": [
    "<table style=\"width: 100%; border-style: none;\">\n",
    "<tr style=\"border-style: none\">\n",
    "<td style=\"border-style: none; width: 1%; text-align: left; font-size: 16px\">Institut f&uuml;r Theoretische Physik<br /> Universit&auml;t zu K&ouml;ln</td>\n",
    "<td style=\"border-style: none; width: 1%; font-size: 16px\">&nbsp;</td>\n",
    "<td style=\"border-style: none; width: 1%; text-align: right; font-size: 16px\">Prof. Dr. Simon Trebst<br />Jan Attig</td>\n",
    "</tr>\n",
    "</table>\n",
    "<hr>\n",
    "<h1 style=\"font-weight:bold; text-align: center; margin: 0px; font-size: 30px; padding:0px;\">Computerphysik</h1>\n",
    "<h1 style=\"font-weight:bold; text-align: center; margin: 0px; font-size: 30px; padding:0px;\">Übungsblatt 4</h1>\n",
    "<hr>\n",
    "<h3 style=\"font-weight:bold; text-align: center; margin: 0px; font-size: 20px; padding:0px; margin-bottom: 20px;\">Sommersemester 2020</h3>\n",
    "<hr>\n",
    "\n",
    "**Website** [http://www.thp.uni-koeln.de/trebst/Lectures/2020-CompPhys.shtml](http://www.thp.uni-koeln.de/trebst/Lectures/2020-CompPhys.shtml)\n",
    "\n",
    "**Abgabe**:  18.5.2020 bis 13:00 Uhr\n",
    "\n",
    "**Besprechung**:  20.5.2020 - 22.5.2020\n",
    "\n",
    "**Name**: <font color=\"red\">Bitte geben Sie ihren Namen an</font>\n",
    "\n",
    "**Matrikelnummer**: <font color=\"red\">Bitte geben Sie ihre Matrikelnummer an</font>"
   ]
  },
  {
   "cell_type": "markdown",
   "metadata": {},
   "source": [
    "<table style=\"border-style: none; width: 100%\"><tr style=\"border-style: none;\">\n",
    "<td style=\"border-style: none; width: 1%; text-align: left; font-size: 25px; font-weight: bold; text-decoration: underline\">Aufgaben auf Übungsblatt 4</td>\n",
    "<td style=\"border-style: none; width: 1%; text-align: right; font-size: 15px\"></td></tr></table>\n",
    "\n",
    "- Simpson vs. Trapezregel [6 Punkte]\n",
    "- Statistik einer Epidemie [14 Punkte]\n",
    "- **(Bonus) Zweidimensionale Zelluläre Automaten** [10 Bonus-Punkte]\n"
   ]
  },
  {
   "cell_type": "markdown",
   "metadata": {},
   "source": [
    "<table style=\"border-style: none; width: 100%\"><tr style=\"border-style: none;\">\n",
    "<td style=\"border-style: none; width: 1%; text-align: left; font-size: 25px; font-weight: bold; text-decoration: underline\">Zweidimensionale zelluläre Automaten</td>\n",
    "<td style=\"border-style: none; width: 1%; text-align: right; font-size: 15px\">[10 Bonus-Punkte]</td></tr></table>"
   ]
  },
  {
   "cell_type": "markdown",
   "metadata": {},
   "source": [
    "In dieser *optionalen Aufgabe* betrachten wir die zeitlichen Entwicklung zweier **zweidimensionaler zellulärer Automaten**. Ein solcher zellulärer Automat ist ein diskretes System aus einzelnen Zellen, die in einem Quadratgitter angeordnet sind und ausgehend von ihrem eigenen Zustand und dem der umgegebenen Zellen in jedem Zeitschritt aktualisiert werden.\n",
    "\n",
    "In dieser Aufgabe wollen wir uns auf zwei verschiedene Systeme konzentrieren. Zum einen behandeln wir einen *chemischen zellulären Automaten* mit drei Parametern $a, b, c \\in [0, 1)$ und zum anderen das bekannte [Game of Life](https://de.wikipedia.org/wiki/Conways_Spiel_des_Lebens) von John Conway. Wir lassen diese Aufgabe auch deshalb in diesem Semester laufen, weil [John Conway](https://de.wikipedia.org/wiki/John_Horton_Conway) – einer der originellsten Mathematiker seiner Generation – bedauerlicherweise Anfang April verstorben ist; eine sehr schöne Beschreibung seines Wirkens findet sich in diesem 2015 erschienen [Artikel im Guardian](https://www.theguardian.com/science/2015/jul/23/john-horton-conway-the-most-charismatic-mathematician-in-the-world), sowie in den Nachrufen der [New York Times](https://nyti.ms/3epJ7dz) und des [Quanta Magazines](https://www.quantamagazine.org/john-conway-solved-mathematical-problems-with-his-bare-hands-20200420/).\n",
    "\n",
    "Um Ihnen den Einstieg in diese Aufgabe zu erleichern, stellen wir Ihnen die nötigen Funktionen zur Seite, die Ihren Automaten animieren werden (basierend auf Ihrer Berechnung der Zustände). Beachten Sie jedoch bitte, dass diese Funktionen nicht in Julia Box funktionieren."
   ]
  },
  {
   "cell_type": "code",
   "execution_count": null,
   "metadata": {},
   "outputs": [],
   "source": [
    "# Useful Base Libraries\n",
    "using LinearAlgebra\n",
    "using Statistics\n",
    "\n",
    "# Plotting Stuff\n",
    "using PyPlot # plotting library\n",
    "pygui(true)  # external window\n",
    "\n",
    "# generieren der Figur\n",
    "function generate_image(data; zoom=1.0)\n",
    "    fig = figure(figsize=size(data), frameon=false, dpi=1*zoom)\n",
    "    image = imshow(data', interpolation=\"none\", origin=\"lower\")\n",
    "    axis(\"off\")\n",
    "    fig.subplots_adjust(bottom=0, top=1, right=1, left=0)\n",
    "    return image\n",
    "end\n",
    "\n",
    "# Updaten der Figur\n",
    "function update_image!(image, data)\n",
    "    image.set_array(data')\n",
    "    pause(0.001)\n",
    "end"
   ]
  },
  {
   "cell_type": "markdown",
   "metadata": {},
   "source": [
    "Um Ihnen zudem einen einfachen Einstieg in die Programmierung von zellulären Automaten zu geben, stellen wir Ihnen zusätzlich eine Funktion `neighbors` bereit, die die Summe der Nachbarn um eine Stelle `i,j` in einem gegebenen Array (unter Berücksichtigung von *periodischen Randbedingungen*) berechnet."
   ]
  },
  {
   "cell_type": "code",
   "execution_count": null,
   "metadata": {},
   "outputs": [],
   "source": [
    "# Summe der Nachbarn um (i,j) im Array data berechnen\n",
    "function neighbors(data, i, j)\n",
    "    if i == size(data,1)\n",
    "        ip1 = 1\n",
    "        im1 = i-1\n",
    "    elseif i == 1\n",
    "        ip1 = i+1\n",
    "        im1 = size(data,1)\n",
    "    else\n",
    "        ip1 = i+1      \n",
    "        im1 = i-1 \n",
    "    end\n",
    "    if j == size(data,2)\n",
    "        jp1 = 1\n",
    "        jm1 = j-1\n",
    "    elseif j == 1\n",
    "        jp1 = j+1\n",
    "        jm1 = size(data,2)\n",
    "    else\n",
    "        jp1 = j+1\n",
    "        jm1 = j-1\n",
    "    end\n",
    "    return  data[ip1, j] +\n",
    "            data[im1, j] +\n",
    "            data[ip1, jp1] +\n",
    "            data[im1, jp1] +\n",
    "            data[ip1, jm1] +\n",
    "            data[im1, jm1] +\n",
    "            data[i, jp1] +\n",
    "            data[i, jm1]\n",
    "end"
   ]
  },
  {
   "cell_type": "markdown",
   "metadata": {},
   "source": [
    "### Teil A - Chemischer zellulärer Automat\n",
    "\n",
    "Bei diesem Automaten werden die Zellen durch drei Parameter $a, b, c \\in [0, 1)$ beschrieben werden, welche die Konzentration dreier Chemikalien beschreiben sollen. Das Aktualisieren der Werte soll chemische Reaktionen zwischen diesen Substanzen beschreiben. Zu Anfang seien die drei Konzentrationen zufällig aus dem möglichen Wertebereich gewählt.\n",
    "\n",
    "Der zelluläre Automat funktioniert nun nach den folgenden Regeln:\n",
    "* Für jede Zelle wird der durchschnittliche Wert $\\overline{a}, \\overline{b}, \\overline{c}$ als Mittelwert der acht umgebenden Zellen sowie des Werts der Zelle selbst berechnet.\n",
    "* Der neue Zustand ist dann gegeben durch\n",
    "\n",
    "$\\quad a = \\min\\left(1.0,\\; \\overline{a}\\cdot\\left(1. + \\overline{b} - \\overline{c}\\right)\\right)$\n",
    "\n",
    "$\\quad b = \\min\\left(1.0,\\; \\overline{b}\\cdot \\left(1. + \\overline{c} - \\overline{a}\\right)\\right)$\n",
    "\n",
    "$\\quad c = \\min\\left(1.0,\\; \\overline{c}\\cdot \\left(1. + \\overline{a} - \\overline{b}\\right)\\right)$\n",
    "\n",
    "Ihre Aufgabe ist es das Programm-Skelett in den nachfolgenen Zellen zu vervollständigen und um das Update der Automaten-Zellen zu erweitern. Wie Sie erkennen können, wird der Automat bereits visualisiert indem eine der drei Konzentrationen dargestellt und in jedem Schritt aktualisiert wird. \n",
    "\n",
    "Es kann hilfreich sein, die Funktion `neighbors` zu benutzen, die oben bereits definiert ist. Diese erzeugt die Summe der umliegenden Nachbarn in einem gegebenen Array an einer gegebenen Position.\n",
    "\n",
    "Beachten Sie schließlich, dass alle Zellen *gleichzeitig* in den neuen Zustand übergehen, d.h. die Berechnung der Mittelwerte darf ausschließlich mit den Werten des vorherigen Iterationsschritts passieren und nicht mit denen der schon partiell veränderten Matrix.\n"
   ]
  },
  {
   "cell_type": "code",
   "execution_count": null,
   "metadata": {},
   "outputs": [],
   "source": [
    "# Systemgroesse\n",
    "Lx = 200\n",
    "Ly = 100\n",
    "\n",
    "# Die Werte a,b,c des Automaten als 3 Arrays der Groesse LxL\n",
    "automaton_a = rand(Lx, Ly)\n",
    "automaton_b = rand(Lx, Ly)\n",
    "automaton_c = rand(Lx, Ly)\n",
    "\n",
    "# Arrays fuer die Mittelwerte\n",
    "automaton_mean_a = zeros(Lx, Ly)\n",
    "automaton_mean_b = zeros(Lx, Ly)\n",
    "automaton_mean_c = zeros(Lx, Ly)\n",
    "\n",
    "# Erstes darstellen des Bildes\n",
    "image = generate_image(automaton_a, zoom=4)\n",
    "\n",
    "\n",
    "# Fuehre Schritte aus\n",
    "for step in 1:200\n",
    "    \n",
    "    ############################################\n",
    "    # HIER SOLLTE IHR CODE STEHEN\n",
    "    # Berechne die Mittelwerte    \n",
    "    # Berechne die neuen Automatenzustaende\n",
    "    ############################################\n",
    "\n",
    "    # Aktualisiere das Bild\n",
    "    update_image!(image, automaton_a)\n",
    "end"
   ]
  },
  {
   "cell_type": "markdown",
   "metadata": {
    "collapsed": true
   },
   "source": [
    "### Teil B - Conway's Game of Life\n",
    "\n",
    "Im Folgenden wollen wir nun einen weiteren zellulären Automaten betrachten, der als [Conway's Game of Life](https://de.wikipedia.org/wiki/Conways_Spiel_des_Lebens) bekannt wurde. Die Grundlage dieses Automaten sind erneut Zellen, die in einem Quadratgitter angeordnet sind. Im Unterschied zum biologischen Automaten können diese jedoch nur zwischen zwei Zuständen wechseln, die wir im Folgenden als tot (`0`) und lebendig (`1`) bezeichnen wollen.\n",
    "\n",
    "In jedem Iterationsschritt wird nun für jede Zelle geprüft, ob sie lebt oder tot ist und wie viele lebendige Nachbarn sie besitzt. Daraus wird entwickelt, wie sich die Zelle im nächsten Iterationsschritt verhält:\n",
    "- Eine Zelle mit weniger als 2 lebendigen Nachbarn ist sicher im nächsten Schritt tot\n",
    "- Eine tote Zelle mit exakt 3 lebendigen Nachbarn wird im nächsten Schritt geboren\n",
    "- Eine lebeindige Zelle mit mehr als 3 lebendigen Nachbarn stirbt in der nächsten Generation an Überbevölkerung\n",
    "\n",
    "Ihre Aufgabe ist die Implementierung des Automaten basierend auf dem Code aus dem vorherigen Aufgabenteil. Testen Sie Ihre Implementierung indem Sie ein zufällig besetztes Array generieren und dieses als Startkonfiguration benutzen."
   ]
  },
  {
   "cell_type": "code",
   "execution_count": null,
   "metadata": {},
   "outputs": [],
   "source": [
    "# Systemgroesse\n",
    "Lx = 1280\n",
    "Ly = 720\n",
    "\n",
    "############################################\n",
    "# HIER SOLLTE IHR CODE STEHEN\n",
    "############################################"
   ]
  },
  {
   "cell_type": "markdown",
   "metadata": {
    "collapsed": true
   },
   "source": [
    "Wie Sie sicherlich erkennen konnten, entwickelt sich die zufällige Konfiguration in vielerlei Hinsicht. Es gibt kleine Strukturen und Cluster die scheinbar statisch scheinen, sowie Elemente, die kurze Perioden durchlaufen (sogenannte Pulsare). Die Menge an verschiedene Konfigurationen und Mustern ist gigantisch und kann im [Game of Life Wiki](http://www.conwaylife.com/wiki/Main_Page) nachgelesen werden. Wenn sie dort verschiedenen Konfigurationen, wie die [Gosper Gleiterkanone](http://www.conwaylife.com/wiki/Gosper_glider_gun) o.Ä. betrachten, können Sie diese auch in einem sogenannten [RLE](http://www.conwaylife.com/wiki/RLE) Format direkt kopieren.\n",
    "\n",
    "Probieren Sie Ihren Code um eine Funktion zu erweitern, die aus einen RLE String in ihre Simulation einlesen kann. Welches Muster finden Sie am interessantesten?\n",
    "\n",
    "Hinweis: Sie mögen das String Macro `raw\"...\"` hier nützlich finden, da es Strings mit enthaltenen `$` darstellen kann. Z.B. erzeugt `raw\"ob$b\"` wirklich den entsprechenden String und will nicht den Buchstaben `b` interpretieren."
   ]
  },
  {
   "cell_type": "code",
   "execution_count": null,
   "metadata": {},
   "outputs": [],
   "source": []
  },
  {
   "cell_type": "code",
   "execution_count": null,
   "metadata": {},
   "outputs": [],
   "source": []
  }
 ],
 "metadata": {
  "@webio": {
   "lastCommId": "5b56f7a7f8f6473f86977b3f5dc7e527",
   "lastKernelId": "8285acdd-440a-48cc-bb52-ee59ffddeb50"
  },
  "kernelspec": {
   "display_name": "Julia 1.4.0",
   "language": "julia",
   "name": "julia-1.4"
  },
  "language_info": {
   "file_extension": ".jl",
   "mimetype": "application/julia",
   "name": "julia",
   "version": "1.4.0"
  }
 },
 "nbformat": 4,
 "nbformat_minor": 1
}
