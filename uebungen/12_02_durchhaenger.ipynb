{
 "cells": [
  {
   "cell_type": "markdown",
   "metadata": {},
   "source": [
    "<table style=\"width: 100%; border-style: none;\">\n",
    "<tr style=\"border-style: none\">\n",
    "<td style=\"border-style: none; width: 1%; text-align: left; font-size: 16px\">Institut f&uuml;r Theoretische Physik<br /> Universit&auml;t zu K&ouml;ln</td>\n",
    "<td style=\"border-style: none; width: 1%; font-size: 16px\">&nbsp;</td>\n",
    "<td style=\"border-style: none; width: 1%; text-align: right; font-size: 16px\">Prof. Dr. Simon Trebst<br />Jan Attig</td>\n",
    "</tr>\n",
    "</table>\n",
    "<hr>\n",
    "<h1 style=\"font-weight:bold; text-align: center; margin: 0px; font-size: 30px; padding:0px;\">Computerphysik</h1>\n",
    "<h1 style=\"font-weight:bold; text-align: center; margin: 0px; font-size: 30px; padding:0px;\">Übungsblatt 12</h1>\n",
    "<hr>\n",
    "<h3 style=\"font-weight:bold; text-align: center; margin: 0px; font-size: 20px; padding:0px; margin-bottom: 20px;\">Sommersemester 2020</h3>\n",
    "<hr>\n",
    "\n",
    "**Website** [http://www.thp.uni-koeln.de/trebst/Lectures/2020-CompPhys.shtml](http://www.thp.uni-koeln.de/trebst/Lectures/2020-CompPhys.shtml)\n",
    "\n",
    "**Abgabe**:  13.7.2020 bis 13:00 Uhr\n",
    "\n",
    "**Besprechung**:  15.7.2020 - 17.7.2020\n",
    "\n",
    "**Name**: <font color=\"red\">Bitte geben Sie ihren Namen an</font>\n",
    "\n",
    "**Matrikelnummer**: <font color=\"red\">Bitte geben Sie ihre Matrikelnummer an</font>"
   ]
  },
  {
   "cell_type": "markdown",
   "metadata": {},
   "source": [
    "<table style=\"border-style: none; width: 100%\"><tr style=\"border-style: none;\">\n",
    "<td style=\"border-style: none; width: 1%; text-align: left; font-size: 25px; font-weight: bold; text-decoration: underline\">Aufgaben auf Übungsblatt 12</td>\n",
    "<td style=\"border-style: none; width: 1%; text-align: right; font-size: 15px\"></td></tr></table>\n",
    "\n",
    "- Ising Modell auf dem Dreiecksgitter [12 Punkte]\n",
    "- **Durchhänger** [8 Punkte]\n",
    "- (Bonus) Unterwegs mit Metropolis [12 Bonus-Punkte]\n"
   ]
  },
  {
   "cell_type": "markdown",
   "metadata": {},
   "source": [
    "<table style=\"border-style: none; width: 100%\"><tr style=\"border-style: none;\">\n",
    "<td style=\"border-style: none; width: 1%; text-align: left; font-size: 25px; font-weight: bold; text-decoration: underline\">Durchhänger</td>\n",
    "<td style=\"border-style: none; width: 1%; text-align: right; font-size: 15px\">[8 Punkte]</td></tr></table>"
   ]
  },
  {
   "cell_type": "markdown",
   "metadata": {},
   "source": [
    "In dieser Aufgabe wollen wir das Durchhängen eines elastischen Seils numerisch mittels des Metropolisalgorithmus simulieren. Ein solches Seil wird beschrieben durch seine Auslenkung $u(x)$ aus der Horizontalen, sowie einige Parametern. Wir betrachten zunächst das Energiefunktional für ein Seil welches  gespannt ist. Dieses nimmt die Form\n",
    "Spannen wir das Seil zwischen den Endpunkten $x_L$ und $x_R$, ergibt sich folgendes Funktional für die Gesamtenergie des Seils:\n",
    "\\begin{equation}\n",
    "V = \\int\\limits_{x_L}^{x_R}\\text{d}x\\,\\left[\\frac{\\sigma}{2}\\left(\\partial_x u(x)\\right)^2 + mgu(x)  + V(x)\\right].\n",
    "\\end{equation}\n",
    "\n",
    "Das Funktional enthält einen Term $\\frac{\\sigma}{2}\\left(\\partial_x u(x)\\right)^2$ der die Spann-Energie des Seils beschreibt, einen Term $mgu(x)$ der die potentielle Energie auf Grund der Auslenkung enthält, sowie einen Term $V(x)$ der ein zusätzliches externes Potential beschreibt. Dieses externe Potential können wir in der Aufgabe benutzen, um z.B. einen Gegenstand mit dem Seil interagieren zu lassen und \"verbotene Regionen\" für das Seil zu definieren, die durch hohe Energiekosten vermieden werden sollen. \n",
    "\n",
    "Bezüglich der Parameter wählen wir in dieser Aufgabe $m=g=1$, während wir die Elastizitätskonstante $\\sigma$ auf einen Wert von $\\sigma=3$ ansetzen wollen. Das Seil wollen wir zwischen $x_L=-10$ und $x_R=10$ spannen, d.h. $u(x_0) = u(x_N) = 0$. \n",
    "\n",
    "Zur numerischen Simulation diskretisieren wir das Seil, indem wir seine Auslenkung nur noch an diskreten Punkten $x_1, \\dots, x_N$ betrachten (Sie können z.B. $N=81$ verwenden). Entsprechend müssen wir dann auch die Ableitung und das Integral diskret berechnen, wodurch wir folgende diskrete Form der Energie erhalten:\n",
    "\\begin{equation}\n",
    "V = \\sum_{i=1}^{N-1} \\left[\\frac{\\sigma}{2\\Delta x^2}\\big(u(x_{i+1}) - u(x_{i})\\big)^2\\right]\n",
    "    + \\sum_{i=1}^{N} \\big[mgu(x_i)  + V(x_i)\\big].\n",
    "\\end{equation}\n",
    "\n",
    "Dabei beschreibt die erste Summe die Spannung aller diskreten Seilstücke $i \\to i+1$ (der Länge $\\Delta x$), wohingegen die zweite Summe die potentielle Energie und das externe Potential an den Stützstellen $i$ enthält. Eine ähnliche Form der Energie könnten Sie auch erhalten, wenn Sie statt des gespannten Seils eine Kette aus Kugeln und Federn betrachten würden."
   ]
  },
  {
   "cell_type": "markdown",
   "metadata": {},
   "source": [
    "### a) Implementation des Metropolis-Algorithmus\n",
    "\n",
    "Implementieren Sie im Folgenden nun den Metropolis-Algorithmus, um die Ruhelage des Seils für ein allgemeines $V(x)$ zu berechnen. Schlagen Sie dazu kleine vertikale Verschiebungen in einem Bereich von $du \\in [-0.02, 0.02]$ an verschiedenen Stellen im Seil vor und akzeptieren Sie diese mit einer Wahrscheinlichkeit\n",
    "\n",
    "\\begin{equation}\n",
    "p_{\\rm acc} = \\min\\left( 1, e^{-\\Delta V/T}\\right).\n",
    "\\end{equation}\n",
    "\n",
    "Nehmen Sie dazu eine fiktive Temperatur von $T=0.001$ an. Um in eine minimale Konfiguration zu konvergieren, sollten Sie ausreichend viele Updates laufen lassen, wir schlagen insgesamt $10.000$ Sweeps vor, d.h. $10.000\\times N$ Updates. Um zu sehen, wie der Algorithmus eine optimale Konfiguration findet, können Sie das Seil z.B. nach jedem 50. Sweep plotten.\n",
    "\n",
    "Debuggen Sie Ihren Code mit einem freien Seil im Gravitationspotential, d.h. $V(x) = 0$, und stellen Sie sicher, dass Ihr Seil eine Konfiguration annimmt, die Sie für ein frei hängendes Seil erwarten."
   ]
  },
  {
   "cell_type": "code",
   "execution_count": null,
   "metadata": {},
   "outputs": [],
   "source": []
  },
  {
   "cell_type": "markdown",
   "metadata": {},
   "source": [
    "### b) Verschiedene Potentiale\n",
    "\n",
    "Wir betrachten nun verschiedene Potentiale $V(x)$, die verschiedene physikalische Situationen modellieren sollen. Implementieren Sie $V(x)$ in Ihren Code und plotten Sie für jeden der nachfolgenden Fälle die Konfiguration des Seils bei minimaler Energie, die Sie aus Ihrer Simulation erhalten.\n",
    "\n",
    "\n",
    "Wir beginnen mit einem Potential, das z.B. einen Schrank modelliert, den wir zudecken wollen:\n",
    "\n",
    "\\begin{equation}\n",
    "V(x) = \\begin{cases}\n",
    "10^{10} & 1.5\\leq |x|\\leq 6 \\wedge u(x) < 2, \\\\\n",
    "10^{10} & |x|\\leq 1.5 \\wedge u(x) < 3, \\\\\n",
    "10^{10} & u(x) < 0, \\\\\n",
    "0 &\\mbox{sonst.}\n",
    "\\end{cases}\n",
    "\\end{equation}"
   ]
  },
  {
   "cell_type": "code",
   "execution_count": null,
   "metadata": {},
   "outputs": [],
   "source": []
  },
  {
   "cell_type": "markdown",
   "metadata": {},
   "source": [
    "Danach wir eine Hängebrücke, wie z.B. die [Golden Gate Bridge](http://de.wikipedia.org/wiki/Golden_Gate_Bridge)\n",
    "\n",
    "\\begin{equation}\n",
    "V(x) = \\begin{cases}\n",
    "10^{10} & 5.5\\leq |x|\\leq 6 \\wedge u(x) < 3, \\\\\n",
    "10^{10} &u(x) < 0, \\\\\n",
    "0 &\\mbox{sonst.}\n",
    "\\end{cases}\n",
    "\\end{equation}"
   ]
  },
  {
   "cell_type": "code",
   "execution_count": null,
   "metadata": {},
   "outputs": [],
   "source": []
  },
  {
   "cell_type": "markdown",
   "metadata": {},
   "source": [
    "Schließlich betrachten wir den Kölner [Musical Dome](https://de.wikipedia.org/wiki/Musical_Dome)\n",
    "\\begin{equation}\n",
    "V(x) = \\begin{cases}\n",
    "10^{10} & -5 < x < -4.5 \\wedge u(x) < 4, \\\\\n",
    "10^{10} & -2.5 < x < -2 \\wedge u(x) < 4, \\\\\n",
    "10^{10} & 2 < x < 2.5 \\wedge u(x) < 3, \\\\\n",
    "10^{10} & 4.5 < x < 5 \\wedge u(x) < 3, \\\\\n",
    "10^{10} &u(x) < 0, \\\\\n",
    "0 &\\mbox{sonst.}\n",
    "\\end{cases}\n",
    "\\end{equation}"
   ]
  },
  {
   "cell_type": "code",
   "execution_count": null,
   "metadata": {},
   "outputs": [],
   "source": []
  }
 ],
 "metadata": {
  "kernelspec": {
   "display_name": "Julia 1.4.0",
   "language": "julia",
   "name": "julia-1.4"
  },
  "language_info": {
   "file_extension": ".jl",
   "mimetype": "application/julia",
   "name": "julia",
   "version": "1.4.0"
  }
 },
 "nbformat": 4,
 "nbformat_minor": 1
}
