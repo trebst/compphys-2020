{
 "cells": [
  {
   "cell_type": "markdown",
   "metadata": {},
   "source": [
    "<table style=\"width: 100%; border-style: none;\">\n",
    "<tr style=\"border-style: none\">\n",
    "<td style=\"border-style: none; width: 1%; text-align: left; font-size: 16px\">Institut f&uuml;r Theoretische Physik<br /> Universit&auml;t zu K&ouml;ln</td>\n",
    "<td style=\"border-style: none; width: 1%; font-size: 16px\">&nbsp;</td>\n",
    "<td style=\"border-style: none; width: 1%; text-align: right; font-size: 16px\">Prof. Dr. Simon Trebst<br />Jan Attig</td>\n",
    "</tr>\n",
    "</table>\n",
    "<hr>\n",
    "<h1 style=\"font-weight:bold; text-align: center; margin: 0px; font-size: 30px; padding:0px;\">Computerphysik</h1>\n",
    "<h1 style=\"font-weight:bold; text-align: center; margin: 0px; font-size: 30px; padding:0px;\">Übungsblatt 3</h1>\n",
    "<hr>\n",
    "<h3 style=\"font-weight:bold; text-align: center; margin: 0px; font-size: 20px; padding:0px; margin-bottom: 20px;\">Sommersemester 2020</h3>\n",
    "<hr>\n",
    "\n",
    "**Website** [http://www.thp.uni-koeln.de/trebst/Lectures/2020-CompPhys.shtml](http://www.thp.uni-koeln.de/trebst/Lectures/2020-CompPhys.shtml)\n",
    "\n",
    "**Abgabe**:  11.5.2020 bis 13:00 Uhr\n",
    "\n",
    "**Besprechung**:  13.5.2020 - 15.5.2020\n",
    "\n",
    "**Name**: <font color=\"red\">Bitte geben Sie ihren Namen an</font>\n",
    "\n",
    "**Matrikelnummer**: <font color=\"red\">Bitte geben Sie ihre Matrikelnummer an</font>"
   ]
  },
  {
   "cell_type": "markdown",
   "metadata": {},
   "source": [
    "<table style=\"border-style: none; width: 100%\"><tr style=\"border-style: none;\">\n",
    "<td style=\"border-style: none; width: 1%; text-align: left; font-size: 25px; font-weight: bold; text-decoration: underline\">Aufgaben auf Übungsblatt 3</td>\n",
    "<td style=\"border-style: none; width: 1%; text-align: right; font-size: 15px\"></td></tr></table>\n",
    "\n",
    "- Divide and Conquer [12 Punkte]\n",
    "- Newton Verfahren [8 Punkte]\n",
    "- **(Bonus) Newton Fraktrale** [8 Bonus-Punkte]\n"
   ]
  },
  {
   "cell_type": "markdown",
   "metadata": {},
   "source": [
    "<table style=\"border-style: none; width: 100%\"><tr style=\"border-style: none;\">\n",
    "<td style=\"border-style: none; width: 1%; text-align: left; font-size: 25px; font-weight: bold; text-decoration: underline\">Newton Fraktale</td>\n",
    "<td style=\"border-style: none; width: 1%; text-align: right; font-size: 15px\">[8 Bonus-Punkte]</td></tr></table>"
   ]
  },
  {
   "cell_type": "markdown",
   "metadata": {},
   "source": [
    "Das Newtonverfahren lässt sich problemlos auch auf **komplexe Funktionen** erweitern, die eine vielfältige Struktur an Nullstellen aufweisen können. Insbesondere kann es nunmehr Punkte geben, an denen der Algorithmus nicht mehr konvergiert, ganz gleich wie die Parameter gewählt werden.\n",
    "\n",
    "Für diese Aufgabe betrachten wir konkret die Funktion $f(z) = \\cos{(z)} z^4 − 1$ auf der komplexen Menge $[−2, 2] \\times [−2i, 2i]$. Das Ergebnis des Newtonverfahrens auf dieser Menge lässt sich sehr schön visualisieren. Dazu speichern wir für jeden Startpunkt aus der obigen Menge die Anzahl an Iterationschritten, die wir benötigen um mit vorgegebener Genauigkeit ε an 0 heranszukommen. Das bedeutet, wir diskretisieren die Menge, beginnen einen Newtonlauf an jedem der Punkte $z_0$ und prüfen, ob nach dem i-ten Schritt $|f (z_i)| < \\epsilon$ erfüllt ist. Falls dem so ist, speichern wir den Wert i und beginnen am nächsten Punkt von vorn. So erhalten wir für jeden Punkt der diskretisierten Menge einen Wert.\n",
    "\n",
    "Zu guter Letzt müssen Sie diese Matrix nur noch visualisieren. Dies können Sie, wie schon im Tutorial erklärt, mit der Funktion *imshow* erledigen. Als guter Satz von Parametern hat sich eine Matrixgröße von 720 × 720, eine Maximalanzahl von 200 Iterationen pro Punkt, ein Diskretisierungsschritt der Ableitung von dh = 1e − 6 sowie einer Präzision ε = 1e − 10 herausgestellt. Gut bedeutet in diesem Fall, dass das Bild auf einem durchschnittlichen Computer innerhalb von fünf Minuten fertig berechnet sein sollte. Um ihren Algorithmus zu testen können Sie aber zunächst auch mit kleinerer Auflösung rechnen und dann erst am Ende ein höher aufgelöstes Bild generieren.\n",
    "\n",
    "Als ersten Teil des Codes sollten Sie daher Ihre Newton-Funktion aus der vorherigen Aufgabe für komplexe Zahlen und den Kontext dieser Aufgabe anpassen. Die Funktion sollte jetzt nicht nur die Nullstelle sondern auch die für das Erreichen benötigte Anzahl an Iterationen zurück geben, z.B. also `return (z0, iterations)`."
   ]
  },
  {
   "cell_type": "code",
   "execution_count": null,
   "metadata": {},
   "outputs": [],
   "source": [
    "function newton(\n",
    "            f  :: Function,\n",
    "            z0 :: Complex{Float64},\n",
    "            precision :: Real,\n",
    "            epsilon :: Number,\n",
    "            max_iterations :: Integer\n",
    "        ) :: Tuple{Complex{Float64}, Int64}\n",
    "    \n",
    "    ###############################\n",
    "    # HIER SOLLTE IHR CODE STEHEN #\n",
    "    ###############################\n",
    "\n",
    "end"
   ]
  },
  {
   "cell_type": "markdown",
   "metadata": {},
   "source": [
    "Schreiben Sie danach einen Code, der basierend auf der Funktion `newton` eine Matrix mit der Anzahl Iteration füllt,\n",
    "die für einen bestimmten Punkt in der komplexen Ebene nötig sind eine Nullstelle zu erreichen (wie oben bereits beschrieben)."
   ]
  },
  {
   "cell_type": "code",
   "execution_count": null,
   "metadata": {},
   "outputs": [],
   "source": [
    "g(z) = cos(z) * z^4 - 1\n",
    "\n",
    "###############################\n",
    "# HIER SOLLTE IHR CODE STEHEN #\n",
    "###############################"
   ]
  },
  {
   "cell_type": "markdown",
   "metadata": {},
   "source": [
    "Nun müssen wir die Grafik noch darstellen, was Sie im folgenden Abschnitts mittels `imshow` implementieren sollen"
   ]
  },
  {
   "cell_type": "code",
   "execution_count": null,
   "metadata": {},
   "outputs": [],
   "source": []
  },
  {
   "cell_type": "markdown",
   "metadata": {},
   "source": [
    "Probieren Sie auch andere mathematische Funktionen außer dem vorgebenen $g(z)$ aus - welche Funktion ergibt für Sie das schönste Bild?"
   ]
  }
 ],
 "metadata": {
  "kernelspec": {
   "display_name": "Julia 1.4.0",
   "language": "julia",
   "name": "julia-1.4"
  },
  "language_info": {
   "file_extension": ".jl",
   "mimetype": "application/julia",
   "name": "julia",
   "version": "1.4.0"
  }
 },
 "nbformat": 4,
 "nbformat_minor": 4
}
