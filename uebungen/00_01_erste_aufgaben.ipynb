{
 "cells": [
  {
   "cell_type": "markdown",
   "metadata": {},
   "source": [
    "<table style=\"width: 100%; border-style: none;\">\n",
    "<tr style=\"border-style: none\">\n",
    "<td style=\"border-style: none; width: 1%; text-align: left; font-size: 16px\">Institut f&uuml;r Theoretische Physik<br /> Universit&auml;t zu K&ouml;ln</td>\n",
    "<td style=\"border-style: none; width: 1%; font-size: 16px\">&nbsp;</td>\n",
    "<td style=\"border-style: none; width: 1%; text-align: right; font-size: 16px\">Prof. Dr. Simon Trebst<br />Jan Attig</td>\n",
    "</tr>\n",
    "</table>\n",
    "<hr>\n",
    "<h1 style=\"font-weight:bold; text-align: center; margin: 0px; font-size: 30px; padding:0px;\">Computerphysik</h1>\n",
    "<h1 style=\"font-weight:bold; text-align: center; margin: 0px; font-size: 30px; padding:0px;\">Übungsblatt 0</h1>\n",
    "<hr>\n",
    "<h3 style=\"font-weight:bold; text-align: center; margin: 0px; font-size: 20px; padding:0px; margin-bottom: 20px;\">Sommersemester 2020</h3>\n",
    "<hr>\n",
    "\n",
    "**Website** [http://www.thp.uni-koeln.de/trebst/Lectures/2020-CompPhys.shtml](http://www.thp.uni-koeln.de/trebst/Lectures/2020-CompPhys.shtml)\n",
    "\n",
    "**Abgabe**:  -- kein Abgabe (Präsenzübung) --\n",
    "\n",
    "**Besprechung**:  22.4.2020 - 24.4.2020 (Präsenzübung)\n",
    "\n",
    "**Name**: <font color=\"red\">Bitte geben Sie ihren Namen an</font>\n",
    "\n",
    "**Matrikelnummer**: <font color=\"red\">Bitte geben Sie ihre Matrikelnummer an</font>"
   ]
  },
  {
   "cell_type": "markdown",
   "metadata": {},
   "source": [
    "<table style=\"border-style: none; width: 100%\"><tr style=\"border-style: none;\">\n",
    "<td style=\"border-style: none; width: 1%; text-align: left; font-size: 25px; font-weight: bold; text-decoration: underline\">Aufgaben auf Übungsblatt 0</td>\n",
    "<td style=\"border-style: none; width: 1%; text-align: right; font-size: 15px\"></td></tr></table>\n",
    "\n",
    "- **Einstiegsaufgaben** [0 Punkte]\n",
    "- Primzahlen [0 Punkte]\n"
   ]
  },
  {
   "cell_type": "markdown",
   "metadata": {},
   "source": [
    "<table style=\"border-style: none; width: 100%\"><tr style=\"border-style: none;\">\n",
    "<td style=\"border-style: none; width: 1%; text-align: left; font-size: 25px; font-weight: bold; text-decoration: underline\">Einstiegsaufgaben</td>\n",
    "<td style=\"border-style: none; width: 1%; text-align: right; font-size: 15px\">[0 Punkte]</td></tr></table>"
   ]
  },
  {
   "cell_type": "markdown",
   "metadata": {},
   "source": [
    "In dieser ersten Aufgabe möchten wir Sie vor allem mit den Grundprinzipien der Programmierung in Julia vertraut machen. Die hier gezeigten Konzepte **Variablen**, **Ausgaben**, **Schleifen** und **Verzweigungen** werden Sie bereits in den ersten Programmiertechniken kennen gelernt haben, hier jedoch sollen Sie diese einmal selbst zur Anwendung bringen. Bearbeiten Sie die Aufgaben bitte in den dafür bereit gestellten Zellen unterhalb der jeweiligen Aufgabenstellungen."
   ]
  },
  {
   "cell_type": "markdown",
   "metadata": {},
   "source": [
    "### a) Ausgaben und Hello World\n",
    "\n",
    "Schreiben Sie ein sogenanntes **Hello world** Programm in Julia, d.h. einen Code, welcher die einfach Ausgabe “Hello world!\" erzeugt."
   ]
  },
  {
   "cell_type": "code",
   "execution_count": null,
   "metadata": {},
   "outputs": [],
   "source": []
  },
  {
   "cell_type": "markdown",
   "metadata": {
    "collapsed": true
   },
   "source": [
    "### b) Variablen\n",
    "\n",
    "Um Ergebnisse oder Werte in Ihrem Code festzuhalten, benötigen Sie **Variablen**. Erweitern Sie den unten stehenden Code, damit er die Summe der beiden vordefinierten Variablen `x` und `y` in einer neuen Variable `z` speichert. Geben Sie `z` danach aus."
   ]
  },
  {
   "cell_type": "code",
   "execution_count": null,
   "metadata": {},
   "outputs": [],
   "source": [
    "x = 3\n",
    "y = 4"
   ]
  },
  {
   "cell_type": "markdown",
   "metadata": {},
   "source": [
    "In der Regel besitzt jede Variable einen bestimmten **Typen**, wie z.B. `Int64` (ganze Zahlen) oder `String` (Text).\n",
    "\n",
    "Sie werden in den nachfolgenden Übungsaufgaben meistens Variablentypen benötigen, die *Fließkommazahlen*, *ganze Zahlen*, *Brüche* oder *komplexe Zahlen* speichern. Recherchieren Sie die Julia-Typen dieser vier Zahlentypen und definieren Sie für jeden dieser Typen je eine Variable in der folgenden Zelle."
   ]
  },
  {
   "cell_type": "code",
   "execution_count": null,
   "metadata": {},
   "outputs": [],
   "source": []
  },
  {
   "cell_type": "markdown",
   "metadata": {
    "collapsed": true
   },
   "source": [
    "### c) Schleifen\n",
    "\n",
    "**Schleifen** sind Strukturen, die es erlauben, bestimmte Anweisungen zu wiederholen. So können gleiche Abläufe eine bestimmte Anzahl an Wiederholungen tätigen, oder Segmente immer wieder angewendet werden, bis eine Bedingung erfüllt ist.\n",
    "\n",
    "Schreiben Sie zuerst eine `for`-Schleife, mittels der Sie die Zahlen von 1 bis 20 ausgeben lassen."
   ]
  },
  {
   "cell_type": "code",
   "execution_count": null,
   "metadata": {},
   "outputs": [],
   "source": []
  },
  {
   "cell_type": "markdown",
   "metadata": {},
   "source": [
    "Schreiben Sie jetzt eine kleine `for`-Schleife, mittels der Sie die Quadrate der Zahlen von 1 bis 10 ausgeben."
   ]
  },
  {
   "cell_type": "code",
   "execution_count": null,
   "metadata": {},
   "outputs": [],
   "source": []
  },
  {
   "cell_type": "markdown",
   "metadata": {},
   "source": [
    "Schreiben Sie nun eine kleine `for`-Schleife, welche die Summe der Zahlen 1 bis 42 in einer neuen Variable `summe` speichert und diese danach ausgibt."
   ]
  },
  {
   "cell_type": "code",
   "execution_count": null,
   "metadata": {},
   "outputs": [],
   "source": []
  },
  {
   "cell_type": "markdown",
   "metadata": {
    "collapsed": true
   },
   "source": [
    "### d) Verzweigungen\n",
    "\n",
    "Unter **Verzweigungen** versteht man Code-Elemente, in denen Entscheidungen getroffen werden. Beispiele sind hierfür Code-Blöcke, die nur für gerade Zahlen ausgeführt werden, Codeblöcke, die nur ausgeführt werden, wenn ein berechneter Fehler zu groß ist, etc.\n",
    "\n",
    "Ergänzen Sie die nachfolgende Zelle um eine `if`-Abfrage, in der Sie testen, ob die vordefinierte Zahl `N` größer, gleich oder kleiner als `21` ist. Ändern Sie die Definition von `N` und testen Sie Ihren Code."
   ]
  },
  {
   "cell_type": "code",
   "execution_count": null,
   "metadata": {},
   "outputs": [],
   "source": [
    "N = 17"
   ]
  },
  {
   "cell_type": "markdown",
   "metadata": {
    "collapsed": true
   },
   "source": [
    "### e) Anwendung: Quersummen\n",
    "\n",
    "Mit den bis hierher erlernten Basis-Elementen **Variablen**, **Ausgaben**, **Schleifen** und **Verzweigungen** lassen sich alle möglichen Algorithmen der Computerphysik erzeugen.\n",
    "\n",
    "Um diese Universalität zu demonstrieren, sollen Sie als kleines Beispiel in der nachfolgenden Zelle einen kurzen Code schreiben, welcher alle Zahlen zwischen 0 und 99 ausgibt, deren Quersumme 11 ist."
   ]
  },
  {
   "cell_type": "code",
   "execution_count": null,
   "metadata": {},
   "outputs": [],
   "source": []
  }
 ],
 "metadata": {
  "@webio": {
   "lastCommId": null,
   "lastKernelId": null
  },
  "kernelspec": {
   "display_name": "Julia 1.4.0",
   "language": "julia",
   "name": "julia-1.4"
  },
  "language_info": {
   "file_extension": ".jl",
   "mimetype": "application/julia",
   "name": "julia",
   "version": "1.4.0"
  }
 },
 "nbformat": 4,
 "nbformat_minor": 4
}
