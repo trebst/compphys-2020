{
 "cells": [
  {
   "cell_type": "markdown",
   "metadata": {},
   "source": [
    "<table style=\"width: 100%; border-style: none;\">\n",
    "<tr style=\"border-style: none\">\n",
    "<td style=\"border-style: none; width: 1%; text-align: left; font-size: 16px\">Institut f&uuml;r Theoretische Physik<br /> Universit&auml;t zu K&ouml;ln</td>\n",
    "<td style=\"border-style: none; width: 1%; font-size: 16px\">&nbsp;</td>\n",
    "<td style=\"border-style: none; width: 1%; text-align: right; font-size: 16px\">Prof. Dr. Simon Trebst<br />Jan Attig</td>\n",
    "</tr>\n",
    "</table>\n",
    "<hr>\n",
    "<h1 style=\"font-weight:bold; text-align: center; margin: 0px; font-size: 30px; padding:0px;\">Computerphysik</h1>\n",
    "<h1 style=\"font-weight:bold; text-align: center; margin: 0px; font-size: 30px; padding:0px;\">Übungsblatt 8</h1>\n",
    "<hr>\n",
    "<h3 style=\"font-weight:bold; text-align: center; margin: 0px; font-size: 20px; padding:0px; margin-bottom: 20px;\">Sommersemester 2020</h3>\n",
    "<hr>\n",
    "\n",
    "**Website** [http://www.thp.uni-koeln.de/trebst/Lectures/2020-CompPhys.shtml](http://www.thp.uni-koeln.de/trebst/Lectures/2020-CompPhys.shtml)\n",
    "\n",
    "**Abgabe**:  15.6.2020 bis 13:00 Uhr\n",
    "\n",
    "**Besprechung**:  17.6.2020 - 19.6.2020\n",
    "\n",
    "**Name**: <font color=\"red\">Bitte geben Sie ihren Namen an</font>\n",
    "\n",
    "**Matrikelnummer**: <font color=\"red\">Bitte geben Sie ihre Matrikelnummer an</font>"
   ]
  },
  {
   "cell_type": "markdown",
   "metadata": {},
   "source": [
    "<table style=\"border-style: none; width: 100%\"><tr style=\"border-style: none;\">\n",
    "<td style=\"border-style: none; width: 1%; text-align: left; font-size: 25px; font-weight: bold; text-decoration: underline\">Aufgaben auf Übungsblatt 8</td>\n",
    "<td style=\"border-style: none; width: 1%; text-align: right; font-size: 15px\"></td></tr></table>\n",
    "\n",
    "- Relaxen im Plattenkondensator [10 Punkte]\n",
    "- Spannende Sachen [10 Punkte]\n",
    "- **(Bonus) Das bewegte Feld** [20 Bonus-Punkte]\n"
   ]
  },
  {
   "cell_type": "markdown",
   "metadata": {},
   "source": [
    "<table style=\"border-style: none; width: 100%\"><tr style=\"border-style: none;\">\n",
    "<td style=\"border-style: none; width: 1%; text-align: left; font-size: 25px; font-weight: bold; text-decoration: underline\">Das bewegte Feld</td>\n",
    "<td style=\"border-style: none; width: 1%; text-align: right; font-size: 15px\">[20 Bonus-Punkte]</td></tr></table>"
   ]
  },
  {
   "cell_type": "markdown",
   "metadata": {},
   "source": [
    "Die **Maxwell-Gleichungen** sind die grundlegenden Gleichungen der Elektrodynamik denen Sie bereits in der Experimentalphysik II begegnet sein werden. Eine exakte Lösung ist oftmals schwierig zu ermitteln und nur in Spezialfällen analytisch möglich. Deshalb bedienen wir uns numerischer Methoden, etwa der in der Praxis sehr erfolgreich eingesetzten [**Yee-Vischen Methode**](https://en.wikipedia.org/wiki/Finite-difference_time-domain_method), die in der Vorlesung kurz skizziert wurde. Als eine der Standardmethoden wird sie in kommerziellen Softwarepaketen zur Simulation von verschiedenen Versuchsanordnungen umgesetzt, etwa um kompakte Antennen zu bauen. Das Ziel dieser Aufgabe ist es, die **Feldverteilung einer Dipolantenne** zeitaufgelöst zu bestimmen.\n",
    "\n",
    "Zunächst aber wollen wir noch einmal die wesentlichen Schritte des Yee-Vischen Verfahrens zusammentragen. Grundlage ist die von Yee eingeführte spezielle Art des Diskretisierung der Felder, die in  der folgenden Abbilung dargestellt ist:\n",
    "<img src=\"http://www.thp.uni-koeln.de/trebst/Lectures/CompPhys-2016/07_yee_cell.png\" width=\"500\"/>\n",
    "\n",
    "In dieser Aufgabe möchten wir das Verfahren für **offene Randbedingungen** implementieren, d.h. die Feld-Werte auf den Rändern bleiben konstant auf $0$. Dadurch ist es auch nötig, dass die Arrays der unterschiedlichen Komponenten unterschiedliche Ausdehnungen in die verschiedenen Raumrichtungen haben, nämlich bei $N$ Diskretisierungsschritten teilweise $N$ und teilweise $N+1$ Elemente.\n",
    "\n",
    "*Hinweis: machen Sie sich anhand der Skizze klar, welches Array welche Dimension hat!*"
   ]
  },
  {
   "cell_type": "markdown",
   "metadata": {},
   "source": [
    "Bezüglich der zeitlichen Diskretisierung ist zu bemerken, dass Der Yee-Vischen-Algorithmus eine **Halbschrittmethode** ist. Konkret bedeutet dies für die Maxwell-Gleichungen, dass das elektrische Feld am Zeitpunkt nur an Schritten $t + \\frac{\\Delta t}{2}$ berechnet wird, wohingegen das Magnetfeld ausschließlich zum Zeitpunkt $t + \\Delta t$. Beide Felder durchlaufen so immer Iterationen der Länge $\\Delta t$, jedoch werden sie immer im Wechsel berechnet.\n",
    "\n",
    "Konkret bedeutet dies, dass ein Iterationsschritt der Länge $\\Delta t$ immer aus zwei Halbschritten besteht. Im ersten Halbschritt wird das elektrische Feld aktualisiert mittels\n",
    "\n",
    "\\begin{align}\n",
    "E_x (i, j, k, t + \\frac{\\Delta t}{2}) &= C_{E, 1} E_x (i, j, k, t - \\frac{\\Delta t}{2})\\\\\n",
    " &+ C_{E, 2} \\left( \\left(B_z (i, j, k, t) - B_z(i, j-1, k, t)\\right) - \\left(B_y(i, j, k, t) - B_y(i, j, k-1, t)\\right)\\right)\\\\\n",
    "E_y (i, j, k, t + \\frac{\\Delta t}{2}) &= C_{E, 1} E_y (i, j, k, t - \\frac{\\Delta t}{2})\\\\\n",
    " &+ C_{E, 2} \\left( \\left(B_x (i, j, k, t) - B_x(i, j, k-1, t)\\right) - \\left(B_z(i, j, k, t) - B_z(i-1, j, k, t)\\right)\\right)\\\\\n",
    "E_z (i, j, k, t + \\frac{\\Delta t}{2}) &= C_{E, 1} E_z (i, j, k, t - \\frac{\\Delta t}{2})\\\\\n",
    " &+ C_{E, 2} \\left( \\left(B_y (i, j, k, t) - B_x(i-1, j, k, t)\\right) - \\left(B_x(i, j, k, t) - B_x(i, j-1, k, t)\\right)\\right)\n",
    "\\end{align}\n",
    "\n",
    "und im zweiten Halbschritt das magnetische Feld mittels\n",
    "\n",
    "\\begin{align}\n",
    "B_x (i, j, k, t + \\Delta t) &= C_{B, 1} B_x (i, j, k, t)\\\\\n",
    " &+ C_{B, 2} \\left( \\left(E_y (i, j, k+1, t + \\frac{\\Delta t}{2}) - E_y(i, j, k, t + \\frac{\\Delta t}{2})\\right) - \\left(E_z(i, j+1, k, t + \\frac{\\Delta t}{2}) - E_z(i, j, k, t + \\frac{\\Delta t}{2})\\right)\\right)\\\\\n",
    "B_y (i, j, k, t + \\Delta t) &= C_{B, 1} B_y (i, j, k, t)\\\\\n",
    " &+ C_{B, 2} \\left( \\left(E_z (i+1, j, k, t + \\frac{\\Delta t}{2}) - E_z(i, j, k, t + \\frac{\\Delta t}{2})\\right) - \\left(E_x(i, j, k+1, t + \\frac{\\Delta t}{2}) - E_x(i, j, k, t + \\frac{\\Delta t}{2})\\right)\\right)\\\\\n",
    "B_z (i, j, k, t + \\Delta t) &= C_{B, 1} B_z (i, j, k, t)\\\\\n",
    " &+ C_{B, 2} \\left( \\left(E_x (i, j+1, k, t + \\frac{\\Delta t}{2}) - E_x(i, j, k, t + \\frac{\\Delta t}{2})\\right) - \\left(E_y(i+1, j, k, t + \\frac{\\Delta t}{2}) - E_y(i, j, k, t + \\frac{\\Delta t}{2})\\right)\\right)\n",
    "\\end{align}\n",
    "\n",
    "Noch zu klären ist die genaue Form der Vorfaktoren $C_{(E, B), (1, 2)}$. Diese setzen sich aus der elektrischen und magnetischen Permeabilität $\\varepsilon_0$ und $\\mu_0$, den Diskretisierungen in Raum und Zeit $\\Delta h$ bzw. $\\Delta t$, sowie zwei Verlusttermen, $\\sigma_E$ und $\\sigma_B$, zusammen. Diese Verlustterme setzen wir auf einen sehr kleinen Wert von $10^{-6}$ um den Algorithmus stabil zu machen. Die Konstanten sind dann gegeben durch:\n",
    "\n",
    "\\begin{align}\n",
    "C_{E,1} &= \\dfrac{1 - \\frac{\\sigma_E\\,\\Delta t}{2\\varepsilon_0}}{1 + \\frac{\\sigma_E\\,\\Delta t}{2\\varepsilon_0}} &\n",
    "C_{B,1} &= \\dfrac{1 - \\frac{\\sigma_B\\,\\Delta t}{2\\mu_0}}{1 + \\frac{\\sigma_B\\,\\Delta t}{2\\mu_0}}\\\\\n",
    "C_{E,2} &= \\dfrac{\\frac{\\Delta t}{\\varepsilon_0\\,\\Delta h}}{1 + \\frac{\\sigma_E\\,\\Delta t}{2\\varepsilon_0}} &\n",
    "C_{B,2} &= \\dfrac{\\frac{\\Delta t}{\\mu_0\\,\\Delta h}}{1 + \\frac{\\sigma_B\\,\\Delta t}{2\\mu_0}}\\\\\n",
    "\\end{align}"
   ]
  },
  {
   "cell_type": "markdown",
   "metadata": {},
   "source": [
    "Die Quelle unseres Feldes soll ein **schwingender Dipol** sein, den wir dadurch realisieren, dass die z-Komponente des elektrischen Feldes $E_z$ in der Mitte des Gitters sinusförmig variiert:\n",
    "\n",
    "\\begin{equation}\n",
    "E_z(N/2, N/2, N/2, t) = \\sin{(2\\pi t/T)} \n",
    "\\end{equation}\n",
    "\n",
    "Wir nehmen an, dass die Quelle sehr viel kleiner ist, als der Gitterabstand, wodurch sie sehr einfach zu implementieren ist. \n",
    "\n",
    "Die Wahl einer geeigneten zeitlichen Periodenlänge $T$ hängt sehr stark mit Ihrer Wahl der Parameter $\\Delta h$ und $\\Delta x$ ab. Grundsätzlich empfiehlt es sich dabei alle drei Parameter gemeinsam zu wählen. Wir legen Ihnen folgende Schrittweise nahe:\n",
    "1. Wählen Sie eine Dipolfrequenz $f$, die Sie simulieren möchten (z.B. die Radiofrequenz von [Radio Köln](https://www.radiokoeln.de/))\n",
    "2. Berechnen Sie die zeitliche Periodenlänge $T$ für diese Frequenz.\n",
    "3. Diskretisieren Sie die zeitliche Entwicklung ihrer Simulation so, dass der zeitliche Verlauf einer Periode durch wenige (z.B. 20) Zeitpunkte diskretisiert wird, dies legt $\\Delta t$ fest (d.h. $\\Delta t = \\frac{T}{20}$)\n",
    "4. Wählen Sie eine räumliche Diskretisierung für die der Algorithmus stabil ist, d.h. ein $\\Delta h$ für welches die Ungleichung $\\Delta t < \\frac{\\Delta h}{c \\sqrt{3}}$ gilt.\n",
    "\n",
    "\n",
    "Plotten Sie, nachdem Sie den Algorithmus implementiert haben, den Betrag des elektrischen Feldes in der (x, z) und der (x, y) Ebene, die den Ursprung schneiden, zu verschiedenen Zeiten.  Mit Ursprung bezeichnen wir hier den Ort des schwingenden Dipols, das heißt den Punkt $(N/2, N/2, N/2)$.\n",
    "\n",
    "Ein Tipp noch zur praktischen Implementierung: Sie simulieren nun ein drei dimensionales System, das sehr viele Gitterpunkte enthält und entsprechend lange benötigt. Starten Sie daher mit einer kleinen Zahl von Gitterpunkten, wie $N = 10$ bis $N=40$ und vergewissern Sie sich, dass sich das Feld verhält wie erwartet."
   ]
  },
  {
   "cell_type": "code",
   "execution_count": null,
   "metadata": {},
   "outputs": [],
   "source": [
    "const c    = 2.99792458e8   # Lichtgeschwindigkeit\n",
    "const eps0 = 8.854e-12      # Dielektrische Permeabilität\n",
    "const mu0  = 1.256637061e-6 # magnetische Permeabilität"
   ]
  },
  {
   "cell_type": "code",
   "execution_count": null,
   "metadata": {},
   "outputs": [],
   "source": []
  }
 ],
 "metadata": {
  "@webio": {
   "lastCommId": null,
   "lastKernelId": null
  },
  "kernelspec": {
   "display_name": "Julia 1.4.0",
   "language": "julia",
   "name": "julia-1.4"
  },
  "language_info": {
   "file_extension": ".jl",
   "mimetype": "application/julia",
   "name": "julia",
   "version": "1.4.0"
  }
 },
 "nbformat": 4,
 "nbformat_minor": 1
}
