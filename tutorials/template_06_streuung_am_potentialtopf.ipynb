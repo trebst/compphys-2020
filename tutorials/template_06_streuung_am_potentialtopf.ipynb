{
 "cells": [
  {
   "cell_type": "markdown",
   "metadata": {},
   "source": [
    "<table style=\"width: 100%; border-style: none;\">\n",
    "<tr style=\"border-style: none\">\n",
    "<td style=\"border-style: none; width: 1%; font-size: 16px\">Institut f&uuml;r Theoretische Physik<br /> Universit&auml;t zu K&ouml;ln</td>\n",
    "<td style=\"border-style: none; width: 1%; font-size: 16px\">&nbsp;</td>\n",
    "<td style=\"border-style: none; width: 1%; text-align: right; font-size: 16px\">Prof. Dr. Simon Trebst<br />MSc. Carsten Bauer</td>\n",
    "</tr>\n",
    "</table>\n",
    "<hr>\n",
    "<h1 style=\"font-weight:bold; text-align: center; margin: 0px; padding:0px;\">Computerphysik</h1>\n",
    "<h1 style=\"font-weight:bold; text-align: center; margin: 0px; padding:0px;\">Vorlesung &mdash; Programmiertechniken 6</h1>\n",
    "<hr>\n",
    "<h3 style=\"font-weight:bold; text-align: center; margin: 0px; padding:0px; margin-bottom: 20px;\">Sommersemester 2020</h3>\n",
    "\n",
    "**Website:** [http://www.thp.uni-koeln.de/trebst/Lectures/2020-CompPhys.shtml](http://www.thp.uni-koeln.de/trebst/Lectures/2020-CompPhys.shtml)\n",
    "\n",
    "**Themen dieses Notebooks:** Zeitaufgelöste Streuung an einem Potential, \"Split-step\" Methode, Fourier-Transformationen"
   ]
  },
  {
   "cell_type": "markdown",
   "metadata": {},
   "source": [
    "## Zeitaufgelöste Streuung an einem Potential"
   ]
  },
  {
   "cell_type": "markdown",
   "metadata": {},
   "source": [
    "Bevor es richtig losgeht, binden wir wie immer einige Pakete ein. Insbesondere nutzen wir das \"[FFTW](https://en.wikipedia.org/wiki/FFTW)\" Paket zur Berechnung der (diskreten) **Fourier-Transformationen** der Wellenfunktion zwischen Orts- und Impulsraumdarstellung."
   ]
  },
  {
   "cell_type": "code",
   "execution_count": 1,
   "metadata": {},
   "outputs": [],
   "source": [
    "# Pakete einbinden\n",
    "using PyPlot\n",
    "using LinearAlgebra\n",
    "using FFTW # Fourier-Transformation\n",
    "pygui(true);"
   ]
  },
  {
   "cell_type": "markdown",
   "metadata": {},
   "source": [
    "Für die Integration der Schrödingergleichung **diskretisieren** wir die Zeitentwicklung in Schritten von $dt$. Auch die Koordinaten in Orts- und im Fourier-transformierten Impulsraum diskretisieren wir, wobei wir wir $N=2^{11}$ diskrete Koordinaten betrachten wollen. "
   ]
  },
  {
   "cell_type": "code",
   "execution_count": 2,
   "metadata": {},
   "outputs": [],
   "source": [
    "# Diskretisierungen\n",
    "# ħ = m = 1.0 per Definition\n",
    "\n",
    "dt = 0.01\n",
    "N = 2^11\n",
    "\n",
    "dx = 0.1\n",
    "xs = dx .* ((1:N) .- N/2)\n",
    "\n",
    "dk = 2π / (N*dx)\n",
    "ks = dk .* ((1:N) .- N/2);"
   ]
  },
  {
   "cell_type": "markdown",
   "metadata": {},
   "source": [
    "### Definition eines einlaufenden Wellenpakets ###\n",
    "\n",
    "Als erstes wollen wir ein quantenmechanisches Wellenpaket definieren, welches im Ortsraum anfänglich die Form einer **Gauss'schen Glockenkurve** haben soll und sich mit einem Impuls $k_0$ nach rechts (oder links) bewegen soll.\n",
    "\n",
    "$\\quad \\quad \\psi(x) = \\frac{1}{\\sqrt{\\sigma \\cdot \\sqrt{\\pi}}} \\cdot e^{-\\frac{\\left(x-x_0\\right)^2}{2\\sigma^2} + \\, i \\, x \\cdot k_0}$\n",
    "\n"
   ]
  },
  {
   "cell_type": "code",
   "execution_count": 36,
   "metadata": {},
   "outputs": [
    {
     "data": {
      "text/plain": [
       "set_wavefunction (generic function with 1 method)"
      ]
     },
     "execution_count": 36,
     "metadata": {},
     "output_type": "execute_result"
    }
   ],
   "source": [
    "# Definition der Wellenfuntion\n",
    "function set_wavefunction(k0, xs)\n",
    "    # Gaussian\n",
    "    σ = 12.0 / k0\n",
    "    \n",
    "    # \"linkes\" Wellenpaket\n",
    "    x0 = -60\n",
    "    ψ_x0 = @. 1/sqrt(σ * sqrt(π)) * exp(-((xs - x0)/σ)^2/2 + im * xs * k0)\n",
    "    \n",
    "    # \"rechtes\" Wellenpaket\n",
    "#    x1 = 60\n",
    "#    ψ_x1 = @. 1/sqrt(σ * sqrt(π)) * exp(-((xs - x1)/σ)^2/2 - im * xs * k0)\n",
    "\n",
    "    return ψ_x0 # + ψ_x1\n",
    "end"
   ]
  },
  {
   "cell_type": "markdown",
   "metadata": {},
   "source": [
    "### Definition des Potentials ###\n",
    "\n",
    "Im folgenden wollen wir ein Potential definieren, an dem wir das einlaufende Wellenpaket streuen wollen. Dabei betrachten wir Potentialbarrieren (positives Potential),  Potentialtöpfe (negatives Potential), und Doppelbarrieren in einem gewissen Abstand. "
   ]
  },
  {
   "cell_type": "code",
   "execution_count": 19,
   "metadata": {},
   "outputs": [
    {
     "data": {
      "text/plain": [
       "set_potential (generic function with 1 method)"
      ]
     },
     "execution_count": 19,
     "metadata": {},
     "output_type": "execute_result"
    }
   ],
   "source": [
    "# Definition des Potential\n",
    "function set_potential(V0, V_width, V_distance, N, xs)\n",
    "    V = zeros(N)\n",
    "    \n",
    "    ### einzelne(r) Potentialbarriere oder -topf\n",
    "    if V_distance == 0\n",
    "        for i in 1:N\n",
    "            if abs(xs[i]) < V_width/2\n",
    "                V[i] = V0\n",
    "            end\n",
    "        end\n",
    "    end\n",
    "    \n",
    "    ### doppelte Potentialbarriere\n",
    "    if abs(V_distance) > 0\n",
    "        for i in 1:N\n",
    "            if (abs(xs[i]) < V_distance/2 + V_width) && (abs(xs[i]) > V_distance/2)\n",
    "                V[i] = V0\n",
    "            end\n",
    "        end\n",
    "    end\n",
    "        \n",
    "    return V\n",
    "end"
   ]
  },
  {
   "cell_type": "markdown",
   "metadata": {},
   "source": [
    "### Halb-Schritt Integration der zeitabhängigen Schrödinger-Gleichung ###\n",
    "\n",
    "Die eigentliche Hauptroutine unseres Programms formuliert das gerade in der Tafelpräsentation eingeführte Halb-Schritt-Verfahren zur Integration der zeitabhängigen Schrödinger-Gleichung. \n",
    "\n",
    "Dabei wechseln wir mittel Fourier-Transformation geschickt zwischen Orts- und Impulsraum-Darstellung hin und her, und integrieren jeweils den \"einfachen\" Teil der Schrödingergleichung.\n",
    "\n",
    "Schrödingergleichung im **Ortsraum**\n",
    "\n",
    "$\\quad \\quad \\left(-\\frac{\\hbar^2}{2m}\\frac{\\partial^2}{\\partial x^2} + V(x) \\right)\\psi(x,t) = i\\hbar \\frac{\\partial}{\\partial t}\\psi(x,t)$\n",
    "\n",
    "Schrödingergleichung im **Impulsraum**\n",
    "\n",
    "$\\quad \\quad \\left(-\\frac{\\hbar^2k^2}{2m} + V\\left(i \\frac{\\partial}{\\partial k}\\right) \\right)\\tilde\\psi(k,t) = i\\hbar \\frac{\\partial}{\\partial t}\\tilde\\psi(k,t)$\n",
    "\n",
    "In der numerischen Umsetzung der Fourier-Transformation werden wir mit einer *diskreten* Fourier-Transformation arbeiten (eben jenem [FFTW](https://en.wikipedia.org/wiki/FFTW)-Verfahren). Dazu müssen wir die Wellenfunktion in Orts- und Impulsraum in diskreter Form darstellen. Eine gute Einführung hierzu findet sich etwa in diesem [Blog-Post](https://jakevdp.github.io/blog/2012/09/05/quantum-python/) zum hier beschriebenen Halb-Schritt-Verfahren.\n"
   ]
  },
  {
   "cell_type": "code",
   "execution_count": 34,
   "metadata": {},
   "outputs": [
    {
     "data": {
      "text/plain": [
       "split_step_integration (generic function with 1 method)"
      ]
     },
     "execution_count": 34,
     "metadata": {},
     "output_type": "execute_result"
    }
   ],
   "source": [
    "# Halb-Schritt Integration\n",
    "function split_step_integration(ψ_x0, V, xs, dx, ks, dt)\n",
    "\n",
    "    # diskrete Fourier-Darstellung im Ortsraum\n",
    "    ψ_mod_x = @. ψ_x0 * exp(- im * ks[1] * xs) * dx / (sqrt(2π))\n",
    "\n",
    "    ### Iteration des Halb-Schritt-Verfahrens \n",
    "    step  = 1\n",
    "    while step < 2000 && (abs.(ψ_x0).^2)[1] < 0.001 && (abs.(ψ_x0).^2)[end] < 0.001\n",
    "        # update step\n",
    "        for j in 1:20\n",
    "            # (halber) Intergrationsschritt im Ortsraum\n",
    "            @. ψ_mod_x *= exp(- im * 0.5 * V * dt)\n",
    "            # Fourier-Transformation in den Impulsraum\n",
    "            ψ_mod_k = fft(ψ_mod_x) \n",
    "            # (ganzer) Intergrationsschritt im Impulsraum\n",
    "            @. ψ_mod_k *= exp(- im * 0.5 * (ks * ks) * dt) \n",
    "            # Fourier-Transformation zurück in den Ortsraum\n",
    "            ψ_mod_x = ifft(ψ_mod_k)  \n",
    "            # (halber) Intergrationsschritt im Ortsraum\n",
    "            @. ψ_mod_x *= exp(- im * 0.5 * V * dt) \n",
    "        end\n",
    "        \n",
    "        # diskrete Fourier-Darstellung im Ortsraum\n",
    "        ψ_x0 = @. ψ_mod_x * exp(im * ks[1] * xs) * sqrt(2π) / dx\n",
    "\n",
    "        # update Plot \n",
    "        ψ_plot.set_data(xs, abs.(ψ_x0).^2)\n",
    "\n",
    "        # delay for plotting\n",
    "        pause(0.001)\n",
    "        step += 1\n",
    "    end    \n",
    "end"
   ]
  },
  {
   "cell_type": "markdown",
   "metadata": {},
   "source": [
    "### Simulation ###\n",
    "\n",
    "Damit haben wir alles was wir brauchen und können loslegen. Betrachten wir dazu eine Reihe von unterschiedlich parametrisierten Beispielen."
   ]
  },
  {
   "cell_type": "code",
   "execution_count": 37,
   "metadata": {},
   "outputs": [
    {
     "name": "stdout",
     "output_type": "stream",
     "text": [
      "stdin> \n"
     ]
    }
   ],
   "source": [
    "# Initialisierungen der Parameter\n",
    "k0 = 1.5\n",
    "V0 = 1.0\n",
    "V_width = 5.0\n",
    "V_distance = -10.0\n",
    "\n",
    "V = set_potential(V0, V_width, V_distance, N, xs)\n",
    "ψ_x0 = set_wavefunction(k0, xs)\n",
    "\n",
    "\n",
    "# Display\n",
    "fig = figure()\n",
    "fig.canvas.manager.window.move(5,5)\n",
    "gcf().set_size_inches(10, 7)\n",
    "gcf().clf()\n",
    "gcf().set_facecolor(\"lightgray\")\n",
    "    \n",
    "# Limits\n",
    "ylim(-0.03, 0.28)\n",
    "xlim(-100, 100)\n",
    "axis(\"off\")\n",
    "\n",
    "# Plotten der Anfangskonfiguration    \n",
    "line_plot = plot(xs, zeros(length(xs)), color=\"black\",   linewidth=3)\n",
    "V_plot    = plot(xs, V,                 color=\"blue\",    linewidth=1)\n",
    "fill_between(xs, V,color=\"lightblue\")\n",
    "ψ_plot    = plot(xs, abs.(ψ_x0).^2,     color=\"#850000\", linewidth=2)[1]\n",
    "\n",
    "readline();\n",
    "\n",
    "split_step_integration(ψ_x0, V, xs, dx, ks, dt)\n"
   ]
  },
  {
   "cell_type": "code",
   "execution_count": null,
   "metadata": {},
   "outputs": [],
   "source": []
  }
 ],
 "metadata": {
  "kernelspec": {
   "display_name": "Julia 1.4.0",
   "language": "julia",
   "name": "julia-1.4"
  },
  "language_info": {
   "file_extension": ".jl",
   "mimetype": "application/julia",
   "name": "julia",
   "version": "1.4.0"
  }
 },
 "nbformat": 4,
 "nbformat_minor": 1
}
