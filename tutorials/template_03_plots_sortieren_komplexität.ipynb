{
 "cells": [
  {
   "cell_type": "markdown",
   "metadata": {},
   "source": [
    "<table style=\"width: 100%; border-style: none;\">\n",
    "<tr style=\"border-style: none\">\n",
    "<td style=\"border-style: none; width: 1%; font-size: 16px\">Institut f&uuml;r Theoretische Physik<br /> Universit&auml;t zu K&ouml;ln</td>\n",
    "<td style=\"border-style: none; width: 1%; font-size: 16px\">&nbsp;</td>\n",
    "<td style=\"border-style: none; width: 1%; text-align: right; font-size: 16px\">Prof. Dr. Simon Trebst<br />MSc. Carsten Bauer</td>\n",
    "</tr>\n",
    "</table>\n",
    "<hr>\n",
    "<h1 style=\"font-weight:bold; text-align: center; margin: 0px; padding:0px;\">Computerphysik</h1>\n",
    "<h1 style=\"font-weight:bold; text-align: center; margin: 0px; padding:0px;\">Vorlesung &mdash; Programmiertechniken 3</h1>\n",
    "<hr>\n",
    "<h3 style=\"font-weight:bold; text-align: center; margin: 0px; padding:0px; margin-bottom: 20px;\">Sommersemester 2020</h3>\n",
    "\n",
    "**Website:** [http://www.thp.uni-koeln.de/trebst/Lectures/2020-CompPhys.shtml](http://www.thp.uni-koeln.de/trebst/Lectures/2020-CompPhys.shtml)\n",
    "\n",
    "**Themen dieses Notebooks:** Plots erstellen, Sortieren (BubbleSort), Timing und Komplexität"
   ]
  },
  {
   "cell_type": "markdown",
   "metadata": {},
   "source": [
    "## Plots erstellen"
   ]
  },
  {
   "cell_type": "code",
   "execution_count": null,
   "metadata": {},
   "outputs": [],
   "source": []
  },
  {
   "cell_type": "code",
   "execution_count": null,
   "metadata": {},
   "outputs": [],
   "source": []
  },
  {
   "cell_type": "code",
   "execution_count": null,
   "metadata": {},
   "outputs": [],
   "source": []
  },
  {
   "cell_type": "code",
   "execution_count": null,
   "metadata": {},
   "outputs": [],
   "source": []
  },
  {
   "cell_type": "code",
   "execution_count": null,
   "metadata": {},
   "outputs": [],
   "source": [
    "plot(x_values, f.(x_values), label=\"quadratic\")\n",
    "plot(x_values, exp.(x_values), label=\"exponential\")\n",
    "legend()\n",
    "xlabel(\"time\")\n",
    "ylabel(\"amount\")"
   ]
  },
  {
   "cell_type": "markdown",
   "metadata": {},
   "source": [
    "## Sortieren"
   ]
  },
  {
   "cell_type": "markdown",
   "metadata": {},
   "source": [
    "### Kurze Übung: Elemente in einem Array vertauschen"
   ]
  },
  {
   "cell_type": "code",
   "execution_count": null,
   "metadata": {},
   "outputs": [],
   "source": []
  },
  {
   "cell_type": "code",
   "execution_count": null,
   "metadata": {},
   "outputs": [],
   "source": []
  },
  {
   "cell_type": "code",
   "execution_count": null,
   "metadata": {},
   "outputs": [],
   "source": []
  },
  {
   "cell_type": "code",
   "execution_count": null,
   "metadata": {},
   "outputs": [],
   "source": []
  },
  {
   "cell_type": "markdown",
   "metadata": {},
   "source": [
    "In Julia gibt es die Konvention, dass Funktionen die mindestens eines ihrer Funktionsargumente modifizieren, mit einem Ausrufezeichen am Ende versehen werden."
   ]
  },
  {
   "cell_type": "code",
   "execution_count": null,
   "metadata": {},
   "outputs": [],
   "source": [
    "function swap!(a, i, j)\n",
    "    tmp = a[i]\n",
    "    a[i] = a[j]\n",
    "    a[j] = tmp\n",
    "    return a\n",
    "end"
   ]
  },
  {
   "cell_type": "code",
   "execution_count": null,
   "metadata": {},
   "outputs": [],
   "source": []
  },
  {
   "cell_type": "code",
   "execution_count": null,
   "metadata": {},
   "outputs": [],
   "source": []
  },
  {
   "cell_type": "code",
   "execution_count": null,
   "metadata": {},
   "outputs": [],
   "source": []
  },
  {
   "cell_type": "code",
   "execution_count": null,
   "metadata": {},
   "outputs": [],
   "source": []
  },
  {
   "cell_type": "markdown",
   "metadata": {},
   "source": [
    "### Selbst sortieren: BubbleSort"
   ]
  },
  {
   "cell_type": "markdown",
   "metadata": {},
   "source": [
    "**Bubble Schritt**"
   ]
  },
  {
   "cell_type": "code",
   "execution_count": null,
   "metadata": {},
   "outputs": [],
   "source": []
  },
  {
   "cell_type": "code",
   "execution_count": null,
   "metadata": {},
   "outputs": [],
   "source": []
  },
  {
   "cell_type": "code",
   "execution_count": null,
   "metadata": {},
   "outputs": [],
   "source": []
  },
  {
   "cell_type": "markdown",
   "metadata": {},
   "source": [
    "\"Die Zahl 10 ist wie eine Blase (Bubble) im Array aufgestiegen\", d.h. ans Ende gewandert.\n",
    "\n",
    "Wir könnten diesen Vorgang nun so oft wiederholen, bis das Array sortiert ist. Da wir allerdings schon wissen, dass die Größte Zahl bereits am Ende steht reicht es das Teilarray mit den Elementen `a[1]` bis `a[length(a) - 1]` zu sortieren.\n",
    "\n",
    "Diese Logik führt uns zum [Bubble Sort](https://de.wikipedia.org/wiki/Bubblesort) Algorithmus."
   ]
  },
  {
   "cell_type": "markdown",
   "metadata": {},
   "source": [
    "#### Bubble Sort Algorithmus"
   ]
  },
  {
   "cell_type": "code",
   "execution_count": null,
   "metadata": {},
   "outputs": [],
   "source": [
    "function bubblesort!(a)\n",
    "    N = length(a)\n",
    "    \n",
    "    for last in N:-1:2\n",
    "        for i in 1:(last-1)\n",
    "            if a[i] > a[i+1] # wenn links größer als rechts\n",
    "                swap!(a, i, i+1)\n",
    "            end\n",
    "        end\n",
    "    end\n",
    "    \n",
    "    return a\n",
    "end"
   ]
  },
  {
   "cell_type": "code",
   "execution_count": null,
   "metadata": {},
   "outputs": [],
   "source": []
  },
  {
   "cell_type": "code",
   "execution_count": null,
   "metadata": {},
   "outputs": [],
   "source": []
  },
  {
   "cell_type": "code",
   "execution_count": null,
   "metadata": {},
   "outputs": [],
   "source": []
  },
  {
   "cell_type": "markdown",
   "metadata": {},
   "source": [
    "### Visualisierung"
   ]
  },
  {
   "cell_type": "code",
   "execution_count": null,
   "metadata": {},
   "outputs": [],
   "source": [
    "# Der folgende Code ist kein Vorlesungsinhalt!\n",
    "using PyPlot, Random\n",
    "\n",
    "function show_bubble_schritt(n)\n",
    "    a = shuffle(1:n)\n",
    "    \n",
    "    pygui(true)\n",
    "    fig = figure()\n",
    "    title(\"Bubble-Schritt\")\n",
    "    for last = length(a):-1:length(a)\n",
    "        # bubble-Schritt\n",
    "        for i in 1:last-1\n",
    "            if a[i]>a[i+1]\n",
    "                swap!(a, i, i+1)\n",
    "            end\n",
    "            fig.clear()\n",
    "            bar(1:length(a), a)\n",
    "            m, mind = findmax(a)\n",
    "            bar(mind, m, color=\"red\")\n",
    "            sleep(0.001)\n",
    "        end\n",
    "    end\n",
    "    pygui(false)\n",
    "    nothing\n",
    "end\n",
    "\n",
    "function show_bubble_sort(n)\n",
    "    a = shuffle(1:n)\n",
    "    \n",
    "    pygui(true)\n",
    "    fig = figure()\n",
    "    title(\"Bubble-Sort\")\n",
    "    for last = length(a):-1:2\n",
    "        # bubble-Schritt\n",
    "        for i in 1:last-1\n",
    "            if a[i]>a[i+1]\n",
    "                swap!(a, i, i+1)\n",
    "            end\n",
    "        end\n",
    "        fig.clear()\n",
    "        bar(1:length(a), a)\n",
    "        m, mind = findmax(a[1:last])\n",
    "        bar(mind, m, color=\"red\")\n",
    "        sleep(0.001)\n",
    "    end\n",
    "    pygui(false)\n",
    "    nothing\n",
    "end"
   ]
  },
  {
   "cell_type": "code",
   "execution_count": null,
   "metadata": {},
   "outputs": [],
   "source": [
    "show_bubble_schritt(40)"
   ]
  },
  {
   "cell_type": "code",
   "execution_count": null,
   "metadata": {},
   "outputs": [],
   "source": [
    "show_bubble_sort(40)"
   ]
  },
  {
   "cell_type": "markdown",
   "metadata": {},
   "source": [
    "## Timing und Komplexität"
   ]
  },
  {
   "cell_type": "markdown",
   "metadata": {},
   "source": [
    "### Zeitmessung"
   ]
  },
  {
   "cell_type": "code",
   "execution_count": null,
   "metadata": {},
   "outputs": [],
   "source": [
    "b = rand(50000);"
   ]
  },
  {
   "cell_type": "code",
   "execution_count": null,
   "metadata": {},
   "outputs": [],
   "source": [
    "@time bubblesort!(b);"
   ]
  },
  {
   "cell_type": "code",
   "execution_count": null,
   "metadata": {},
   "outputs": [],
   "source": [
    "function benchmark_bubblesort()\n",
    "    number_count = [0.0]\n",
    "    elapsed_time = [0.0]\n",
    "\n",
    "    for i in 1:16\n",
    "        b = rand(2^i)\n",
    "        t = @elapsed bubblesort!(b)\n",
    "        println(2^i, \"\\t\", t)\n",
    "        push!(number_count, 2^i)\n",
    "        push!(elapsed_time, t)\n",
    "    end\n",
    "    \n",
    "    return number_count, elapsed_time\n",
    "end"
   ]
  },
  {
   "cell_type": "code",
   "execution_count": null,
   "metadata": {},
   "outputs": [],
   "source": [
    "number_count, elapsed_time = benchmark_bubblesort();"
   ]
  },
  {
   "cell_type": "code",
   "execution_count": null,
   "metadata": {},
   "outputs": [],
   "source": [
    "plot(number_count, elapsed_time, marker=\"o\", label=\"Bubblesort\");\n",
    "legend()\n",
    "xlabel(\"Länge des Arrays (n)\");\n",
    "ylabel(\"Zeit (t)\");\n",
    "title(\"Bubble Sort Zeitmessung\")"
   ]
  },
  {
   "cell_type": "markdown",
   "metadata": {},
   "source": [
    "Frage: Wie skaliert die Bubble Sort Laufzeit mit der Array Länge $n$?"
   ]
  },
  {
   "cell_type": "markdown",
   "metadata": {},
   "source": [
    "### Polynomieller Fit auf einer Log-Log-Skala"
   ]
  },
  {
   "cell_type": "code",
   "execution_count": null,
   "metadata": {},
   "outputs": [],
   "source": [
    "using Polynomials\n",
    "\n",
    "# fit straight line in loglog space (ignoring first couple of datapoints)\n",
    "# Syntax: polyfit(x,y, polynomial_degree)\n",
    "p = polyfit(log.(number_count[7:end]), log.(elapsed_time[7:end]), 1)\n",
    "m = p.a[2] # Steigung"
   ]
  },
  {
   "cell_type": "code",
   "execution_count": null,
   "metadata": {},
   "outputs": [],
   "source": [
    "plot(number_count, elapsed_time, marker=\"o\", label=\"Bubblesort\");\n",
    "plot(number_count, exp.(p.(log.(number_count))), label=\"Fit (Steigung ≈ $(round(m, digits=2)))\")\n",
    "legend();\n",
    "xscale(\"log\")\n",
    "yscale(\"log\")\n",
    "xlabel(\"Länge des Arrays (n)\");\n",
    "ylabel(\"Zeit (t)\");\n",
    "title(\"Bubble Sort Zeitmessung\")"
   ]
  },
  {
   "cell_type": "markdown",
   "metadata": {},
   "source": [
    "**Komplexität (asymptotisches Verhalten):** BubbleSort $\\in \\mathcal{O}(n^2)$\n",
    "\n",
    "O-Notation: https://de.wikipedia.org/wiki/Landau-Symbole#Beispiele_und_Notation"
   ]
  },
  {
   "cell_type": "markdown",
   "metadata": {},
   "source": [
    "### Vergleich mit Julia's `sort!`"
   ]
  },
  {
   "cell_type": "code",
   "execution_count": null,
   "metadata": {},
   "outputs": [],
   "source": [
    "function benchmark_juliasort()\n",
    "    number_count = [0.0]\n",
    "    elapsed_time = [0.0]\n",
    "\n",
    "    for i in 1:16\n",
    "        b = rand(2^i)\n",
    "        t = @elapsed sort!(b)\n",
    "        push!(number_count, 2^i)\n",
    "        push!(elapsed_time, t)\n",
    "    end\n",
    "    \n",
    "    return number_count, elapsed_time\n",
    "end\n",
    "\n",
    "number_count, elapsed_time = benchmark_juliasort();\n",
    "\n",
    "# fit straight line in loglog space (ignoring first couple of datapoints)\n",
    "p = polyfit(log.(number_count[7:end]), log.(elapsed_time[7:end]), 1)\n",
    "m = p.a[2]\n",
    "\n",
    "plot(number_count, elapsed_time, marker=\"o\", label=\"sort!\");\n",
    "plot(number_count, exp.(p.(log.(number_count))), label=\"Fit (Steigung ≈ $(round(m, digits=2)))\")\n",
    "legend(loc=4);\n",
    "xscale(\"log\")\n",
    "yscale(\"log\")\n",
    "xlabel(\"Länge des Arrays (n)\");\n",
    "ylabel(\"Zeit (t)\");\n",
    "title(\"Julia's sort! Zeitmessung\");"
   ]
  },
  {
   "cell_type": "markdown",
   "metadata": {},
   "source": [
    "Übersicht der Komplexität verschiedener Sortierverfahren: https://de.wikipedia.org/wiki/Sortierverfahren"
   ]
  },
  {
   "cell_type": "markdown",
   "metadata": {},
   "source": [
    "## Randnotiz zu Zeitmessungen: BenchmarkTools.jl"
   ]
  },
  {
   "cell_type": "markdown",
   "metadata": {},
   "source": [
    "Randnotiz: Die Macros `@time` und `@elapsed` sind hilfreich, sollten jedoch meistens vermieden werden, da Nebeneffekte das Messergebnis verzerren können. Führen Sie beispielsweise `@time sort(rand(1000));` zweimal aus und beobachten Sie, wie sich das Ergebnis ändert.\n",
    "\n",
    "Es ist stattdessen empfehlenswert `@btime` und `@belapsed` aus dem Paket [BenchmarkTools.jl](https://github.com/JuliaCI/BenchmarkTools.jl) zu verwenden.\n",
    "\n",
    "Demonstration:"
   ]
  },
  {
   "cell_type": "code",
   "execution_count": null,
   "metadata": {},
   "outputs": [],
   "source": [
    "@time sort(rand(1000));"
   ]
  },
  {
   "cell_type": "code",
   "execution_count": null,
   "metadata": {},
   "outputs": [],
   "source": [
    "@time sort(rand(1000));"
   ]
  },
  {
   "cell_type": "code",
   "execution_count": null,
   "metadata": {},
   "outputs": [],
   "source": [
    "using BenchmarkTools"
   ]
  },
  {
   "cell_type": "code",
   "execution_count": null,
   "metadata": {},
   "outputs": [],
   "source": [
    "@btime sort(rand(1000));"
   ]
  },
  {
   "cell_type": "code",
   "execution_count": null,
   "metadata": {},
   "outputs": [],
   "source": [
    "@btime sort(rand(1000));"
   ]
  }
 ],
 "metadata": {
  "@webio": {
   "lastCommId": null,
   "lastKernelId": null
  },
  "kernelspec": {
   "display_name": "Julia 1.4.0",
   "language": "julia",
   "name": "julia-1.4"
  },
  "language_info": {
   "file_extension": ".jl",
   "mimetype": "application/julia",
   "name": "julia",
   "version": "1.4.0"
  }
 },
 "nbformat": 4,
 "nbformat_minor": 4
}
