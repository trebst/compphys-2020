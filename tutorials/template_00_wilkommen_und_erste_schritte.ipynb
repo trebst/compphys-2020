{
 "cells": [
  {
   "cell_type": "markdown",
   "metadata": {},
   "source": [
    "<table style=\"width: 100%; border-style: none;\">\n",
    "<tr style=\"border-style: none\">\n",
    "<td style=\"border-style: none; width: 1%; font-size: 16px\">Institut f&uuml;r Theoretische Physik<br /> Universit&auml;t zu K&ouml;ln</td>\n",
    "<td style=\"border-style: none; width: 1%; font-size: 16px\">&nbsp;</td>\n",
    "<td style=\"border-style: none; width: 1%; text-align: right; font-size: 16px\">Prof. Dr. Simon Trebst<br />MSc. Carsten Bauer</td>\n",
    "</tr>\n",
    "</table>\n",
    "<hr>\n",
    "<h1 style=\"font-weight:bold; text-align: center; margin: 10px; padding:0px;\">Computerphysik</h1>\n",
    "<h1 style=\"font-weight:bold; text-align: center; margin: 0px; padding:0px;\">Erste Schritte</h1>\n",
    "<hr>\n",
    "<h3 style=\"font-weight:bold; text-align: center; margin: 0px; padding:0px; margin-bottom: 20px;\">Sommersemester 2020</h3>\n",
    "\n",
    "**Website:** [http://www.thp.uni-koeln.de/trebst/Lectures/2020-CompPhys.shtml](http://www.thp.uni-koeln.de/trebst/Lectures/2020-CompPhys.shtml)\n",
    "\n",
    "**Themen dieses Notebooks:** Jupyter Notebooks, Installation der benötigten Julia-Pakete"
   ]
  },
  {
   "cell_type": "markdown",
   "metadata": {},
   "source": [
    "## Jupyter Notebooks"
   ]
  },
  {
   "cell_type": "markdown",
   "metadata": {},
   "source": [
    "`CTRL` = `STRG` = \"Steuerungstaste\"\n",
    "\n",
    "`SHIFT` = \"Umschalttaste\"\n",
    "\n",
    "* `CTRL` + `ENTER` = Zelle ausführen\n",
    "* `SHIFT` + `ENTER` = Zelle ausführen und zur nächsten Zelle springen.\n",
    "* `ESC` danach `B` = Neue Zelle nach aktueller Zelle\n",
    "* `ESC` danach `A` = Neue Zelle vor aktueller Zelle\n",
    "* `ESC` danach `X` = Aktuelle Zelle löschen\n",
    "\n",
    "Tipp: `STRG + SHIFT + P`"
   ]
  },
  {
   "cell_type": "code",
   "execution_count": null,
   "metadata": {},
   "outputs": [],
   "source": []
  },
  {
   "cell_type": "code",
   "execution_count": null,
   "metadata": {},
   "outputs": [],
   "source": []
  },
  {
   "cell_type": "markdown",
   "metadata": {},
   "source": [
    "Ein Semikolon `;` am Ende einer Zelle unterdrückt die automatische Ausgabe."
   ]
  },
  {
   "cell_type": "code",
   "execution_count": null,
   "metadata": {},
   "outputs": [],
   "source": []
  },
  {
   "cell_type": "markdown",
   "metadata": {},
   "source": [
    "## Installation der benötigten Julia-Pakete"
   ]
  },
  {
   "cell_type": "markdown",
   "metadata": {},
   "source": [
    "Durch das Ausführen der nächsten Zelle werden alle externen Julia-Pakete die für die Vorlesung (und Übungen!) benötigt werden mit der jeweils richtigen Version installiert."
   ]
  },
  {
   "cell_type": "code",
   "execution_count": null,
   "metadata": {},
   "outputs": [],
   "source": [
    "# Herunterladen und einbinden eines kleinen Helferskripts\n",
    "download(\"https://raw.githubusercontent.com/trebst/compphys-2020/master/install.jl\", \"install.jl\")\n",
    "include(\"install.jl\")"
   ]
  },
  {
   "cell_type": "markdown",
   "metadata": {},
   "source": [
    "Der folgende Befehl kann je nach System eine (ganze) Weile dauern. Erst wenn links in den eckigen Klammern **nach dem Ausführen** wieder eine Zahl (und kein `*`) mehr steht ist die Installation abgeschlossen."
   ]
  },
  {
   "cell_type": "code",
   "execution_count": null,
   "metadata": {},
   "outputs": [],
   "source": [
    "install()"
   ]
  },
  {
   "cell_type": "markdown",
   "metadata": {},
   "source": [
    "> Hinweis: Sollte es mit dem Befehl `install()` zu Problemen kommen, kann `install_overwrite()` verwendet werden. Letzteres überschreibt(!) die vorhandene Julia-Umgebung, d.h. bereits installierte Pakete gehen verloren.\n",
    ">\n",
    "> Sollte es auch mit `install_overwrite()` nicht klappen, bitte eine Email mit der **gesamten Fehlermeldung** (am besten die gesamte Ausgabe) an [jattig@thp.uni-koeln.de](mailto:jattig@thp.uni-koeln.de) oder [bauer@thp.uni-koeln.de](mailto:bauer@thp.uni-koeln.de) schicken."
   ]
  }
 ],
 "metadata": {
  "kernelspec": {
   "display_name": "Julia 1.4.0",
   "language": "julia",
   "name": "julia-1.4"
  },
  "language_info": {
   "file_extension": ".jl",
   "mimetype": "application/julia",
   "name": "julia",
   "version": "1.4.0"
  }
 },
 "nbformat": 4,
 "nbformat_minor": 4
}
