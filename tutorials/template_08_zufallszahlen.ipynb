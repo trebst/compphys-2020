{
 "cells": [
  {
   "cell_type": "markdown",
   "metadata": {},
   "source": [
    "<table style=\"width: 100%; border-style: none;\">\n",
    "<tr style=\"border-style: none\">\n",
    "<td style=\"border-style: none; width: 1%; font-size: 16px\">Institut f&uuml;r Theoretische Physik<br /> Universit&auml;t zu K&ouml;ln</td>\n",
    "<td style=\"border-style: none; width: 1%; font-size: 16px\">&nbsp;</td>\n",
    "<td style=\"border-style: none; width: 1%; text-align: right; font-size: 16px\">Prof. Dr. Simon Trebst<br />MSc. Carsten Bauer</td>\n",
    "</tr>\n",
    "</table>\n",
    "<hr>\n",
    "<h1 style=\"font-weight:bold; text-align: center; margin: 0px; padding:0px;\">Computerphysik</h1>\n",
    "<h1 style=\"font-weight:bold; text-align: center; margin: 0px; padding:0px;\">Vorlesung &mdash; Programmiertechniken 8\n",
    "</h1>\n",
    "<hr>\n",
    "<h3 style=\"font-weight:bold; text-align: center; margin: 0px; padding:0px; margin-bottom: 20px;\">Sommersemester 2020</h3>\n",
    "\n",
    "**Website:** [http://www.thp.uni-koeln.de/trebst/Lectures/2020-CompPhys.shtml](http://www.thp.uni-koeln.de/trebst/Lectures/2020-CompPhys.shtml)\n",
    "\n",
    "**Themen dieses Notebooks:** Zufallszahlen in Julia, algorithmische Generatoren für Pseudo-Zufallszahlen, Korrelationen und Spektraltests"
   ]
  },
  {
   "cell_type": "markdown",
   "metadata": {},
   "source": [
    "# Pseudo-Zufallszahlen"
   ]
  },
  {
   "cell_type": "markdown",
   "metadata": {},
   "source": [
    "## 1. Zufallszahlen in Julia"
   ]
  },
  {
   "cell_type": "markdown",
   "metadata": {},
   "source": [
    "### Gleichverteilte Pseudo-Zufallszahlen"
   ]
  },
  {
   "cell_type": "code",
   "execution_count": null,
   "metadata": {},
   "outputs": [],
   "source": []
  },
  {
   "cell_type": "code",
   "execution_count": null,
   "metadata": {},
   "outputs": [],
   "source": []
  },
  {
   "cell_type": "code",
   "execution_count": null,
   "metadata": {},
   "outputs": [],
   "source": []
  },
  {
   "cell_type": "markdown",
   "metadata": {},
   "source": [
    "### Seeds &mdash; reproduzierbare Zufallszahlen"
   ]
  },
  {
   "cell_type": "code",
   "execution_count": null,
   "metadata": {},
   "outputs": [],
   "source": []
  },
  {
   "cell_type": "code",
   "execution_count": null,
   "metadata": {},
   "outputs": [],
   "source": []
  },
  {
   "cell_type": "code",
   "execution_count": null,
   "metadata": {},
   "outputs": [],
   "source": []
  },
  {
   "cell_type": "markdown",
   "metadata": {},
   "source": [
    "### Random devices für unabhängige Zufallszahlen in parallelen Rechnungen"
   ]
  },
  {
   "cell_type": "code",
   "execution_count": null,
   "metadata": {},
   "outputs": [],
   "source": []
  },
  {
   "cell_type": "code",
   "execution_count": null,
   "metadata": {},
   "outputs": [],
   "source": []
  },
  {
   "cell_type": "code",
   "execution_count": null,
   "metadata": {},
   "outputs": [],
   "source": []
  },
  {
   "cell_type": "markdown",
   "metadata": {},
   "source": [
    "### Zufallszahlen Normalverteilung"
   ]
  },
  {
   "cell_type": "code",
   "execution_count": null,
   "metadata": {},
   "outputs": [],
   "source": []
  },
  {
   "cell_type": "code",
   "execution_count": null,
   "metadata": {},
   "outputs": [],
   "source": []
  },
  {
   "cell_type": "markdown",
   "metadata": {},
   "source": [
    "### random strings"
   ]
  },
  {
   "cell_type": "code",
   "execution_count": null,
   "metadata": {},
   "outputs": [],
   "source": []
  },
  {
   "cell_type": "code",
   "execution_count": null,
   "metadata": {},
   "outputs": [],
   "source": []
  },
  {
   "cell_type": "code",
   "execution_count": null,
   "metadata": {},
   "outputs": [],
   "source": []
  },
  {
   "cell_type": "markdown",
   "metadata": {},
   "source": [
    "<hr/>\n",
    "\n",
    "## 2. Generatoren für Pseudo-Zufallszahlen"
   ]
  },
  {
   "cell_type": "markdown",
   "metadata": {
    "collapsed": true
   },
   "source": [
    "### Linearer kongruenter Generator"
   ]
  },
  {
   "cell_type": "markdown",
   "metadata": {},
   "source": [
    "$\\quad x_{n+1} = (a*x_n + c) \\mod m$ (integer representation 0 ... m-1)"
   ]
  },
  {
   "cell_type": "code",
   "execution_count": null,
   "metadata": {},
   "outputs": [],
   "source": []
  },
  {
   "cell_type": "code",
   "execution_count": null,
   "metadata": {},
   "outputs": [],
   "source": []
  },
  {
   "cell_type": "code",
   "execution_count": null,
   "metadata": {},
   "outputs": [],
   "source": []
  },
  {
   "cell_type": "markdown",
   "metadata": {
    "collapsed": true
   },
   "source": [
    "<hr/>\n",
    "\n",
    "### Lagged Fibonacci Generator"
   ]
  },
  {
   "cell_type": "markdown",
   "metadata": {
    "collapsed": true
   },
   "source": [
    "$\\quad x_{i+1} = (x_{i-p} + x_{i-q}) \\mod m$ (integer representation 0 ... m-1)"
   ]
  },
  {
   "cell_type": "code",
   "execution_count": null,
   "metadata": {},
   "outputs": [],
   "source": []
  },
  {
   "cell_type": "code",
   "execution_count": null,
   "metadata": {},
   "outputs": [],
   "source": []
  },
  {
   "cell_type": "code",
   "execution_count": null,
   "metadata": {},
   "outputs": [],
   "source": []
  },
  {
   "cell_type": "markdown",
   "metadata": {},
   "source": [
    "<hr/>\n",
    "\n",
    "### Korrelierter Generator"
   ]
  },
  {
   "cell_type": "code",
   "execution_count": null,
   "metadata": {},
   "outputs": [],
   "source": [
    "function my_badgenerator(seed, n)\n",
    "    x = [seed/m]\n",
    "    for i in 1:n\n",
    "        next = x[i] + 0.05*rand()\n",
    "        if next>1 \n",
    "            next = next - 1\n",
    "        end\n",
    "        push!(x, next)\n",
    "    end\n",
    "    x[2:n+1]\n",
    "end"
   ]
  },
  {
   "cell_type": "code",
   "execution_count": null,
   "metadata": {},
   "outputs": [],
   "source": [
    "my_badgenerator(123456,10)"
   ]
  },
  {
   "cell_type": "markdown",
   "metadata": {},
   "source": [
    "<hr/>\n",
    "\n",
    "### Histogramme"
   ]
  },
  {
   "cell_type": "code",
   "execution_count": null,
   "metadata": {},
   "outputs": [],
   "source": []
  },
  {
   "cell_type": "code",
   "execution_count": null,
   "metadata": {},
   "outputs": [],
   "source": []
  },
  {
   "cell_type": "code",
   "execution_count": null,
   "metadata": {},
   "outputs": [],
   "source": []
  },
  {
   "cell_type": "code",
   "execution_count": null,
   "metadata": {},
   "outputs": [],
   "source": []
  },
  {
   "cell_type": "markdown",
   "metadata": {
    "collapsed": true
   },
   "source": [
    "<hr/>\n",
    "\n",
    "### Korrelationen"
   ]
  },
  {
   "cell_type": "markdown",
   "metadata": {},
   "source": [
    "$\\quad \\chi = \\langle x_i \\cdot x_{i+1} \\rangle - \\langle x_i \\rangle^2$"
   ]
  },
  {
   "cell_type": "code",
   "execution_count": null,
   "metadata": {},
   "outputs": [],
   "source": [
    "function correlations(random_numbers)\n",
    "    xx = 0\n",
    "    for i in 1:length(random_numbers)-1\n",
    "        xx += random_numbers[i] * random_numbers[i+1]\n",
    "    end\n",
    "    xx /= length(random_numbers)-1\n",
    "    \n",
    "    x = 0\n",
    "    for i in 1:length(random_numbers)\n",
    "        x += random_numbers[i] \n",
    "    end\n",
    "    x /= length(random_numbers)\n",
    "\n",
    "    χ = xx - x^2    \n",
    "end"
   ]
  },
  {
   "cell_type": "code",
   "execution_count": null,
   "metadata": {},
   "outputs": [],
   "source": []
  },
  {
   "cell_type": "markdown",
   "metadata": {},
   "source": [
    "#### Korrelationsverlauf für GGL"
   ]
  },
  {
   "cell_type": "code",
   "execution_count": null,
   "metadata": {},
   "outputs": [],
   "source": []
  },
  {
   "cell_type": "code",
   "execution_count": null,
   "metadata": {},
   "outputs": [],
   "source": []
  },
  {
   "cell_type": "markdown",
   "metadata": {},
   "source": [
    "#### Korrelationsverlauf für lagged Fibonacci (und den Standard Mersenne-Twister)"
   ]
  },
  {
   "cell_type": "code",
   "execution_count": null,
   "metadata": {},
   "outputs": [],
   "source": [
    "corr2 = Float64[]\n",
    "for i in 1:20\n",
    "    n = 2^i\n",
    "    x1 = my_laggedFibonacci(123456, n)\n",
    "    c = correlations(x1)\n",
    "    push!(corr2,c)\n",
    "end"
   ]
  },
  {
   "cell_type": "code",
   "execution_count": null,
   "metadata": {},
   "outputs": [],
   "source": [
    "corr3 = Float64[]\n",
    "for i in 1:20\n",
    "    n = 2^i\n",
    "    x1 = rand(n)\n",
    "    c = correlations(x1)\n",
    "    push!(corr3,c)\n",
    "end"
   ]
  },
  {
   "cell_type": "code",
   "execution_count": null,
   "metadata": {},
   "outputs": [],
   "source": [
    "loglog(abs.(corr), marker=\"o\", label=\"GGL\")\n",
    "loglog(abs.(corr2), marker=\"o\", label=\"lagged Fibonacci\")\n",
    "#loglog(abs.(corr3), marker=\"o\", label=\"Mersenne Twister\")\n",
    "legend();"
   ]
  },
  {
   "cell_type": "markdown",
   "metadata": {},
   "source": [
    "#### Korrelationsverlauf für den \"bad generator\""
   ]
  },
  {
   "cell_type": "code",
   "execution_count": null,
   "metadata": {},
   "outputs": [],
   "source": [
    "corr4 = Float64[]\n",
    "for i in 1:20\n",
    "    n = 2^i\n",
    "    x1 = my_badgenerator(123456, n)\n",
    "    c = correlations(x1)\n",
    "    push!(corr4,c)\n",
    "end"
   ]
  },
  {
   "cell_type": "code",
   "execution_count": null,
   "metadata": {},
   "outputs": [],
   "source": [
    "loglog(abs.(corr), marker=\"o\", label=\"GGL\")\n",
    "loglog(abs.(corr4), marker=\"o\", label=\"bad generator\")\n",
    "# plot(abs.(corr4), marker=\"o\", label=\"bad generator\")\n",
    "legend();"
   ]
  },
  {
   "cell_type": "markdown",
   "metadata": {},
   "source": [
    "<hr/>\n",
    "\n",
    "## 3. Spektraltests"
   ]
  },
  {
   "cell_type": "markdown",
   "metadata": {},
   "source": [
    "#### Korrelationen im GGL?"
   ]
  },
  {
   "cell_type": "code",
   "execution_count": null,
   "metadata": {},
   "outputs": [],
   "source": []
  },
  {
   "cell_type": "code",
   "execution_count": null,
   "metadata": {},
   "outputs": [],
   "source": []
  },
  {
   "cell_type": "code",
   "execution_count": null,
   "metadata": {},
   "outputs": [],
   "source": []
  },
  {
   "cell_type": "code",
   "execution_count": null,
   "metadata": {},
   "outputs": [],
   "source": [
    "pygui(true)\n",
    "plot3D(X,Y,Z, zdir=\"z\", marker=\".\", linestyle=\"none\")\n",
    "xlim(0, 0.001)\n",
    "ylim(0,1)\n",
    "zlim(0,1);"
   ]
  },
  {
   "cell_type": "markdown",
   "metadata": {
    "collapsed": true
   },
   "source": [
    "### Sampling auf der Sphäre"
   ]
  },
  {
   "attachments": {
    "Spherical_Coordinates.png": {
     "image/png": "[encoded data removed]"
    }
   },
   "cell_type": "markdown",
   "metadata": {},
   "source": [
    "[<img src=\"attachment:Spherical_Coordinates.png\" alt=\"Sphärische Koordinaten\" width=\"300\"/>](https://de.wikipedia.org/wiki/Kugelkoordinaten)"
   ]
  },
  {
   "cell_type": "markdown",
   "metadata": {},
   "source": [
    "Definitionen: $\\quad \\theta$ polarer Winkel, $\\quad \\phi$ azimutaler Winkel, $\\quad r=1$ Radius\n",
    "\n",
    "Koordinaten:\n",
    "\n",
    "$\\quad x = \\sin(\\phi) \\cdot \\cos(\\theta)$\n",
    "\n",
    "$\\quad y = \\sin(\\phi) \\cdot \\sin(\\theta)$\n",
    "\n",
    "$\\quad z = \\cos(\\phi)$"
   ]
  },
  {
   "cell_type": "markdown",
   "metadata": {},
   "source": [
    "### Verfahren 1 &mdash; zufälliger polarer und azimutaler Winkel"
   ]
  },
  {
   "cell_type": "code",
   "execution_count": null,
   "metadata": {},
   "outputs": [],
   "source": []
  },
  {
   "cell_type": "code",
   "execution_count": null,
   "metadata": {},
   "outputs": [],
   "source": []
  },
  {
   "cell_type": "code",
   "execution_count": null,
   "metadata": {},
   "outputs": [],
   "source": [
    "# Display settings\n",
    "fig = figure()\n",
    "fig.canvas.manager.window.move(50,125)\n",
    "gcf().set_size_inches(14, 16)\n",
    "gcf().clf()\n",
    "gcf().set_facecolor(\"white\")\n",
    "\n",
    "# 3D Plot\n",
    "plot3D(X,Y,Z, zdir=\"z\", marker=\".\", linestyle=\"none\")\n",
    "axis(\"off\");"
   ]
  },
  {
   "cell_type": "markdown",
   "metadata": {},
   "source": [
    "### Verfahren 2 &mdash; zufällige z-Koordinate und polarer Winkel"
   ]
  },
  {
   "cell_type": "code",
   "execution_count": null,
   "metadata": {},
   "outputs": [],
   "source": [
    "function sample_sphere2(N)\n",
    "    x = Float64[]\n",
    "    y = Float64[]\n",
    "    z = Float64[]\n",
    "    \n",
    "    for i in 1:N\n",
    "        θ = rand()*2*π\n",
    "        zz = -1+2*rand()\n",
    "        \n",
    "        push!(x, sqrt(1-zz*zz)*cos(θ))\n",
    "        push!(y, sqrt(1-zz*zz)*sin(θ))\n",
    "        push!(z, zz)\n",
    "    end\n",
    "    return x,y,z\n",
    "end"
   ]
  },
  {
   "cell_type": "code",
   "execution_count": null,
   "metadata": {},
   "outputs": [],
   "source": [
    "X,Y,Z = sample_sphere2(2000);"
   ]
  },
  {
   "cell_type": "code",
   "execution_count": null,
   "metadata": {},
   "outputs": [],
   "source": [
    "# Display settings\n",
    "fig = figure()\n",
    "fig.canvas.manager.window.move(50,125)\n",
    "gcf().set_size_inches(14, 16)\n",
    "gcf().clf()\n",
    "gcf().set_facecolor(\"white\")\n",
    "\n",
    "# 3D Plot\n",
    "plot3D(X,Y,Z, zdir=\"z\", marker=\".\", linestyle=\"none\")\n",
    "axis(\"off\");"
   ]
  },
  {
   "cell_type": "code",
   "execution_count": null,
   "metadata": {},
   "outputs": [],
   "source": []
  }
 ],
 "metadata": {
  "@webio": {
   "lastCommId": null,
   "lastKernelId": null
  },
  "kernelspec": {
   "display_name": "Julia 1.4.2",
   "language": "julia",
   "name": "julia-1.4"
  },
  "language_info": {
   "file_extension": ".jl",
   "mimetype": "application/julia",
   "name": "julia",
   "version": "1.4.2"
  }
 },
 "nbformat": 4,
 "nbformat_minor": 1
}
